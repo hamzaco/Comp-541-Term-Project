{
 "cells": [
  {
   "cell_type": "code",
   "execution_count": 71,
   "metadata": {},
   "outputs": [
    {
     "ename": "LoadError",
     "evalue": "ArgumentError: Package LinAlg not found in current path:\n- Run `import Pkg; Pkg.add(\"LinAlg\")` to install the LinAlg package.\n",
     "output_type": "error",
     "traceback": [
      "ArgumentError: Package LinAlg not found in current path:\n- Run `import Pkg; Pkg.add(\"LinAlg\")` to install the LinAlg package.\n",
      "",
      "Stacktrace:",
      " [1] require(::Module, ::Symbol) at .\\loading.jl:893",
      " [2] include_string(::Function, ::Module, ::String, ::String) at .\\loading.jl:1091",
      " [3] execute_code(::String, ::String) at C:\\Users\\Lenovo\\.julia\\packages\\IJulia\\rWZ9e\\src\\execute_request.jl:27",
      " [4] execute_request(::ZMQ.Socket, ::IJulia.Msg) at C:\\Users\\Lenovo\\.julia\\packages\\IJulia\\rWZ9e\\src\\execute_request.jl:86",
      " [5] #invokelatest#1 at .\\essentials.jl:710 [inlined]",
      " [6] invokelatest at .\\essentials.jl:709 [inlined]",
      " [7] eventloop(::ZMQ.Socket) at C:\\Users\\Lenovo\\.julia\\packages\\IJulia\\rWZ9e\\src\\eventloop.jl:8",
      " [8] (::IJulia.var\"#15#18\")() at .\\task.jl:356"
     ]
    }
   ],
   "source": [
    "using Knet: Knet, dir, accuracy, progress, sgd, load, save, gc, Param, KnetArray, Data, minibatch, nll, relu, training, dropout\n",
    "using Statistics\n",
    "using Plots\n",
    "using CUDA\n",
    "using Random\n",
    "using LinearAlgebra"
   ]
  },
  {
   "cell_type": "code",
   "execution_count": 110,
   "metadata": {},
   "outputs": [],
   "source": [
    "bids=[\"PA\",\n",
    "  \"1C\", \"1D\", \"1H\", \"1S\", \"1N\",\n",
    "  \"2C\", \"2D\", \"2H\", \"2S\", \"2N\",\n",
    "  \"3C\", \"3D\", \"3H\", \"3S\", \"3N\",\n",
    "  \"4C\", \"4D\", \"4H\", \"4S\", \"4N\",\n",
    "  \"5C\", \"5D\", \"5H\", \"5S\", \"5N\",\n",
    "  \"6C\", \"6D\", \"6H\", \"6S\", \"6N\",\n",
    "  \"7C\", \"7D\", \"7H\", \"7S\", \"7N\"];\n",
    "\n",
    "doubled_score=\n",
    "[[0   ,  100,  300,  500,  800, 1100, 1400, 1700,\n",
    "2000, 2300, 2600, 2900, 3200, 3500],\n",
    "  [0   ,  200,  500,  800, 1100, 1400, 1700, 2000,\n",
    "    2300, 2600, 2900, 3200, 3500, 3800]];\n"
   ]
  },
  {
   "cell_type": "code",
   "execution_count": 33,
   "metadata": {},
   "outputs": [
    {
     "data": {
      "text/plain": [
       "2×2 KnetArray{Float32,2}:\n",
       " -0.615664  -0.890019\n",
       "  0.68984   -0.164766"
      ]
     },
     "execution_count": 33,
     "metadata": {},
     "output_type": "execute_result"
    }
   ],
   "source": [
    "value(param(2,2))"
   ]
  },
  {
   "cell_type": "markdown",
   "metadata": {},
   "source": [
    "Hands are represented with 52-bit vectors and bidding history with 36-bit vectors."
   ]
  },
  {
   "cell_type": "code",
   "execution_count": 106,
   "metadata": {},
   "outputs": [
    {
     "data": {
      "text/plain": [
       "human_readable (generic function with 1 method)"
      ]
     },
     "execution_count": 106,
     "metadata": {},
     "output_type": "execute_result"
    }
   ],
   "source": [
    "## entries:   (1 2 3 4 5 6 7 8 9 10 11 12 13)--> spades 14 15 16 17 18 19 20 21 22 23 24 25 26\n",
    "## correspnds (2 3 4 5 6 7 8 9 T  J  Q  K  A).. so on\n",
    "\n",
    "function random_hand(;remaining=ones(52,1)) #input: remaininn deal,  output: a random hand \n",
    "    cards_in_deal=[j for j in 1:52 if remaining[j]==1]\n",
    "    shuffle!(cards_in_deal)\n",
    "    hand= [ifelse(j in cards_in_deal[1:13],1,0) for j in 1:52];\n",
    "    return hand\n",
    "end\n",
    "\n",
    "function random_deal(hands=[])\n",
    "    remaining = ones(52,1);\n",
    "    all_hands=zeros(52,4)\n",
    "    for i in 1:length(hands)                #write given pre-dealt hands\n",
    "            remaining = remaining-hands[i];\n",
    "            all_hands[:,i]=hands[i]\n",
    "    end\n",
    "    generated_hands=4-length(hands)\n",
    "    for i in 1:generated_hands              #generate remaining hands\n",
    "        hand=random_hand(remaining=remaining)\n",
    "        remaining = remaining-hand;\n",
    "        all_hands[:,i+length(hands)]=hand\n",
    "    end\n",
    "    \n",
    "    return all_hands #returns 52x4 matrix each column is a hand, they are in order as N,S,E,W\n",
    "end\n",
    "\n",
    "\n",
    "#features\n",
    "\n",
    "function hcp_of(hand;suit_seperated=false) #calculates the HCP of a hand both total or suit seperated\n",
    "    points=[1,2,3,4]\n",
    "    if suit_seperated\n",
    "        return [dot(points,hand[10:13]),dot(points,hand[23:26]),dot(points,hand[36:39]),dot(points,hand[49:52])]\n",
    "    end\n",
    "    honours=hand[10:13]+hand[23:26]+hand[36:39]+hand[49:52]\n",
    "    return dot(honours,points)\n",
    "end\n",
    "\n",
    "function distribution_of(hand) #returns the card number of each suit in the order S,H,D,C\n",
    "   return [sum(hand[1:13]),sum(hand[14:26]),sum(hand[27:39]),sum(hand[40:52])] \n",
    "end\n",
    "\n",
    "#tools\n",
    "\n",
    "function human_readable(hand)\n",
    "    to_cards=[\"2\",\"3\",\"4\",\"5\",\"6\",\"7\",\"8\",\"9\",\"T\",\"J\",\"Q\",\"K\",\"A\"]\n",
    "    suits=[]\n",
    "    for i in 1:4\n",
    "        suit=hand[13*(i-1)+1:13*i]\n",
    "        cards= [to_cards[j] for j in 13:-1:1 if suit[j]==1]\n",
    "        push!(suits,join(cards))\n",
    "    end\n",
    "    return suits\n",
    "end\n"
   ]
  },
  {
   "cell_type": "code",
   "execution_count": 108,
   "metadata": {},
   "outputs": [
    {
     "data": {
      "text/plain": [
       "4-element Array{Any,1}:\n",
       " \"QJT2\"\n",
       " \"5\"\n",
       " \"AKQ4\"\n",
       " \"AQT7\""
      ]
     },
     "execution_count": 108,
     "metadata": {},
     "output_type": "execute_result"
    }
   ],
   "source": [
    "a=random_hand()\n",
    "hcp_of(a,suit_seperated= false)\n",
    "human_readable(a)"
   ]
  },
  {
   "cell_type": "code",
   "execution_count": 42,
   "metadata": {},
   "outputs": [
    {
     "name": "stdout",
     "output_type": "stream",
     "text": [
      "(\"128×52 Param{KnetArray{Float32,2}}\", \"128-element Param{KnetArray{Float32,1}}\")\n",
      "(\"128×128 Param{KnetArray{Float32,2}}\", \"128-element Param{KnetArray{Float32,1}}\")\n",
      "(\"128×128 Param{KnetArray{Float32,2}}\", \"128-element Param{KnetArray{Float32,1}}\")\n",
      "(\"36×128 Param{KnetArray{Float32,2}}\", \"36-element Param{KnetArray{Float32,1}}\")\n"
     ]
    }
   ],
   "source": [
    "struct Chain\n",
    "    layers\n",
    "    Chain(layers...) = new(layers)\n",
    "end\n",
    "(c::Chain)(x) = (for l in c.layers; x = l(x); end; x)\n",
    "(c::Chain)(x,y) = loss(c(x),y)\n",
    "(c::Chain)(d::Data) = mean(c(x,y) for (x,y) in d)\n",
    "\n",
    "struct Dense\n",
    "    w;\n",
    "    b;\n",
    "    f;\n",
    "end\n",
    "\n",
    "Dense(i::Int,o::Int,f=relu) = Dense(param(o,i),param0(o),f)\n",
    "(l::Dense)(x) = l.f.(l.w * x .+ l.b)\n",
    "\n",
    "dnn_init=Chain(Dense(52,128),Dense(128,128),Dense(128,128),Dense(128,36,identity));\n",
    "dnn=Chain(Dense(52+36,128),Dense(128,128),Dense(128,128),Dense(128,36,identity));\n",
    "println.(summary.((l.w,l.b)) for l in dnn_init.layers);\n"
   ]
  },
  {
   "cell_type": "code",
   "execution_count": null,
   "metadata": {},
   "outputs": [],
   "source": []
  },
  {
   "cell_type": "code",
   "execution_count": null,
   "metadata": {},
   "outputs": [],
   "source": []
  }
 ],
 "metadata": {
  "@webio": {
   "lastCommId": null,
   "lastKernelId": null
  },
  "kernelspec": {
   "display_name": "Julia 1.5.2",
   "language": "julia",
   "name": "julia-1.5"
  },
  "language_info": {
   "file_extension": ".jl",
   "mimetype": "application/julia",
   "name": "julia",
   "version": "1.5.2"
  }
 },
 "nbformat": 4,
 "nbformat_minor": 4
}
