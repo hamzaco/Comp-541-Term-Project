{
 "cells": [
  {
   "cell_type": "code",
   "execution_count": null,
   "metadata": {},
   "outputs": [],
   "source": [
    "using Knet: Knet, dir, accuracy, progress, sgd, load, save, gc, Param, KnetArray, Data, minibatch, nll, relu, training, dropout\n",
    "using Statistics\n",
    "using CUDA\n",
    "using Random\n",
    "using LinearAlgebra\n",
    "using Knet\n",
    "using Plots; default(fmt=:png,ls=:auto)\n",
    "using ProgressBars\n",
    "using NBInclude\n",
    "using BSON: @save, @load"
   ]
  },
  {
   "cell_type": "code",
   "execution_count": null,
   "metadata": {},
   "outputs": [],
   "source": [
    "if CUDA.functional()\n",
    "    atype = KnetArray{Float32};\n",
    "else\n",
    "    atype = Array{Float32};\n",
    "end"
   ]
  },
  {
   "cell_type": "markdown",
   "metadata": {},
   "source": [
    "# Random Deals and Hand Features\n",
    "Hands are represented with 52-bit vectors and bidding history with 36-bit vectors."
   ]
  },
  {
   "cell_type": "code",
   "execution_count": null,
   "metadata": {},
   "outputs": [],
   "source": [
    "@nbinclude(\"deal_features.ipynb\")"
   ]
  },
  {
   "cell_type": "markdown",
   "metadata": {},
   "source": [
    "# Deep Q-network Model"
   ]
  },
  {
   "cell_type": "code",
   "execution_count": null,
   "metadata": {},
   "outputs": [],
   "source": [
    "@nbinclude(\"model.ipynb\")\n"
   ]
  },
  {
   "cell_type": "code",
   "execution_count": null,
   "metadata": {},
   "outputs": [],
   "source": [
    "function init()\n",
    "    Q1=Chain(Dense(52,128),Dense(128,128),Dense(128,128),Dense(128,36,identity));\n",
    "    Q2=Chain(Dense(52+36,128),Dense(128,128),Dense(128,128),Dense(128,36,identity));\n",
    "    Q3=Chain(Dense(52+36,128),Dense(128,128),Dense(128,128),Dense(128,36,identity));\n",
    "    Q4=Chain(Dense(52+36,128),Dense(128,128),Dense(128,128),Dense(128,36,identity));\n",
    "    Q5=Chain(Dense(52+36,128),Dense(128,128),Dense(128,128),Dense(128,36,identity));\n",
    "    Q6=Chain(Dense(52+36,128),Dense(128,128),Dense(128,128),Dense(128,36,identity));\n",
    "    Q=[Q1,Q2,Q3,Q4,Q5,Q6];\n",
    "    return Q\n",
    "end"
   ]
  },
  {
   "cell_type": "code",
   "execution_count": null,
   "metadata": {},
   "outputs": [],
   "source": [
    "#hyper parameters\n",
    "epsilon_greedy=0.05;\n",
    "turn_depth=6;\n",
    "learning_rate=0.1;\n",
    "batch_size=50;\n",
    "instance_size=1000;"
   ]
  },
  {
   "cell_type": "markdown",
   "metadata": {},
   "source": [
    "# Hand Reading From txt\n"
   ]
  },
  {
   "cell_type": "markdown",
   "metadata": {},
   "source": [
    "Generate a data instance from a PBN-formatted txt "
   ]
  },
  {
   "cell_type": "code",
   "execution_count": null,
   "metadata": {},
   "outputs": [],
   "source": [
    "@nbinclude(\"hand_reading.ipynb\")\n",
    "\n",
    "file= open(\"deals.txt\",\"r\");\n",
    "lines=readlines(file);\n",
    "deal_data=[]\n",
    "for deal in lines\n",
    "    north=PBN_to_vector(deal[18:33])\n",
    "    south=PBN_to_vector(deal[52:67])\n",
    "    costs=PBN_to_cost(deal[69:end])\n",
    "    push!(deal_data,(north,south,costs))\n",
    "\n",
    "end\n",
    "l=20000\n",
    "training_set=deal_data[1:end];\n",
    "#test_set=deal_data[l+1:end];\n"
   ]
  },
  {
   "cell_type": "markdown",
   "metadata": {},
   "source": [
    "# Main Learning Algorithm"
   ]
  },
  {
   "cell_type": "code",
   "execution_count": null,
   "metadata": {},
   "outputs": [],
   "source": [
    "@nbinclude(\"target_determine.ipynb\")\n",
    "@nbinclude(\"explore.ipynb\")\n",
    "@nbinclude(\"bid_functions.ipynb\")"
   ]
  },
  {
   "cell_type": "code",
   "execution_count": null,
   "metadata": {},
   "outputs": [],
   "source": [
    "function train!(Q,training_set;iteration_size=1000,progress=true,epsilon_greedy=0.05, batchsize=50,learning_rate=0.1,periods=10,turn_depth=6)\n",
    "    push!(history_of_Q,deepcopy(Q));\n",
    "    if progress\n",
    "        iterator= ProgressBar(1:iteration_size)\n",
    "    else\n",
    "        iterator= 1:iteration_size;\n",
    "    end\n",
    "    for i in iterator\n",
    "        bid!(Q,training_set[rand(1:end)],database_state_training,database_target_training,epsilon_greedy);\n",
    "        #Experience Replay\n",
    "        next=[];\n",
    "        for t in 1:6\n",
    "            temp=deepcopy(database_state_training[t]);\n",
    "            if size(temp,1)>2000\n",
    "                push!(next,temp[size(temp,1)-1000:end]);\n",
    "            else\n",
    "                push!(next,temp);\n",
    "            end\n",
    "        end\n",
    "        \n",
    "        database_state_training.=next;\n",
    "        next=[];\n",
    "        \n",
    "        for t in 1:6\n",
    "            temp=deepcopy(database_target_training[t]);\n",
    "            if size(temp,1)>2000\n",
    "                push!(next,temp[size(temp,1)-1000:end]);\n",
    "            else\n",
    "                push!(next,temp);\n",
    "            end\n",
    "        end\n",
    "        database_target_training.=next;\n",
    "        for t in 1:turn_depth\n",
    "            copy_database_target=deepcopy(database_target_training[t]);\n",
    "            copy_database_state=deepcopy(database_state_training[t]);\n",
    "            data=minibatch(hcat(copy_database_state...),hcat(copy_database_target...),batch_size,shuffle=true);\n",
    "            if summary(data)[1]=='0'#if no minibatch\n",
    "            else\n",
    "                Knet.rmsprop!(Q[t],data);\n",
    "            end\n",
    "        end\n",
    "        if i%periods==0\n",
    "            println(i)\n",
    "            push!(history_of_Q,deepcopy(Q));\n",
    "        end\n",
    "    end\n",
    "end\n",
    "\n",
    "    "
   ]
  },
  {
   "cell_type": "code",
   "execution_count": null,
   "metadata": {},
   "outputs": [],
   "source": [
    "Q=[]\n",
    "push!(Q,Knet.load(\"models.jld2\",\"q_network1\"))\n",
    "push!(Q,Knet.load(\"models.jld2\",\"q_network2\"))\n",
    "push!(Q,Knet.load(\"models.jld2\",\"q_network3\"))\n",
    "push!(Q,Knet.load(\"models.jld2\",\"q_network4\"))\n",
    "push!(Q,Knet.load(\"models.jld2\",\"q_network5\"))\n",
    "push!(Q,Knet.load(\"models.jld2\",\"q_network6\"))"
   ]
  },
  {
   "cell_type": "code",
   "execution_count": null,
   "metadata": {},
   "outputs": [
    {
     "name": "stdout",
     "output_type": "stream",
     "text": [
      "13600\n"
     ]
    }
   ],
   "source": [
    "database_target_training=[[],[],[],[],[],[]];\n",
    "database_state_training=[[],[],[],[],[],[]];\n",
    "history_of_Q=[]\n",
    "train!(Q,training_set,iteration_size=50000,progress=false,periods=100);\n",
    "Knet.save(\"models.jld2\",\"q_network1\", Q[1],\"q_network2\", Q[2],\"q_network3\", \n",
    "    Q[3],\"q_network4\", Q[4],\"q_network5\", Q[5],\"q_network6\", Q[6])"
   ]
  },
  {
   "cell_type": "code",
   "execution_count": null,
   "metadata": {},
   "outputs": [],
   "source": [
    "n,s,bidding,q_values,target=bid(Q,training_set[rand(1:end)],debug=true)\n",
    "println(human_readable(n))\n",
    "println(human_readable(s))\n",
    "for i in 1:36\n",
    "    if bidding[i]==1\n",
    "        println(bids[i])\n",
    "    end\n",
    "end\n"
   ]
  },
  {
   "cell_type": "code",
   "execution_count": null,
   "metadata": {},
   "outputs": [],
   "source": []
  },
  {
   "cell_type": "code",
   "execution_count": null,
   "metadata": {},
   "outputs": [],
   "source": [
    "t=3\n",
    "plot(Array(-(q_values[t].-1)),label=\"1-Q value\", xlabel= \"Bid\")\n",
    "plot!(Array(target[t]),label=\"Cost\", xlabel= \"Bid\")"
   ]
  },
  {
   "cell_type": "markdown",
   "metadata": {},
   "source": [
    "# Calculate and Plot the Average Losses of every Epoch"
   ]
  },
  {
   "cell_type": "code",
   "execution_count": null,
   "metadata": {},
   "outputs": [],
   "source": [
    "test_losses=[[],[],[],[],[],[]];\n",
    "train_losses=[[],[],[],[],[],[]];\n",
    "\n",
    "for epoch in ProgressBar(history_of_Q)\n",
    "    database_state, database_target= bid_to_the_end(epoch,training_set,100)\n",
    "    database_state_test, database_target_test= bid_to_the_end(epoch,test_set,100)\n",
    "    for i in 1:6\n",
    "        data=minibatch(hcat(database_state[i]...),hcat(database_target[i]...),batch_size,shuffle=true,partial=true);\n",
    "        push!(train_losses[i],epoch[i](first(data)));\n",
    "        data=minibatch(hcat(database_state_test[i]...),hcat(database_target_test[i]...),batch_size,shuffle=true,partial=true);\n",
    "        push!(test_losses[i],epoch[i](first(data)));\n",
    "        \n",
    "    end\n",
    "end"
   ]
  },
  {
   "cell_type": "code",
   "execution_count": null,
   "metadata": {},
   "outputs": [],
   "source": [
    "test_losses"
   ]
  },
  {
   "cell_type": "code",
   "execution_count": null,
   "metadata": {},
   "outputs": [],
   "source": [
    "# Comparison to MLP shows faster convergence, better generalization\n",
    "plot(test_losses[1],label=\"Test 1\",xlabel=\"Epochs\",ylabel=\"Loss\")\n",
    "plot!(train_losses[1],label=\"Train 1\",xlabel=\"Epochs\",ylabel=\"Loss\")\n",
    "plot!(test_losses[2],label=\"Test 2\",xlabel=\"Epochs\",ylabel=\"Loss\")\n",
    "plot!(train_losses[2],label=\"Train 2\",xlabel=\"Epochs\",ylabel=\"Loss\")\n",
    "plot!(test_losses[3],label=\"Test 3\",xlabel=\"Epochs\",ylabel=\"Loss\")\n",
    "plot!(train_losses[3],label=\"Train 3\",xlabel=\"Epochs\",ylabel=\"Loss\")\n",
    "plot!(test_losses[4],label=\"Test 4\",xlabel=\"Epochs\",ylabel=\"Loss\")\n",
    "plot!(train_losses[4],label=\"Train 4\",xlabel=\"Epochs\",ylabel=\"Loss\")\n",
    "plot!(test_losses[5],label=\"Test 5\",xlabel=\"Epochs\",ylabel=\"Loss\")\n",
    "plot!(train_losses[5],label=\"Train 5\",xlabel=\"Epochs\",ylabel=\"Loss\")\n",
    "plot!(test_losses[6],label=\"Test 6\",xlabel=\"Epochs\",ylabel=\"Loss\")\n",
    "plot!(train_losses[6],label=\"Train 6\",xlabel=\"Epochs\",ylabel=\"Loss\",ylims=(0, 0.5))"
   ]
  },
  {
   "cell_type": "markdown",
   "metadata": {},
   "source": [
    "# Opening bid with a random hand"
   ]
  },
  {
   "cell_type": "code",
   "execution_count": null,
   "metadata": {},
   "outputs": [],
   "source": [
    "example_bids=[]\n",
    "sample_size=1000\n",
    "for i in 1:sample_size\n",
    "    state= deal_data[rand(1:end)]\n",
    "    current_bid=1\n",
    "    action=explore(Q[1],atype(state[1]),current_bid,0)\n",
    "    push!(example_bids,(state[1],action,state[2],state[3]))\n",
    "end"
   ]
  },
  {
   "cell_type": "code",
   "execution_count": null,
   "metadata": {},
   "outputs": [],
   "source": [
    "instance=example_bids[rand(1:end)]\n",
    "println(human_readable(instance[1]))\n",
    "println(human_readable(instance[3]))\n",
    "println(instance[4][:,1])\n",
    "println(bids[instance[2]])\n",
    "println(bids[maximum(findall(x->x==0,instance[4][:,1]))])"
   ]
  }
 ],
 "metadata": {
  "@webio": {
   "lastCommId": null,
   "lastKernelId": null
  },
  "kernelspec": {
   "display_name": "Julia 1.5.3",
   "language": "julia",
   "name": "julia-1.5"
  },
  "language_info": {
   "file_extension": ".jl",
   "mimetype": "application/julia",
   "name": "julia",
   "version": "1.5.3"
  }
 },
 "nbformat": 4,
 "nbformat_minor": 4
}
