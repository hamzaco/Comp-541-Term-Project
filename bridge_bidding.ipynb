{
 "cells": [
  {
   "cell_type": "code",
   "execution_count": 92,
   "metadata": {},
   "outputs": [],
   "source": [
    "using Knet: Knet, dir, accuracy, progress, sgd, load, save, gc, Param, KnetArray, Data, minibatch, nll, relu, training, dropout\n",
    "using Statistics\n",
    "using Plots\n",
    "using CUDA\n",
    "using Random\n",
    "using LinearAlgebra\n",
    "using Knet\n",
    "\n",
    "atype = KnetArray{Float32};"
   ]
  },
  {
   "cell_type": "code",
   "execution_count": 93,
   "metadata": {},
   "outputs": [],
   "source": [
    "bids=[\"PA\",\n",
    "  \"1C\", \"1D\", \"1H\", \"1S\", \"1N\",\n",
    "  \"2C\", \"2D\", \"2H\", \"2S\", \"2N\",\n",
    "  \"3C\", \"3D\", \"3H\", \"3S\", \"3N\",\n",
    "  \"4C\", \"4D\", \"4H\", \"4S\", \"4N\",\n",
    "  \"5C\", \"5D\", \"5H\", \"5S\", \"5N\",\n",
    "  \"6C\", \"6D\", \"6H\", \"6S\", \"6N\",\n",
    "  \"7C\", \"7D\", \"7H\", \"7S\", \"7N\"];\n",
    "\n",
    "doubled_score=\n",
    "[[0   ,  100,  300,  500,  800, 1100, 1400, 1700,\n",
    "2000, 2300, 2600, 2900, 3200, 3500],\n",
    "  [0   ,  200,  500,  800, 1100, 1400, 1700, 2000,\n",
    "    2300, 2600, 2900, 3200, 3500, 3800]];\n"
   ]
  },
  {
   "cell_type": "markdown",
   "metadata": {},
   "source": [
    "# Random Deals and Hand Features\n",
    "Hands are represented with 52-bit vectors and bidding history with 36-bit vectors."
   ]
  },
  {
   "cell_type": "code",
   "execution_count": 94,
   "metadata": {},
   "outputs": [
    {
     "data": {
      "text/plain": [
       "human_readable (generic function with 1 method)"
      ]
     },
     "execution_count": 94,
     "metadata": {},
     "output_type": "execute_result"
    }
   ],
   "source": [
    "## entries:   (1 2 3 4 5 6 7 8 9 10 11 12 13)--> spades 14 15 16 17 18 19 20 21 22 23 24 25 26\n",
    "## correspnds (2 3 4 5 6 7 8 9 T  J  Q  K  A).. so on\n",
    "\n",
    "function random_hand(;remaining=ones(52,1)) #input: remaininn deal,  output: a random hand \n",
    "    cards_in_deal=[j for j in 1:52 if remaining[j]==1]\n",
    "    shuffle!(cards_in_deal)\n",
    "    hand= [ifelse(j in cards_in_deal[1:13],1,0) for j in 1:52];\n",
    "    return hand\n",
    "end\n",
    "\n",
    "function random_deal(hands=[])\n",
    "    remaining = ones(52,1);\n",
    "    all_hands=zeros(52,4)\n",
    "    for i in 1:length(hands)                #write given pre-dealt hands\n",
    "            remaining = remaining-hands[i];\n",
    "            all_hands[:,i]=hands[i]\n",
    "    end\n",
    "    generated_hands=4-length(hands)\n",
    "    for i in 1:generated_hands              #generate remaining hands\n",
    "        hand=random_hand(remaining=remaining)\n",
    "        remaining = remaining-hand;\n",
    "        all_hands[:,i+length(hands)]=hand\n",
    "    end\n",
    "    \n",
    "    return all_hands #returns 52x4 matrix each column is a hand, they are in order as N,S,E,W\n",
    "end\n",
    "\n",
    "\n",
    "\n",
    "#features\n",
    "\n",
    "function hcp_of(hand;suit_seperated=false) #calculates the HCP of a hand both total or suit seperated\n",
    "    points=[1,2,3,4]\n",
    "    if suit_seperated\n",
    "        return [dot(points,hand[10:13]),dot(points,hand[23:26]),dot(points,hand[36:39]),dot(points,hand[49:52])]\n",
    "    end\n",
    "    honours=hand[10:13]+hand[23:26]+hand[36:39]+hand[49:52]\n",
    "    return dot(honours,points)\n",
    "end\n",
    "\n",
    "function distribution_of(hand) #returns the card number of each suit in the order S,H,D,C\n",
    "   return [sum(hand[1:13]),sum(hand[14:26]),sum(hand[27:39]),sum(hand[40:52])] \n",
    "end\n",
    "\n",
    "#tools\n",
    "\n",
    "function human_readable(hand)\n",
    "    to_cards=[\"2\",\"3\",\"4\",\"5\",\"6\",\"7\",\"8\",\"9\",\"T\",\"J\",\"Q\",\"K\",\"A\"]\n",
    "    suits=[]\n",
    "    for i in 1:4\n",
    "        suit=hand[13*(i-1)+1:13*i]\n",
    "        cards= [to_cards[j] for j in 13:-1:1 if suit[j]==1]\n",
    "        push!(suits,join(cards))\n",
    "    end\n",
    "    return suits\n",
    "end\n"
   ]
  },
  {
   "cell_type": "markdown",
   "metadata": {},
   "source": [
    "# Deep Q-network Model"
   ]
  },
  {
   "cell_type": "code",
   "execution_count": 96,
   "metadata": {},
   "outputs": [
    {
     "name": "stdout",
     "output_type": "stream",
     "text": [
      "(\"128×52 Param{KnetArray{Float32,2}}\", \"128-element Param{KnetArray{Float32,1}}\")\n",
      "(\"128×128 Param{KnetArray{Float32,2}}\", \"128-element Param{KnetArray{Float32,1}}\")\n",
      "(\"128×128 Param{KnetArray{Float32,2}}\", \"128-element Param{KnetArray{Float32,1}}\")\n",
      "(\"36×128 Param{KnetArray{Float32,2}}\", \"36-element Param{KnetArray{Float32,1}}\")\n"
     ]
    }
   ],
   "source": [
    "struct Chain\n",
    "    layers\n",
    "    Chain(layers...) = new(layers)\n",
    "end\n",
    "(c::Chain)(x) = (for l in c.layers; x = l(x); end; x)\n",
    "(c::Chain)(x,y) = loss(c(x),y)\n",
    "(c::Chain)(d::Data) = mean(c(x,y) for (x,y) in d)\n",
    "\n",
    "struct Dense\n",
    "    w;\n",
    "    b;\n",
    "    f;\n",
    "end\n",
    "\n",
    "Dense(i::Int,o::Int,f=relu) = Dense(param(o,i),param0(o),f)\n",
    "(l::Dense)(x) = (l.w * x .+ l.b)\n",
    "\n",
    "dnn_init=Chain(Dense(52,128),Dense(128,128),Dense(128,128),Dense(128,36,identity));\n",
    "dnn=Chain(Dense(52+36,128),Dense(128,128),Dense(128,128),Dense(128,36,identity));\n",
    "println.(summary.((l.w,l.b)) for l in dnn_init.layers);\n"
   ]
  },
  {
   "cell_type": "code",
   "execution_count": 97,
   "metadata": {},
   "outputs": [],
   "source": [
    "function loss(Q_value,cost)\n",
    "    return mean((Q_value+cost.-1).^2)/2\n",
    "end\n",
    "\n",
    "\n",
    "function (c::Chain)(state,cost)\n",
    "   return loss(c(state),cost) \n",
    "end\n",
    "\n",
    "function (c::Chain)(d::Data)\n",
    "   return mean(c(x,y) for (x,y) in data)\n",
    "end\n",
    "    "
   ]
  },
  {
   "cell_type": "code",
   "execution_count": 98,
   "metadata": {},
   "outputs": [
    {
     "data": {
      "text/plain": [
       "sgdupdate! (generic function with 1 method)"
      ]
     },
     "execution_count": 98,
     "metadata": {},
     "output_type": "execute_result"
    }
   ],
   "source": [
    "function sgdupdate!(func, args; lr=0.1)\n",
    "    fval = @diff func(args...)\n",
    "    for param in params(fval)\n",
    "        ∇param = grad(fval, param)\n",
    "        param .-= lr * ∇param\n",
    "    end\n",
    "    return value(fval)\n",
    "end"
   ]
  },
  {
   "cell_type": "code",
   "execution_count": null,
   "metadata": {},
   "outputs": [],
   "source": [
    "Q1=Chain(Dense(52,128),Dense(128,128),Dense(128,128),Dense(128,36,identity));\n",
    "Q2=Chain(Dense(52+36,128),Dense(128,128),Dense(128,128),Dense(128,36,identity));\n",
    "Q3=Chain(Dense(52+36,128),Dense(128,128),Dense(128,128),Dense(128,36,identity));\n",
    "Q4=Chain(Dense(52+36,128),Dense(128,128),Dense(128,128),Dense(128,36,identity));\n",
    "Q5=Chain(Dense(52+36,128),Dense(128,128),Dense(128,128),Dense(128,36,identity));\n",
    "Q6=Chain(Dense(52+36,128),Dense(128,128),Dense(128,128),Dense(128,36,identity));\n",
    "Q=[Q1,Q2,Q3,Q4,Q5,Q6];"
   ]
  },
  {
   "cell_type": "markdown",
   "metadata": {},
   "source": [
    "# Cost Array Calculation and Double Dummy Analysis (will be added)"
   ]
  },
  {
   "cell_type": "code",
   "execution_count": 99,
   "metadata": {},
   "outputs": [
    {
     "data": {
      "text/plain": [
       "generate_cost (generic function with 2 methods)"
      ]
     },
     "execution_count": 99,
     "metadata": {},
     "output_type": "execute_result"
    }
   ],
   "source": [
    "function generate_cost(hands_NS,random_trial=5;random_cost=false)\n",
    "    if random_cost\n",
    "        return rand(52,1)\n",
    "    end\n",
    "    costs=zeros(52,1)\n",
    "    for i in 1:random_trial\n",
    "        deal=random_deal(hands)\n",
    "        #---- generate cost vector here\n",
    "        \n",
    "        #-----\n",
    "        costs +=costs\n",
    "    end\n",
    "    return costs./random_trial\n",
    "end"
   ]
  },
  {
   "cell_type": "code",
   "execution_count": null,
   "metadata": {},
   "outputs": [],
   "source": [
    "function generate_random_instances(size)\n",
    "    data=Array{Float64,3}(undef,3,52,size)\n",
    "    for i in 1:size\n",
    "        deal=random_deal()\n",
    "        data[1,:,i]=deal[:,1]\n",
    "        data[2,:,i]=deal[:,2]\n",
    "        data[3,:,i]=generate_cost(deal[:,1:2],random_cost=true)\n",
    "    end\n",
    "    return data\n",
    "end\n",
    "    "
   ]
  },
  {
   "cell_type": "code",
   "execution_count": 228,
   "metadata": {},
   "outputs": [],
   "source": [
    "#hyper parameters\n",
    "epsilon_greedy=0.05;\n",
    "turn_depth=5;\n",
    "learning_rate=0.1;\n",
    "batch_size=50;\n",
    "instance_size=1000;"
   ]
  },
  {
   "cell_type": "markdown",
   "metadata": {},
   "source": [
    "# Baseline Algorithm"
   ]
  },
  {
   "cell_type": "code",
   "execution_count": 249,
   "metadata": {},
   "outputs": [
    {
     "data": {
      "text/plain": [
       "0.5076760429801829"
      ]
     },
     "execution_count": 249,
     "metadata": {},
     "output_type": "execute_result"
    }
   ],
   "source": [
    "instances = generate_random_instances(instance_size);\n",
    "costs=[]\n",
    "iteration_size=1000\n",
    "for i in 1:iteration_size\n",
    "    instance= instances[:,:,rand(1:instance_size)]; #choose a random deal\n",
    "    bidding_hist=zeros(36);\n",
    "    state=(instance[1,:],instance[2,:],bidding_hist); #not used in baseline just for convenience\n",
    "    \n",
    "    for t in 1:turn_depth\n",
    "        \n",
    "        if t==1\n",
    "            last_bid=1\n",
    "        else\n",
    "            last_bid=maximum(findall(x-> x==1,bidding_hist)) #the nature of an action\n",
    "        end\n",
    "        current_bid=rand(last_bid:36) #randomly bid a contract\n",
    "        if last_bid == current_bid #if current bid is pass\n",
    "            break;\n",
    "        end\n",
    "\n",
    "        bidding_hist[current_bid]=1;\n",
    "\n",
    "        state=(instance[1],instance[2],bidding_hist);\n",
    "    end\n",
    "    contract=1\n",
    "    try\n",
    "        contract=findall(x-> x==1,bidding_hist)[1]\n",
    "    catch\n",
    "        contract=1\n",
    "    end\n",
    "    cost=instance[3,contract]   # cost of declaring this contract\n",
    "    push!(costs,cost)\n",
    "end\n",
    "\n",
    "mean(costs)   # overall success of the baseline"
   ]
  },
  {
   "cell_type": "markdown",
   "metadata": {},
   "source": [
    "# Main Learning Algorithm"
   ]
  },
  {
   "cell_type": "code",
   "execution_count": 38,
   "metadata": {},
   "outputs": [
    {
     "ename": "LoadError",
     "evalue": "MethodError: no method matching *(::KnetArray{Float32,2}, ::Array{Float64,1})\nClosest candidates are:\n  *(::Any, ::Any, !Matched::Any, !Matched::Any...) at operators.jl:538\n  *(!Matched::Adjoint{var\"#s828\",var\"#s8281\"} where var\"#s8281\"<:(AbstractArray{T,1} where T) where var\"#s828\"<:Number, ::AbstractArray{var\"#s827\",1} where var\"#s827\"<:Number) at D:\\buildbot\\worker\\package_win64\\build\\usr\\share\\julia\\stdlib\\v1.5\\LinearAlgebra\\src\\adjtrans.jl:283\n  *(!Matched::Transpose{T,var\"#s828\"} where var\"#s828\"<:(AbstractArray{T,1} where T), ::AbstractArray{T,1}) where T<:Real at D:\\buildbot\\worker\\package_win64\\build\\usr\\share\\julia\\stdlib\\v1.5\\LinearAlgebra\\src\\adjtrans.jl:284\n  ...",
     "output_type": "error",
     "traceback": [
      "MethodError: no method matching *(::KnetArray{Float32,2}, ::Array{Float64,1})\nClosest candidates are:\n  *(::Any, ::Any, !Matched::Any, !Matched::Any...) at operators.jl:538\n  *(!Matched::Adjoint{var\"#s828\",var\"#s8281\"} where var\"#s8281\"<:(AbstractArray{T,1} where T) where var\"#s828\"<:Number, ::AbstractArray{var\"#s827\",1} where var\"#s827\"<:Number) at D:\\buildbot\\worker\\package_win64\\build\\usr\\share\\julia\\stdlib\\v1.5\\LinearAlgebra\\src\\adjtrans.jl:283\n  *(!Matched::Transpose{T,var\"#s828\"} where var\"#s828\"<:(AbstractArray{T,1} where T), ::AbstractArray{T,1}) where T<:Real at D:\\buildbot\\worker\\package_win64\\build\\usr\\share\\julia\\stdlib\\v1.5\\LinearAlgebra\\src\\adjtrans.jl:284\n  ...",
      "",
      "Stacktrace:",
      " [1] forw(::Function, ::Param{KnetArray{Float32,2}}, ::Vararg{Any,N} where N; kwargs::Base.Iterators.Pairs{Union{},Union{},Tuple{},NamedTuple{(),Tuple{}}}) at C:\\Users\\Lenovo\\.julia\\packages\\AutoGrad\\VFrAv\\src\\core.jl:66",
      " [2] forw at C:\\Users\\Lenovo\\.julia\\packages\\AutoGrad\\VFrAv\\src\\core.jl:65 [inlined]",
      " [3] *(::Param{KnetArray{Float32,2}}, ::Array{Float64,1}) at .\\none:0",
      " [4] (::Dense)(::Array{Float64,1}) at .\\In[5]:16",
      " [5] (::Chain)(::Array{Float64,1}) at .\\In[5]:5",
      " [6] top-level scope at .\\In[38]:5",
      " [7] include_string(::Function, ::Module, ::String, ::String) at .\\loading.jl:1091",
      " [8] execute_code(::String, ::String) at C:\\Users\\Lenovo\\.julia\\packages\\IJulia\\rWZ9e\\src\\execute_request.jl:27",
      " [9] execute_request(::ZMQ.Socket, ::IJulia.Msg) at C:\\Users\\Lenovo\\.julia\\packages\\IJulia\\rWZ9e\\src\\execute_request.jl:86",
      " [10] #invokelatest#1 at .\\essentials.jl:710 [inlined]",
      " [11] invokelatest at .\\essentials.jl:709 [inlined]",
      " [12] eventloop(::ZMQ.Socket) at C:\\Users\\Lenovo\\.julia\\packages\\IJulia\\rWZ9e\\src\\eventloop.jl:8",
      " [13] (::IJulia.var\"#15#18\")() at .\\task.jl:356"
     ]
    }
   ],
   "source": [
    "database=[]\n",
    "instances = generate_random_instances(instance_size);\n",
    "instance= instances[rand(1:end)]\n",
    "bidding_hist=zeros(36,1)\n",
    "state=(instance[1],instance[2],bidding_hist);\n",
    "\n",
    "\n",
    "for t in 1:turn_depth\n",
    "\n",
    "    cost=ones(36,1)*(-100)\n",
    "    # initialize the Q-network\n",
    "    if t==1\n",
    "        Q_values=Q[1](state[t%2+1])\n",
    "    else\n",
    "        Q_values=Q[i](vcat(state[t%2+1],state[3]))\n",
    "    end\n",
    "    #determine the cost vector \n",
    "    \n",
    "    b=findall(x->x==1,bidding_hist[i])\n",
    "    current_bid=maximum(b)\n",
    "    \n",
    "    \n",
    "    push!(database,)\n",
    "    \n",
    "    #exploration\n",
    "    \n",
    "    if rand()>epsilon_greedy\n",
    "        bids=findmax.(costs)\n",
    "    else\n",
    "        for j in 1:instance_size\n",
    "            bid= rand(current_bids[j]:36)\n",
    "        end\n",
    "    end\n",
    "    \n",
    "    # current bid is pass ----- how? parallel declerations\n",
    "    if bid== current_bid\n",
    "        break\n",
    "    end\n",
    "    costs[i,:,:]\n",
    "    bidding_hist[bid]=1\n",
    "end\n",
    "\n",
    "for t in 1:turn_depth\n",
    "    data=minibatch(states[1],costs[1],batch_size)\n",
    "    sgdupdate!(Q[t],data,lr=learning_rate)\n",
    "end\n",
    "\n",
    "\n",
    "    "
   ]
  },
  {
   "cell_type": "code",
   "execution_count": 109,
   "metadata": {},
   "outputs": [
    {
     "data": {
      "text/latex": [
       "\\begin{verbatim}\n",
       "minibatch(x, [y], batchsize; shuffle, partial, xtype, ytype, xsize, ysize)\n",
       "\\end{verbatim}\n",
       "Return an iterator of minibatches [(xi,yi)...] given data tensors x, y and batchsize.  \n",
       "\n",
       "The last dimension of x and y give the number of instances and should be equal. \\texttt{y} is optional, if omitted a sequence of \\texttt{xi} will be generated rather than \\texttt{(xi,yi)} tuples.  Use \\texttt{repeat(d,n)} for multiple epochs, \\texttt{Iterators.take(d,n)} for a partial epoch, and \\texttt{Iterators.cycle(d)} to cycle through the data forever (this can be used with \\texttt{converge}). If you need the iterator to continue from its last position when stopped early (e.g. by a break in a for loop), use \\texttt{Iterators.Stateful(d)} (by default the iterator would restart from the beginning).\n",
       "\n",
       "Keyword arguments:\n",
       "\n",
       "\\begin{itemize}\n",
       "\\item \\texttt{shuffle=false}: Shuffle the instances every epoch.\n",
       "\n",
       "\n",
       "\\item \\texttt{partial=false}: If true include the last partial minibatch < batchsize.\n",
       "\n",
       "\n",
       "\\item \\texttt{xtype=typeof(x)}: Convert xi in minibatches to this type.\n",
       "\n",
       "\n",
       "\\item \\texttt{ytype=typeof(y)}: Convert yi in minibatches to this type.\n",
       "\n",
       "\n",
       "\\item \\texttt{xsize=size(x)}: Convert xi in minibatches to this shape (with last dimension adjusted for batchsize).\n",
       "\n",
       "\n",
       "\\item \\texttt{ysize=size(y)}: Convert yi in minibatches to this shape (with last dimension adjusted for batchsize).\n",
       "\n",
       "\\end{itemize}\n"
      ],
      "text/markdown": [
       "```\n",
       "minibatch(x, [y], batchsize; shuffle, partial, xtype, ytype, xsize, ysize)\n",
       "```\n",
       "\n",
       "Return an iterator of minibatches [(xi,yi)...] given data tensors x, y and batchsize.  \n",
       "\n",
       "The last dimension of x and y give the number of instances and should be equal. `y` is optional, if omitted a sequence of `xi` will be generated rather than `(xi,yi)` tuples.  Use `repeat(d,n)` for multiple epochs, `Iterators.take(d,n)` for a partial epoch, and `Iterators.cycle(d)` to cycle through the data forever (this can be used with `converge`). If you need the iterator to continue from its last position when stopped early (e.g. by a break in a for loop), use `Iterators.Stateful(d)` (by default the iterator would restart from the beginning).\n",
       "\n",
       "Keyword arguments:\n",
       "\n",
       "  * `shuffle=false`: Shuffle the instances every epoch.\n",
       "  * `partial=false`: If true include the last partial minibatch < batchsize.\n",
       "  * `xtype=typeof(x)`: Convert xi in minibatches to this type.\n",
       "  * `ytype=typeof(y)`: Convert yi in minibatches to this type.\n",
       "  * `xsize=size(x)`: Convert xi in minibatches to this shape (with last dimension adjusted for batchsize).\n",
       "  * `ysize=size(y)`: Convert yi in minibatches to this shape (with last dimension adjusted for batchsize).\n"
      ],
      "text/plain": [
       "\u001b[36m  minibatch(x, [y], batchsize; shuffle, partial, xtype, ytype, xsize, ysize)\u001b[39m\n",
       "\n",
       "  Return an iterator of minibatches [(xi,yi)...] given data tensors x, y and\n",
       "  batchsize. \n",
       "\n",
       "  The last dimension of x and y give the number of instances and should be\n",
       "  equal. \u001b[36my\u001b[39m is optional, if omitted a sequence of \u001b[36mxi\u001b[39m will be generated rather\n",
       "  than \u001b[36m(xi,yi)\u001b[39m tuples. Use \u001b[36mrepeat(d,n)\u001b[39m for multiple epochs,\n",
       "  \u001b[36mIterators.take(d,n)\u001b[39m for a partial epoch, and \u001b[36mIterators.cycle(d)\u001b[39m to cycle\n",
       "  through the data forever (this can be used with \u001b[36mconverge\u001b[39m). If you need the\n",
       "  iterator to continue from its last position when stopped early (e.g. by a\n",
       "  break in a for loop), use \u001b[36mIterators.Stateful(d)\u001b[39m (by default the iterator\n",
       "  would restart from the beginning).\n",
       "\n",
       "  Keyword arguments:\n",
       "\n",
       "    •    \u001b[36mshuffle=false\u001b[39m: Shuffle the instances every epoch.\n",
       "\n",
       "    •    \u001b[36mpartial=false\u001b[39m: If true include the last partial minibatch <\n",
       "        batchsize.\n",
       "\n",
       "    •    \u001b[36mxtype=typeof(x)\u001b[39m: Convert xi in minibatches to this type.\n",
       "\n",
       "    •    \u001b[36mytype=typeof(y)\u001b[39m: Convert yi in minibatches to this type.\n",
       "\n",
       "    •    \u001b[36mxsize=size(x)\u001b[39m: Convert xi in minibatches to this shape (with last\n",
       "        dimension adjusted for batchsize).\n",
       "\n",
       "    •    \u001b[36mysize=size(y)\u001b[39m: Convert yi in minibatches to this shape (with last\n",
       "        dimension adjusted for batchsize)."
      ]
     },
     "execution_count": 109,
     "metadata": {},
     "output_type": "execute_result"
    }
   ],
   "source": [
    "@doc minibatch"
   ]
  },
  {
   "cell_type": "code",
   "execution_count": null,
   "metadata": {},
   "outputs": [],
   "source": []
  }
 ],
 "metadata": {
  "@webio": {
   "lastCommId": null,
   "lastKernelId": null
  },
  "kernelspec": {
   "display_name": "Julia 1.5.2",
   "language": "julia",
   "name": "julia-1.5"
  },
  "language_info": {
   "file_extension": ".jl",
   "mimetype": "application/julia",
   "name": "julia",
   "version": "1.5.2"
  }
 },
 "nbformat": 4,
 "nbformat_minor": 4
}
