{
 "cells": [
  {
   "cell_type": "code",
   "execution_count": 1,
   "metadata": {},
   "outputs": [],
   "source": [
    "using Knet: Knet, dir, accuracy, progress, sgd, load, save, gc, Param, KnetArray, Data, minibatch, nll, relu, training, dropout\n",
    "using Statistics\n",
    "using CUDA\n",
    "using Random\n",
    "using LinearAlgebra\n",
    "using Knet\n",
    "using Plots; default(fmt=:png,ls=:auto)\n",
    "using ProgressBars\n",
    "using NBInclude"
   ]
  },
  {
   "cell_type": "code",
   "execution_count": 2,
   "metadata": {},
   "outputs": [
    {
     "data": {
      "text/plain": [
       "KnetArray{Float32,N} where N"
      ]
     },
     "execution_count": 2,
     "metadata": {},
     "output_type": "execute_result"
    }
   ],
   "source": [
    "if CUDA.functional()\n",
    "    atype = KnetArray{Float32};\n",
    "else\n",
    "    atype = Array{Float32};\n",
    "end"
   ]
  },
  {
   "cell_type": "markdown",
   "metadata": {},
   "source": [
    "# Random Deals and Hand Features\n",
    "Hands are represented with 52-bit vectors and bidding history with 36-bit vectors."
   ]
  },
  {
   "cell_type": "code",
   "execution_count": 3,
   "metadata": {},
   "outputs": [
    {
     "data": {
      "text/plain": [
       "human_readable (generic function with 1 method)"
      ]
     },
     "execution_count": 3,
     "metadata": {},
     "output_type": "execute_result"
    }
   ],
   "source": [
    "@nbinclude(\"deal_features.ipynb\")"
   ]
  },
  {
   "cell_type": "markdown",
   "metadata": {},
   "source": [
    "# Deep Q-network Model"
   ]
  },
  {
   "cell_type": "code",
   "execution_count": 95,
   "metadata": {},
   "outputs": [
    {
     "data": {
      "text/plain": [
       "database"
      ]
     },
     "execution_count": 95,
     "metadata": {},
     "output_type": "execute_result"
    }
   ],
   "source": [
    "@nbinclude(\"model.ipynb\")\n"
   ]
  },
  {
   "cell_type": "code",
   "execution_count": 5,
   "metadata": {},
   "outputs": [
    {
     "data": {
      "text/plain": [
       "initialize_model (generic function with 1 method)"
      ]
     },
     "execution_count": 5,
     "metadata": {},
     "output_type": "execute_result"
    }
   ],
   "source": [
    "function initialize_model(;turn_depth=6)\n",
    "    Q=[]\n",
    "    Q1=Chain(Dense(52,128),Dense(128,128),Dense(128,128),Dense(128,36,identity));\n",
    "    push!(Q,Q1);\n",
    "    for i in 2:turn_depth\n",
    "        push!(Q,Chain(Dense(52+36,128),Dense(128,128),Dense(128,128),Dense(128,36,identity)));\n",
    "    end\n",
    "    return Q\n",
    "end"
   ]
  },
  {
   "cell_type": "code",
   "execution_count": 6,
   "metadata": {},
   "outputs": [],
   "source": [
    "#hyper parameters\n",
    "epsilon_greedy=0.05;\n",
    "batch_size=50;\n"
   ]
  },
  {
   "cell_type": "markdown",
   "metadata": {},
   "source": [
    "# Hand Reading From txt\n"
   ]
  },
  {
   "cell_type": "markdown",
   "metadata": {},
   "source": [
    "Generate a data instance from a PBN-formatted txt "
   ]
  },
  {
   "cell_type": "code",
   "execution_count": 89,
   "metadata": {},
   "outputs": [],
   "source": [
    "@nbinclude(\"hand_reading.ipynb\")\n",
    "averaging_size=5;\n",
    "files=[\"all_deals.txt\"]\n",
    "deal_data=[];\n",
    "for f in files\n",
    "    file= open(f,\"r\");\n",
    "    lines=readlines(file);\n",
    "    for i in 1:Int(length(lines)/5)\n",
    "        deal=lines[i*averaging_size];\n",
    "        north=PBN_to_vector(deal[18:33]);\n",
    "        south=PBN_to_vector(deal[52:67]);\n",
    "        cost_list=[]\n",
    "        for j in 1:averaging_size\n",
    "            deal=lines[(i-1)*averaging_size+j];\n",
    "            push!(cost_list,deal[69:end])\n",
    "        end\n",
    "        costs=PBN_to_cost(cost_list)\n",
    "        if costs[1]!=0\n",
    "            push!(deal_data,(north,south,costs))\n",
    "        end\n",
    "    end\n",
    "end\n",
    "l=20000\n",
    "training_set=deal_data[1:l];\n",
    "test_set=deal_data[l+1:end];\n"
   ]
  },
  {
   "cell_type": "markdown",
   "metadata": {},
   "source": [
    "# Main Learning Algorithm"
   ]
  },
  {
   "cell_type": "code",
   "execution_count": 90,
   "metadata": {},
   "outputs": [
    {
     "data": {
      "text/plain": [
       "sample_bid (generic function with 1 method)"
      ]
     },
     "execution_count": 90,
     "metadata": {},
     "output_type": "execute_result"
    }
   ],
   "source": [
    "@nbinclude(\"target_determine.ipynb\")\n",
    "@nbinclude(\"explore.ipynb\")\n",
    "@nbinclude(\"bid_functions.ipynb\")"
   ]
  },
  {
   "cell_type": "code",
   "execution_count": 91,
   "metadata": {},
   "outputs": [
    {
     "data": {
      "text/plain": [
       "model_accuracy (generic function with 1 method)"
      ]
     },
     "execution_count": 91,
     "metadata": {},
     "output_type": "execute_result"
    }
   ],
   "source": [
    "function model_accuracy(models,test_set;progress=false)\n",
    "    accuracies=[]\n",
    "    ave_imps=[]\n",
    "    for Q in models\n",
    "        got_it=0;\n",
    "        ave_imp=0\n",
    "        if progress\n",
    "            iterator= ProgressBar(test_set)\n",
    "        else\n",
    "            iterator= test_set\n",
    "        end\n",
    "        for deal in iterator\n",
    "            _,_,bidding_hist,_,targets=bid(Q,deal)\n",
    "            true_costs=targets[end]\n",
    "            if true_costs[findlast(x->x==1,bidding_hist)] == 0\n",
    "                got_it += 1\n",
    "            else\n",
    "                ave_imp += true_costs[findlast(x->x==1,bidding_hist)]*24\n",
    "            end\n",
    "        end\n",
    "        println(got_it/length(test_set))\n",
    "        println(ave_imp/length(test_set))\n",
    "        push!(accuracies,got_it/length(test_set))\n",
    "        push!(ave_imps,ave_imp/length(test_set))\n",
    "    end\n",
    "    if length(accuracies)==1\n",
    "        return accuracies[1],ave_imps[1]\n",
    "    end\n",
    "    return accuracies,ave_imps\n",
    "end"
   ]
  },
  {
   "cell_type": "code",
   "execution_count": 98,
   "metadata": {},
   "outputs": [
    {
     "data": {
      "text/plain": [
       "my_train! (generic function with 2 methods)"
      ]
     },
     "execution_count": 98,
     "metadata": {},
     "output_type": "execute_result"
    }
   ],
   "source": [
    "function my_train!(Q,training_set,test_set;epochs=1000,progress=true,epsilon_greedy=0.05, batchsize=50,turn_depth=6)\n",
    "    accuracies=[]\n",
    "    ave_imp_loss=[]\n",
    "    accuracies_test=[]\n",
    "    ave_imp_loss_test=[]\n",
    "    if progress\n",
    "        iterator= ProgressBar(1:epochs)\n",
    "    else\n",
    "        iterator= 1:epochs;\n",
    "    end\n",
    "    for i in iterator\n",
    "        got_it=0\n",
    "        ave_imp=0\n",
    "        database_target_training=database(turn_depth).data\n",
    "        database_state_training=database(turn_depth).data\n",
    "        for j in 1:length(training_set)\n",
    "            bid!(Q,training_set[j],database_state_training,database_target_training,epsilon_greedy);\n",
    "        end\n",
    "\n",
    "        accuracy,ave_imp=model_accuracy([Q],training_set);\n",
    "        push!(accuracies,accuracy);\n",
    "        push!(ave_imp_loss,ave_imp);\n",
    "        \n",
    "        accuracy,ave_imp=model_accuracy([Q],test_set);\n",
    "        push!(accuracies_test,accuracy);\n",
    "        push!(ave_imp_loss_test,ave_imp);\n",
    "        #Experience Replay\n",
    "        for t in 1:turn_depth\n",
    "            data=minibatch(hcat(database_state_training[t]...),hcat(database_target_training[t]...),batch_size,shuffle=true);\n",
    "            if summary(data)[1]=='0'#if no minibatch\n",
    "            else\n",
    "                Knet.rmsprop!(Q[t],data);\n",
    "            end\n",
    "        end\n",
    "    end\n",
    "    return accuracies, ave_imp_loss, accuracies_test,ave_imp_loss_test\n",
    "end\n",
    "\n",
    "    "
   ]
  },
  {
   "cell_type": "code",
   "execution_count": 11,
   "metadata": {},
   "outputs": [],
   "source": [
    "models=[]\n",
    "push!(models,get_saved_model(\"models_1.jld2\"));\n",
    "push!(models,get_saved_model(\"models_2.jld2\"));\n",
    "push!(models,get_saved_model(\"models_3.jld2\"));"
   ]
  },
  {
   "cell_type": "code",
   "execution_count": 81,
   "metadata": {},
   "outputs": [
    {
     "ename": "LoadError",
     "evalue": "UndefVarError: models not defined",
     "output_type": "error",
     "traceback": [
      "UndefVarError: models not defined",
      "",
      "Stacktrace:",
      " [1] top-level scope at In[81]:1",
      " [2] include_string(::Function, ::Module, ::String, ::String) at ./loading.jl:1091"
     ]
    }
   ],
   "source": [
    "accuracies,ave_imps=model_accuracy(models,training_set)"
   ]
  },
  {
   "cell_type": "code",
   "execution_count": 99,
   "metadata": {},
   "outputs": [
    {
     "name": "stdout",
     "output_type": "stream",
     "text": [
      "100.0%┣█████████████████████████████████┫ 20000/20000 [00:11<00:00, 1809.8 it/s]\n",
      "0.00785\n",
      "9.621888000000208\n",
      "100.0%┣█████████████████████████████████┫ 54783/54783 [00:30<00:00, 1848.8 it/s]\n",
      "0.007703119580891883\n",
      "9.645526531952939\n",
      "100.0%┣█████████████████████████████████┫ 20000/20000 [00:10<00:00, 2012.4 it/s]\n",
      "0.2519\n",
      "4.088447999999848\n",
      "100.0%┣█████████████████████████████████┫ 54783/54783 [00:23<00:00, 2379.1 it/s]\n",
      "0.24529507328915903\n",
      "4.155846886808248\n",
      "100.0%┣█████████████████████████████████┫ 20000/20000 [00:06<00:00, 3080.7 it/s]\n",
      "0.18175\n",
      "4.277711999999751\n",
      "100.0%┣█████████████████████████████████┫ 54783/54783 [00:19<00:00, 2865.6 it/s]\n",
      "0.17255352937955204\n",
      "4.353619188435087\n",
      "100.0%┣█████████████████████████████████┫ 20000/20000 [00:06<00:00, 3214.5 it/s]\n",
      "0.2519\n",
      "3.730991999999744\n",
      "100.0%┣█████████████████████████████████┫ 54783/54783 [00:16<00:00, 3456.7 it/s]\n",
      "0.24754029534709673\n",
      "3.797557636493575\n",
      "100.0%┣█████████████████████████████████┫ 20000/20000 [00:07<00:00, 2995.3 it/s]\n",
      "0.3637\n",
      "3.360719999999914\n",
      "100.0%┣█████████████████████████████████┫ 54783/54783 [00:17<00:00, 3246.7 it/s]\n",
      "0.3534490626654254\n",
      "3.4457696730739658\n",
      "100.0%┣█████████████████████████████████┫ 20000/20000 [00:05<00:00, 4332.5 it/s]\n",
      "0.1464\n",
      "4.2018239999996485\n",
      "100.0%┣█████████████████████████████████┫ 54783/54783 [00:12<00:00, 4702.7 it/s]\n",
      "0.13916725991639742\n",
      "4.264020590329943\n",
      "100.0%┣█████████████████████████████████┫ 20000/20000 [00:07<00:00, 2742.0 it/s]\n",
      "0.3577\n",
      "3.3349919999998745\n",
      "100.0%┣█████████████████████████████████┫ 54783/54783 [00:20<00:00, 2730.7 it/s]\n",
      "0.35016337184893126\n",
      "3.407743278024472\n",
      "100.0%┣█████████████████████████████████┫ 20000/20000 [00:05<00:00, 4372.8 it/s]\n",
      "0.1683\n",
      "4.13798399999964\n",
      "100.0%┣█████████████████████████████████┫ 54783/54783 [00:13<00:00, 4311.0 it/s]\n",
      "0.16149170363068835\n",
      "4.214305897815841\n",
      "100.0%┣█████████████████████████████████┫ 20000/20000 [00:07<00:00, 3033.4 it/s]\n",
      "0.363\n",
      "3.17836799999984\n",
      "100.0%┣█████████████████████████████████┫ 54783/54783 [00:19<00:00, 2871.0 it/s]\n",
      "0.35792125294343136\n",
      "3.2443874924705027\n",
      "100.0%┣█████████████████████████████████┫ 20000/20000 [00:07<00:00, 3047.2 it/s]\n",
      "0.2458\n",
      "3.8964479999997597\n",
      "93.1%┣███████████████████████████████▋  ┫ 50982/54783 [00:16<00:01, 3273.6 it/s]"
     ]
    },
    {
     "name": "stderr",
     "output_type": "stream",
     "text": [
      "Excessive output truncated after 524288 bytes."
     ]
    },
    {
     "name": "stdout",
     "output_type": "stream",
     "text": [
      "\r",
      "93.3%┣███████████████████████████████▊  ┫ 51093/54783 [00:16<00:01, 3270.1 it/s]\r",
      "93.5%"
     ]
    }
   ],
   "source": [
    "Q=initialize_model()\n",
    "accuracies, ave_imp_loss, accuracies_test,ave_imp_loss_test=my_train!(Q,training_set,test_set,epochs=10,progress=true);\n",
    "#Knet.save(\"models_1.jld2\",\"q_network1\", Q[1],\"q_network2\", Q[2],\"q_network3\", \n",
    "  #  Q[3],\"q_network4\", Q[4],\"q_network5\", Q[5],\"q_network6\", Q[6])"
   ]
  },
  {
   "cell_type": "code",
   "execution_count": 66,
   "metadata": {},
   "outputs": [
    {
     "name": "stdout",
     "output_type": "stream",
     "text": [
      "100.0%┣█████████████████████████████████┫ 10000/10000 [00:05<00:00, 2060.8 it/s]\n",
      "0.3334\n",
      "3.260255999999841\n"
     ]
    },
    {
     "data": {
      "text/plain": [
       "(Any[0.3334], Any[3.260255999999841])"
      ]
     },
     "execution_count": 66,
     "metadata": {},
     "output_type": "execute_result"
    }
   ],
   "source": [
    "model_accuracy([Q],training_set)"
   ]
  },
  {
   "cell_type": "code",
   "execution_count": 33,
   "metadata": {},
   "outputs": [
    {
     "name": "stdout",
     "output_type": "stream",
     "text": [
      "0.002393991\n",
      "0.0029914926\n",
      "0.0060811574\n",
      "0.0039366577\n",
      "0.0036233822\n",
      "Any[\"KJ\", \"JT4\", \"Q4\", \"J85432\"]\n",
      "Any[\"A\", \"A965\", \"AKJ986\", \"Q6\"]\n",
      "1C\n",
      "1D\n",
      "2D\n",
      "3N\n"
     ]
    }
   ],
   "source": [
    "sample_bid(Q,training_set[rand(1:end)])\n"
   ]
  },
  {
   "cell_type": "markdown",
   "metadata": {},
   "source": [
    "# Plot the Progression at every Epoch"
   ]
  },
  {
   "cell_type": "code",
   "execution_count": 103,
   "metadata": {},
   "outputs": [
    {
     "data": {
      "image/png": "[encoded data removed]"
     },
     "execution_count": 103,
     "metadata": {},
     "output_type": "execute_result"
    }
   ],
   "source": [
    "plot(ave_imp_loss,xlabel=\"Epoch\",ylabel=\"Average IMP loss against DD\",label=\"\")\n"
   ]
  },
  {
   "cell_type": "code",
   "execution_count": 104,
   "metadata": {},
   "outputs": [
    {
     "data": {
      "image/png": "[encoded data removed]"
     },
     "execution_count": 104,
     "metadata": {},
     "output_type": "execute_result"
    }
   ],
   "source": [
    "plot(accuracies,xlabel=\"Epoch\",ylabel=\"Accuracy\",label=\"\")\n"
   ]
  },
  {
   "cell_type": "code",
   "execution_count": null,
   "metadata": {},
   "outputs": [],
   "source": [
    "# Comparison to MLP shows faster convergence, better generalization\n",
    "plot(test_losses[1],label=\"Test 1\",xlabel=\"Epochs\",ylabel=\"Loss\")\n",
    "plot!(train_losses[1],label=\"Train 1\",xlabel=\"Epochs\",ylabel=\"Loss\")\n",
    "plot!(test_losses[2],label=\"Test 2\",xlabel=\"Epochs\",ylabel=\"Loss\")\n",
    "plot!(train_losses[2],label=\"Train 2\",xlabel=\"Epochs\",ylabel=\"Loss\")\n",
    "plot!(test_losses[3],label=\"Test 3\",xlabel=\"Epochs\",ylabel=\"Loss\")\n",
    "plot!(train_losses[3],label=\"Train 3\",xlabel=\"Epochs\",ylabel=\"Loss\")\n",
    "plot!(test_losses[4],label=\"Test 4\",xlabel=\"Epochs\",ylabel=\"Loss\")\n",
    "plot!(train_losses[4],label=\"Train 4\",xlabel=\"Epochs\",ylabel=\"Loss\")\n",
    "plot!(test_losses[5],label=\"Test 5\",xlabel=\"Epochs\",ylabel=\"Loss\")\n",
    "plot!(train_losses[5],label=\"Train 5\",xlabel=\"Epochs\",ylabel=\"Loss\")\n",
    "plot!(test_losses[6],label=\"Test 6\",xlabel=\"Epochs\",ylabel=\"Loss\")\n",
    "plot!(train_losses[6],label=\"Train 6\",xlabel=\"Epochs\",ylabel=\"Loss\",ylims=(0, 0.5))"
   ]
  }
 ],
 "metadata": {
  "@webio": {
   "lastCommId": null,
   "lastKernelId": null
  },
  "kernelspec": {
   "display_name": "Julia 1.5.3",
   "language": "julia",
   "name": "julia-1.5"
  },
  "language_info": {
   "file_extension": ".jl",
   "mimetype": "application/julia",
   "name": "julia",
   "version": "1.5.3"
  }
 },
 "nbformat": 4,
 "nbformat_minor": 4
}
