{
 "cells": [
  {
   "cell_type": "code",
   "execution_count": 21,
   "metadata": {},
   "outputs": [],
   "source": [
    "using Knet: Knet, dir, accuracy, progress, sgd, load, save, gc, Param, KnetArray, Data, minibatch, nll, relu, training, dropout\n",
    "using Statistics\n",
    "using Plots\n",
    "using CUDA\n",
    "using Random\n",
    "using LinearAlgebra\n",
    "using Knet\n",
    "using Plots; default(fmt=:png,ls=:auto)\n",
    "using ProgressBars\n"
   ]
  },
  {
   "cell_type": "code",
   "execution_count": 2,
   "metadata": {},
   "outputs": [
    {
     "data": {
      "text/plain": [
       "KnetArray{Float32,N} where N"
      ]
     },
     "execution_count": 2,
     "metadata": {},
     "output_type": "execute_result"
    }
   ],
   "source": [
    "if CUDA.functional()\n",
    "    atype = KnetArray{Float32};\n",
    "else\n",
    "    atype = Array{Float32};\n",
    "end"
   ]
  },
  {
   "cell_type": "code",
   "execution_count": 3,
   "metadata": {},
   "outputs": [],
   "source": [
    "bids=[\"PA\",\n",
    "  \"1C\", \"1D\", \"1H\", \"1S\", \"1N\",\n",
    "  \"2C\", \"2D\", \"2H\", \"2S\", \"2N\",\n",
    "  \"3C\", \"3D\", \"3H\", \"3S\", \"3N\",\n",
    "  \"4C\", \"4D\", \"4H\", \"4S\", \"4N\",\n",
    "  \"5C\", \"5D\", \"5H\", \"5S\", \"5N\",\n",
    "  \"6C\", \"6D\", \"6H\", \"6S\", \"6N\",\n",
    "  \"7C\", \"7D\", \"7H\", \"7S\", \"7N\"];\n"
   ]
  },
  {
   "cell_type": "markdown",
   "metadata": {},
   "source": [
    "# Random Deals and Hand Features\n",
    "Hands are represented with 52-bit vectors and bidding history with 36-bit vectors."
   ]
  },
  {
   "cell_type": "code",
   "execution_count": 4,
   "metadata": {},
   "outputs": [
    {
     "data": {
      "text/plain": [
       "human_readable (generic function with 1 method)"
      ]
     },
     "execution_count": 4,
     "metadata": {},
     "output_type": "execute_result"
    }
   ],
   "source": [
    "## entries:   (1 2 3 4 5 6 7 8 9 10 11 12 13)--> spades 14 15 16 17 18 19 20 21 22 23 24 25 26\n",
    "## correspnds (2 3 4 5 6 7 8 9 T  J  Q  K  A).. so on\n",
    "\n",
    "function random_hand(;remaining=ones(52,1)) #input: remaininn deal,  output: a random hand \n",
    "    cards_in_deal=[j for j in 1:52 if remaining[j]==1]\n",
    "    shuffle!(cards_in_deal)\n",
    "    hand= [ifelse(j in cards_in_deal[1:13],1,0) for j in 1:52];\n",
    "    return hand\n",
    "end\n",
    "\n",
    "function random_deal(hands=[])\n",
    "    remaining = ones(52,1);\n",
    "    all_hands=zeros(52,4)\n",
    "    for i in 1:length(hands)                #write given pre-dealt hands\n",
    "            remaining = remaining-hands[i];\n",
    "            all_hands[:,i]=hands[i]\n",
    "    end\n",
    "    generated_hands=4-length(hands)\n",
    "    for i in 1:generated_hands              #generate remaining hands\n",
    "        hand=random_hand(remaining=remaining)\n",
    "        remaining = remaining-hand;\n",
    "        all_hands[:,i+length(hands)]=hand\n",
    "    end\n",
    "    \n",
    "    return all_hands #returns 52x4 matrix each column is a hand, they are in order as N,S,E,W\n",
    "end\n",
    "\n",
    "\n",
    "\n",
    "#features\n",
    "\n",
    "function hcp_of(hand;suit_seperated=false) #calculates the HCP of a hand both total or suit seperated\n",
    "    points=[1,2,3,4]\n",
    "    if suit_seperated\n",
    "        return [dot(points,hand[10:13]),dot(points,hand[23:26]),dot(points,hand[36:39]),dot(points,hand[49:52])]\n",
    "    end\n",
    "    honours=hand[10:13]+hand[23:26]+hand[36:39]+hand[49:52]\n",
    "    return dot(honours,points)\n",
    "end\n",
    "\n",
    "function distribution_of(hand) #returns the card number of each suit in the order S,H,D,C\n",
    "   return [sum(hand[1:13]),sum(hand[14:26]),sum(hand[27:39]),sum(hand[40:52])] \n",
    "end\n",
    "\n",
    "#tools\n",
    "\n",
    "function human_readable(hand)\n",
    "    to_cards=[\"2\",\"3\",\"4\",\"5\",\"6\",\"7\",\"8\",\"9\",\"T\",\"J\",\"Q\",\"K\",\"A\"]\n",
    "    suits=[]\n",
    "    for i in 1:4\n",
    "        suit=hand[13*(i-1)+1:13*i]\n",
    "        cards= [to_cards[j] for j in 13:-1:1 if suit[j]==1]\n",
    "        push!(suits,join(cards))\n",
    "    end\n",
    "    return suits\n",
    "end\n"
   ]
  },
  {
   "cell_type": "markdown",
   "metadata": {},
   "source": [
    "# Deep Q-network Model"
   ]
  },
  {
   "cell_type": "code",
   "execution_count": 94,
   "metadata": {},
   "outputs": [
    {
     "name": "stdout",
     "output_type": "stream",
     "text": [
      "(\"128×52 Param{KnetArray{Float32,2}}\", \"128-element Param{KnetArray{Float32,1}}\")\n",
      "(\"128×128 Param{KnetArray{Float32,2}}\", \"128-element Param{KnetArray{Float32,1}}\")\n",
      "(\"128×128 Param{KnetArray{Float32,2}}\", \"128-element Param{KnetArray{Float32,1}}\")\n",
      "(\"36×128 Param{KnetArray{Float32,2}}\", \"36-element Param{KnetArray{Float32,1}}\")\n"
     ]
    }
   ],
   "source": [
    "struct Chain\n",
    "    layers\n",
    "    Chain(layers...) = new(layers)\n",
    "end\n",
    "(c::Chain)(x) = (for l in c.layers; x = l(x); end; x)\n",
    "(c::Chain)(x,y) = loss(c(x),y)\n",
    "(c::Chain)(x::Tuple) = loss(c(x[1]),x[2])\n",
    "(c::Chain)(d::Data) = mean(c(x,y) for (x,y) in d)\n",
    "\n",
    "struct Dense\n",
    "    w;\n",
    "    b;\n",
    "    f;\n",
    "end\n",
    "\n",
    "Dense(i::Int,o::Int,f=relu) = Dense(param(o,i),param0(o),f)\n",
    "(l::Dense)(x) = (l.w * x .+ l.b)\n",
    "\n",
    "dnn_init=Chain(Dense(52,128),Dense(128,128),Dense(128,128),Dense(128,36,identity));\n",
    "dnn=Chain(Dense(52+36,128),Dense(128,128),Dense(128,128),Dense(128,36,identity));\n",
    "println.(summary.((l.w,l.b)) for l in dnn_init.layers);\n"
   ]
  },
  {
   "cell_type": "code",
   "execution_count": 95,
   "metadata": {},
   "outputs": [
    {
     "data": {
      "text/plain": [
       "sgdupdate! (generic function with 1 method)"
      ]
     },
     "execution_count": 95,
     "metadata": {},
     "output_type": "execute_result"
    }
   ],
   "source": [
    "function loss(Q_value,cost)\n",
    "    return mean((Q_value+cost.-1).^2)/2\n",
    "end\n",
    "function sgdupdate!(func, x,y; lr=0.1)\n",
    "    fval = @diff func(x,y)\n",
    "    for param in params(fval)\n",
    "        ∇param = grad(fval, param)\n",
    "        param .-= lr * ∇param\n",
    "    end\n",
    "    return value(fval)\n",
    "end\n"
   ]
  },
  {
   "cell_type": "code",
   "execution_count": 81,
   "metadata": {},
   "outputs": [],
   "source": [
    "Q1=Chain(Dense(52,128),Dense(128,128),Dense(128,128),Dense(128,36,identity));\n",
    "Q2=Chain(Dense(52+36,128),Dense(128,128),Dense(128,128),Dense(128,36,identity));\n",
    "Q3=Chain(Dense(52+36,128),Dense(128,128),Dense(128,128),Dense(128,36,identity));\n",
    "Q4=Chain(Dense(52+36,128),Dense(128,128),Dense(128,128),Dense(128,36,identity));\n",
    "Q5=Chain(Dense(52+36,128),Dense(128,128),Dense(128,128),Dense(128,36,identity));\n",
    "Q6=Chain(Dense(52+36,128),Dense(128,128),Dense(128,128),Dense(128,36,identity));\n",
    "Q=[Q1,Q2,Q3,Q4,Q5,Q6];"
   ]
  },
  {
   "cell_type": "markdown",
   "metadata": {},
   "source": [
    "# Cost Array Calculation and Double Dummy Analysis (will be added)"
   ]
  },
  {
   "cell_type": "code",
   "execution_count": 96,
   "metadata": {},
   "outputs": [
    {
     "data": {
      "text/plain": [
       "generate_cost (generic function with 2 methods)"
      ]
     },
     "execution_count": 96,
     "metadata": {},
     "output_type": "execute_result"
    }
   ],
   "source": [
    "function generate_cost(hands_NS,random_trial=5;random_cost=false)\n",
    "    if random_cost\n",
    "        return rand(52,1)\n",
    "    end\n",
    "    costs=zeros(52,1)\n",
    "    for i in 1:random_trial\n",
    "        deal=random_deal(hands)\n",
    "        #---- generate cost vector here\n",
    "        \n",
    "        #-----\n",
    "        costs +=costs\n",
    "    end\n",
    "    return costs./random_trial\n",
    "end"
   ]
  },
  {
   "cell_type": "code",
   "execution_count": 97,
   "metadata": {},
   "outputs": [
    {
     "data": {
      "text/plain": [
       "generate_random_instances (generic function with 1 method)"
      ]
     },
     "execution_count": 97,
     "metadata": {},
     "output_type": "execute_result"
    }
   ],
   "source": [
    "function generate_random_instances(size)\n",
    "    data=Array{Float64,3}(undef,3,52,size)\n",
    "    for i in 1:size\n",
    "        deal=random_deal()\n",
    "        data[1,:,i]=deal[:,1]\n",
    "        data[2,:,i]=deal[:,2]\n",
    "        data[3,:,i]=generate_cost(deal[:,1:2],random_cost=true)\n",
    "    end\n",
    "    return data\n",
    "end\n",
    "    "
   ]
  },
  {
   "cell_type": "code",
   "execution_count": 98,
   "metadata": {},
   "outputs": [],
   "source": [
    "#hyper parameters\n",
    "epsilon_greedy=0.05;\n",
    "turn_depth=6;\n",
    "learning_rate=0.1;\n",
    "batch_size=50;\n",
    "instance_size=1000;"
   ]
  },
  {
   "cell_type": "markdown",
   "metadata": {},
   "source": [
    "# Baseline Algorithm"
   ]
  },
  {
   "cell_type": "code",
   "execution_count": 99,
   "metadata": {},
   "outputs": [
    {
     "data": {
      "text/plain": [
       "0.5100376970336249"
      ]
     },
     "execution_count": 99,
     "metadata": {},
     "output_type": "execute_result"
    }
   ],
   "source": [
    "instances = generate_random_instances(instance_size);\n",
    "\n",
    "costs=[]\n",
    "iteration_size=1000\n",
    "for i in 1:iteration_size\n",
    "    instance= instances[:,:,rand(1:instance_size)]; #choose a random deal\n",
    "    bidding_hist=zeros(36);\n",
    "    for t in 1:turn_depth\n",
    "        if t==1\n",
    "            last_bid=1\n",
    "        else\n",
    "            last_bid=maximum(findall(x-> x==1,bidding_hist)) #the nature of an action\n",
    "        end\n",
    "        current_bid=rand(last_bid:36) #randomly bid a contract\n",
    "        if last_bid == current_bid #if current bid is pass\n",
    "            break;\n",
    "        end\n",
    "        bidding_hist[current_bid]=1;\n",
    "    end\n",
    "    \n",
    "    contract=1\n",
    "    try\n",
    "        contract=findall(x-> x==1,bidding_hist)[1]\n",
    "    catch\n",
    "        contract=1\n",
    "    end\n",
    "    cost=instance[3,contract]   # cost of declaring this contract\n",
    "    push!(costs,cost)\n",
    "end\n",
    "\n",
    "mean(costs)   # overall success of the baseline"
   ]
  },
  {
   "cell_type": "markdown",
   "metadata": {},
   "source": [
    "# Hand Reading From txt\n"
   ]
  },
  {
   "cell_type": "code",
   "execution_count": 100,
   "metadata": {},
   "outputs": [
    {
     "data": {
      "text/plain": [
       "get_score (generic function with 2 methods)"
      ]
     },
     "execution_count": 100,
     "metadata": {},
     "output_type": "execute_result"
    }
   ],
   "source": [
    "function get_score(contract,trick_made,is_vul=false) # get the raw score of any contract\n",
    "    trump=contract[2]\n",
    "    trick_bid= parse(Int32,contract[1])+6\n",
    "    level=parse(Int32,contract[1])\n",
    "    made= trick_made >= trick_bid\n",
    "    over_trick = trick_made - trick_bid\n",
    "    if made\n",
    "        if trump in ['H','S']\n",
    "            contract_points=(trick_made-6)*30\n",
    "            is_game=level >=4\n",
    "        elseif trump in ['D','C']\n",
    "            contract_points=(trick_made-6)*20\n",
    "            is_game=level >=5\n",
    "        else\n",
    "            contract_points=(40+(trick_made-6-1)*30)\n",
    "            is_game=level >=3\n",
    "        end\n",
    "        game_points=0\n",
    "        slam_bonus=0\n",
    "        part_score_bonus=0\n",
    "        if is_game\n",
    "            game_points=300+is_vul*200\n",
    "        else\n",
    "            part_score_bonus=50\n",
    "        end\n",
    "        if level==6\n",
    "            slam_bonus=500+is_vul*250\n",
    "        elseif level == 7\n",
    "            slam_bonus=1000+is_vul*500\n",
    "        end\n",
    "        score= game_points+slam_bonus+part_score_bonus+contract_points\n",
    "        return score\n",
    "    else\n",
    "        penalty=0\n",
    "        if is_vul\n",
    "            penalty=100*over_trick\n",
    "        else\n",
    "            penalty=50*over_trick\n",
    "        end\n",
    "        return penalty\n",
    "    end\n",
    "end"
   ]
  },
  {
   "cell_type": "code",
   "execution_count": 101,
   "metadata": {},
   "outputs": [
    {
     "data": {
      "text/plain": [
       "raw_score_to_imp (generic function with 1 method)"
      ]
     },
     "execution_count": 101,
     "metadata": {},
     "output_type": "execute_result"
    }
   ],
   "source": [
    "function raw_score_to_imp(cost)\n",
    "    cost=abs.(cost)\n",
    "    if cost<=20\n",
    "        return 0\n",
    "    elseif cost<=40\n",
    "        return 1\n",
    "    elseif cost<=80\n",
    "        return 2\n",
    "    elseif cost<=120\n",
    "        return 3\n",
    "    elseif cost<=160\n",
    "        return 4\n",
    "    elseif cost<=210\n",
    "        return 5\n",
    "    elseif cost<=260\n",
    "        return 6\n",
    "    elseif cost<=310\n",
    "        return 7\n",
    "    elseif cost<=360\n",
    "        return 8\n",
    "    elseif cost<=420\n",
    "        return 9\n",
    "    elseif cost<=490\n",
    "        return 10\n",
    "    elseif cost<=590\n",
    "        return 11\n",
    "    elseif cost<=740\n",
    "        return 12\n",
    "    elseif cost<=890\n",
    "        return 13\n",
    "    elseif cost<=1090\n",
    "        return 14\n",
    "    elseif cost<=1290\n",
    "        return 15\n",
    "    elseif cost<=1490\n",
    "        return 16\n",
    "    elseif cost<=1740\n",
    "        return 17\n",
    "    elseif cost<=1990\n",
    "        return 18\n",
    "    elseif cost<=2240\n",
    "        return 19\n",
    "    elseif cost<=2490\n",
    "        return 20\n",
    "    elseif cost<=2990\n",
    "        return 21\n",
    "    elseif cost<=3490\n",
    "        return 22\n",
    "    elseif cost<=3990\n",
    "        return 23\n",
    "    else\n",
    "        return 24\n",
    "    end\n",
    "end"
   ]
  },
  {
   "cell_type": "code",
   "execution_count": 102,
   "metadata": {},
   "outputs": [
    {
     "data": {
      "text/plain": [
       "PBN_to_cost (generic function with 1 method)"
      ]
     },
     "execution_count": 102,
     "metadata": {},
     "output_type": "execute_result"
    }
   ],
   "source": [
    "cards_to_indices=Dict{String,Integer}(\"2\"=>1,\"3\"=>2,\"4\"=>3,\"5\"=>4,\"6\"=>5,\"7\"=>6,\"8\"=>7,\"9\"=>8,\"T\"=>9,\"J\"=>10,\"Q\"=>11,\"K\"=>12,\"A\"=>13);\n",
    "function PBN_to_vector(hand) # PBN formatted a hand is converted to 52-size vector\n",
    "    raw_data=zeros(52);\n",
    "    suits=split(hand,'.');\n",
    "    for i in 1:4\n",
    "        for card in suits[i]\n",
    "            raw_data[(i-1)*13+cards_to_indices[string(card)]]=1;\n",
    "        end\n",
    "    end\n",
    "    return raw_data\n",
    "end\n",
    "\n",
    "suit_order=Dict{Char,Integer}('N'=> 0,'S'=> 1,'H'=> 2,'D'=> 3,'C'=> 4);\n",
    "function PBN_to_cost(dds) # PBN formatted a DDS-record is converted to (36,2)-size cost vector\n",
    "    costs=zeros(36,2);\n",
    "    for i in 2:36\n",
    "        contract=bids[i];\n",
    "        trump=contract[2];\n",
    "        trick_bid= parse(Int32,contract[1])+6;\n",
    "        # if north is the declarer then east is the leader\n",
    "        trick_count_n=parse(Int32,dds[suit_order[trump]*4+2],base=16);\n",
    "        # if south is the declarer then west is the leader\n",
    "        trick_count_s=parse(Int32,dds[suit_order[trump]*4+4],base=16);\n",
    "        costs[i,1]=get_score(contract,trick_count_n);\n",
    "        costs[i,2]=get_score(contract,trick_count_s);\n",
    "    end\n",
    "    costs[:,1]= raw_score_to_imp.(costs[:,1] .- maximum(costs[:,1]))./25;\n",
    "    costs[:,2]= raw_score_to_imp.(costs[:,2] .- maximum(costs[:,2]))./25;\n",
    "    \n",
    "    return costs\n",
    "end"
   ]
  },
  {
   "cell_type": "markdown",
   "metadata": {},
   "source": [
    "Generate a data instance from a PBN-formatted txt "
   ]
  },
  {
   "cell_type": "code",
   "execution_count": 103,
   "metadata": {},
   "outputs": [],
   "source": [
    "file= open(\"test_hamza.txt\",\"r\");\n",
    "lines=readlines(file);\n",
    "deal_data=[]\n",
    "for deal in lines\n",
    "    north=PBN_to_vector(deal[18:33])\n",
    "    south=PBN_to_vector(deal[52:67])\n",
    "    costs=PBN_to_cost(deal[69:end])\n",
    "    push!(deal_data,(north,south,costs))\n",
    "\n",
    "end\n",
    "\n",
    "training_set=deal_data[1:4000];\n",
    "test_set=deal_data[4001:end];\n"
   ]
  },
  {
   "cell_type": "code",
   "execution_count": 104,
   "metadata": {},
   "outputs": [
    {
     "data": {
      "text/plain": [
       "explore (generic function with 1 method)"
      ]
     },
     "execution_count": 104,
     "metadata": {},
     "output_type": "execute_result"
    }
   ],
   "source": [
    "function determine_target(cost,current_bid,method=\"penetrative\")\n",
    "    if method==\"penetrative\" \n",
    "        optimal_bid=findmin(cost)[2]\n",
    "        cost[1:current_bid-1].= 1.2\n",
    "\n",
    "        if optimal_bid >= current_bid\n",
    "            cost[current_bid:optimal_bid].= 0\n",
    "        end\n",
    "        return cost\n",
    "    end\n",
    "    #to do implement classic bellman equation\n",
    "    return cost\n",
    "    \n",
    "end\n",
    "\n",
    "function explore(Q_network,state,current_bid,epsilon)\n",
    "    q_values=Q_network(state)\n",
    "    if rand()>epsilon\n",
    "        bid=findmin(q_values)\n",
    "        #print(Array(q_values))\n",
    "        #println(bid)\n",
    "        bid=bid[2]\n",
    "\n",
    "    else\n",
    "        bid= rand(current_bid:36)\n",
    "    end \n",
    "    return bid\n",
    "end"
   ]
  },
  {
   "cell_type": "markdown",
   "metadata": {},
   "source": [
    "# Main Learning Algorithm"
   ]
  },
  {
   "cell_type": "code",
   "execution_count": 177,
   "metadata": {},
   "outputs": [
    {
     "data": {
      "text/plain": [
       "bid_to_the_end (generic function with 3 methods)"
      ]
     },
     "execution_count": 177,
     "metadata": {},
     "output_type": "execute_result"
    }
   ],
   "source": [
    "function bid!(Q,deal,database_state,database_target,data_state_all_bid,epsilon_greedy)\n",
    "    bidding_hist=zeros(36,1);\n",
    "    instance=(deal[1],deal[2],bidding_hist);\n",
    "    for t in 1:turn_depth\n",
    "        if t==1\n",
    "            current_bid=1;\n",
    "            state=atype(reshape(instance[(t-1)%2+1],(52)));\n",
    "        else\n",
    "            b=findlast(x->x==1,bidding_hist);\n",
    "            current_bid=b[1];\n",
    "            state=atype(reshape(vcat(instance[(t-1)%2+1],instance[3]),(88)));  \n",
    "        end\n",
    "        #Algorithm P\n",
    "        target=determine_target(deepcopy(deal[3][:,(t-1)%2+1]),current_bid);\n",
    "        #Data for experience replay\n",
    "        push!(database_state[t],state);\n",
    "        push!(database_target[t],target);\n",
    "        #exploration\n",
    "        action=explore(Q[t],state,current_bid,epsilon_greedy);\n",
    "        # current bid is pass----- \n",
    "        if action== current_bid\n",
    "            break;\n",
    "        end\n",
    "            \n",
    "        #Update bidding history\n",
    "        bidding_hist[action]=1;\n",
    "    end   \n",
    "        push!(data_state_all_bid,(deal[1],deal[2],bidding_hist))\n",
    "\n",
    "    return \n",
    "end\n",
    "\n",
    "function bid_to_the_end(Q,deal_set,number_of_deals)\n",
    "    database_state=[[],[],[],[],[],[]];\n",
    "    database_target=[[],[],[],[],[],[]];\n",
    "    for i in 1:number_of_deals\n",
    "        bid!(Q,deal_set[rand(1:end)],database_state,database_target,0);\n",
    "    end \n",
    "    return database_state, database_target ,data_state_all_bid\n",
    "end"
   ]
  },
  {
   "cell_type": "code",
   "execution_count": 178,
   "metadata": {},
   "outputs": [],
   "source": [
    "function train!(Q,training_set,test_set;iteration_size=1000,progress=true,epsilon_greedy=0.05, batchsize=50,learning_rate=0.1,periods=10,turn_depth=6)\n",
    "    database_target_training=[[],[],[],[],[],[]];\n",
    "    database_state_training=[[],[],[],[],[],[]];\n",
    "    data_state_and_action=[[],[],[],[],[],[]];\n",
    "    data_state_all_bid=[];\n",
    "    history_of_Q=[];\n",
    "    push!(history_of_Q,deepcopy(Q));\n",
    "    \n",
    "    if progress\n",
    "        iterator= ProgressBar(1:iteration_size)\n",
    "    else\n",
    "        iterator= 1:iteration_size\n",
    "    end\n",
    "    for i in iterator\n",
    "        bid!(Q,training_set[rand(1:end)],database_state_training,database_target_training,data_state_all_bid,epsilon_greedy)\n",
    "        #Experience Replay\n",
    "        for t in 1:turn_depth\n",
    "            copy_database_target=copy(database_target_training[t]);\n",
    "            copy_database_state=copy(database_state_training[t]);\n",
    "            data=minibatch(hcat(copy_database_state...),hcat(copy_database_target...),batch_size,shuffle=true);\n",
    "            if summary(data)[1]=='0'#if no minibatch\n",
    "            else\n",
    "                #take a single minibatch\n",
    "                x,y=first(data);\n",
    "                sgdupdate!(Q[t],x,y,lr=learning_rate);\n",
    "            end\n",
    "        end\n",
    "        if i%periods==0\n",
    "           push!(history_of_Q,deepcopy(Q));\n",
    "        end\n",
    "    end\n",
    "   return history_of_Q,database_target_training,database_state_training,data_state_all_bid\n",
    "    end;\n",
    "\n",
    "    "
   ]
  },
  {
   "cell_type": "code",
   "execution_count": 234,
   "metadata": {},
   "outputs": [
    {
     "name": "stdout",
     "output_type": "stream",
     "text": [
      "100.0%┣█████████████████████████████████████┫ 2000/2000 [03:12<00:00, 10.4 it/s]\n"
     ]
    }
   ],
   "source": [
    "function init()\n",
    "    Q1=Chain(Dense(52,128),Dense(128,128),Dense(128,128),Dense(128,36,identity));\n",
    "    Q2=Chain(Dense(52+36,128),Dense(128,128),Dense(128,128),Dense(128,36,identity));\n",
    "    Q3=Chain(Dense(52+36,128),Dense(128,128),Dense(128,128),Dense(128,36,identity));\n",
    "    Q4=Chain(Dense(52+36,128),Dense(128,128),Dense(128,128),Dense(128,36,identity));\n",
    "    Q5=Chain(Dense(52+36,128),Dense(128,128),Dense(128,128),Dense(128,36,identity));\n",
    "    Q6=Chain(Dense(52+36,128),Dense(128,128),Dense(128,128),Dense(128,36,identity));\n",
    "    Q.=[Q1,Q2,Q3,Q4,Q5,Q6];\n",
    "end\n",
    "init()\n",
    "history_of_Q,database_target_training,database_state_training,data_state_all_bid=train!(Q,training_set,test_set,iteration_size=2000,progress=true,periods=20);"
   ]
  },
  {
   "cell_type": "markdown",
   "metadata": {},
   "source": [
    "An instance of a decleration history"
   ]
  },
  {
   "cell_type": "code",
   "execution_count": 268,
   "metadata": {},
   "outputs": [
    {
     "name": "stdout",
     "output_type": "stream",
     "text": [
      "Any[\"J2\", \"QJ75\", \"AJ3\", \"J832\"]\n",
      "Any[\"AK8\", \"K964\", \"82\", \"AK94\"]\n",
      "1S\n",
      "2C\n",
      "2H\n",
      "3S\n",
      "4H\n",
      "7C\n"
     ]
    }
   ],
   "source": [
    "instance=data_state_all_bid[rand(1:end)]\n",
    "println(human_readable(instance[1]))\n",
    "println(human_readable(instance[2]))\n",
    "for i in 1:36\n",
    "    if instance[3][i]==1\n",
    "        println(bids[i])\n",
    "    end\n",
    "end"
   ]
  },
  {
   "cell_type": "markdown",
   "metadata": {},
   "source": [
    "Calculate and Plot the Average Losses of every Epoch"
   ]
  },
  {
   "cell_type": "code",
   "execution_count": 247,
   "metadata": {},
   "outputs": [
    {
     "name": "stdout",
     "output_type": "stream",
     "text": [
      "100.0%┣████████████████████████████████████████┫ 101/101 [00:31<00:00, 3.2 it/s]\n"
     ]
    }
   ],
   "source": [
    "test_losses=[[],[],[],[],[],[]];\n",
    "train_losses=[[],[],[],[],[],[]];\n",
    "\n",
    "for epoch in ProgressBar(history_of_Q)\n",
    "    database_state, database_target= bid_to_the_end(epoch,training_set,100)\n",
    "    database_state_test, database_target_test= bid_to_the_end(epoch,test_set,100)\n",
    "    for i in 1:6\n",
    "        data=minibatch(hcat(database_state[i]...),hcat(database_target[i]...),batch_size,shuffle=true);\n",
    "        push!(train_losses[i],epoch[i](first(data)));\n",
    "        data=minibatch(hcat(database_state_test[i]...),hcat(database_target_test[i]...),batch_size,shuffle=true);\n",
    "        push!(test_losses[i],epoch[i](first(data)));\n",
    "        \n",
    "    end\n",
    "end"
   ]
  },
  {
   "cell_type": "code",
   "execution_count": 248,
   "metadata": {},
   "outputs": [
    {
     "data": {
      "image/png": "[encoded data removed]"
     },
     "execution_count": 248,
     "metadata": {},
     "output_type": "execute_result"
    }
   ],
   "source": [
    "# Comparison to MLP shows faster convergence, better generalization\n",
    "plot(test_losses[1],label=\"Test 1\",xlabel=\"Epochs\",ylabel=\"Loss\")\n",
    "plot!(train_losses[1],label=\"Train 1\",xlabel=\"Epochs\",ylabel=\"Loss\")\n",
    "plot!(test_losses[2],label=\"Test 2\",xlabel=\"Epochs\",ylabel=\"Loss\")\n",
    "plot!(train_losses[2],label=\"Train 2\",xlabel=\"Epochs\",ylabel=\"Loss\")\n",
    "plot!(test_losses[3],label=\"Test 3\",xlabel=\"Epochs\",ylabel=\"Loss\")\n",
    "plot!(train_losses[3],label=\"Train 3\",xlabel=\"Epochs\",ylabel=\"Loss\")\n",
    "plot!(test_losses[4],label=\"Test 4\",xlabel=\"Epochs\",ylabel=\"Loss\")\n",
    "plot!(train_losses[4],label=\"Train 4\",xlabel=\"Epochs\",ylabel=\"Loss\")\n",
    "plot!(test_losses[5],label=\"Test 5\",xlabel=\"Epochs\",ylabel=\"Loss\")\n",
    "plot!(train_losses[5],label=\"Train 5\",xlabel=\"Epochs\",ylabel=\"Loss\")\n",
    "plot!(test_losses[6],label=\"Test 6\",xlabel=\"Epochs\",ylabel=\"Loss\")\n",
    "plot!(train_losses[6],label=\"Train 6\",xlabel=\"Epochs\",ylabel=\"Loss\")"
   ]
  },
  {
   "cell_type": "markdown",
   "metadata": {},
   "source": [
    "Opening bid with a random hand"
   ]
  },
  {
   "cell_type": "code",
   "execution_count": 249,
   "metadata": {},
   "outputs": [],
   "source": [
    "example_bids=[]\n",
    "sample_size=1000\n",
    "for i in 1:sample_size\n",
    "    state= deal_data[rand(1:end)]\n",
    "    current_bid=1\n",
    "    action=explore(Q[1],atype(state[1]),current_bid,0)\n",
    "    push!(example_bids,(state[1],action,state[2],state[3]))\n",
    "end"
   ]
  },
  {
   "cell_type": "code",
   "execution_count": 260,
   "metadata": {},
   "outputs": [
    {
     "name": "stdout",
     "output_type": "stream",
     "text": [
      "Any[\"AQT2\", \"J987\", \"2\", \"KJ82\"]\n",
      "Any[\"94\", \"2\", \"JT984\", \"A6543\"]\n",
      "[0.12, 0.0, 0.16, 0.24, 0.2, 0.16, 0.0, 0.2, 0.28, 0.24, 0.2, 0.0, 0.24, 0.32, 0.28, 0.24, 0.16, 0.28, 0.36, 0.32, 0.28, 0.2, 0.32, 0.4, 0.36, 0.32, 0.24, 0.36, 0.44, 0.4, 0.36, 0.28, 0.4, 0.44, 0.44, 0.4]\n",
      "7D\n",
      "3C\n"
     ]
    }
   ],
   "source": [
    "instance=example_bids[rand(1:end)]\n",
    "println(human_readable(instance[1]))\n",
    "println(human_readable(instance[3]))\n",
    "println(instance[4][:,1])\n",
    "println(bids[instance[2]])\n",
    "println(bids[maximum(findall(x->x==0,instance[4][:,1]))])"
   ]
  },
  {
   "cell_type": "code",
   "execution_count": null,
   "metadata": {},
   "outputs": [],
   "source": [
    "\n"
   ]
  },
  {
   "cell_type": "code",
   "execution_count": null,
   "metadata": {},
   "outputs": [],
   "source": []
  }
 ],
 "metadata": {
  "@webio": {
   "lastCommId": null,
   "lastKernelId": null
  },
  "kernelspec": {
   "display_name": "Julia 1.5.3",
   "language": "julia",
   "name": "julia-1.5"
  },
  "language_info": {
   "file_extension": ".jl",
   "mimetype": "application/julia",
   "name": "julia",
   "version": "1.5.3"
  }
 },
 "nbformat": 4,
 "nbformat_minor": 4
}
