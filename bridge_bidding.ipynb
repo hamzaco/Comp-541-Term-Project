{
 "cells": [
  {
   "cell_type": "code",
   "execution_count": 1,
   "metadata": {},
   "outputs": [
    {
     "name": "stderr",
     "output_type": "stream",
     "text": [
      "┌ Warning: Your Tesla K20m GPU does not meet the minimal required compute capability (3.5.0 < 5.0).\n",
      "│ Some functionality might not work. For a fully-supported set-up, please use an older version of CUDA.jl\n",
      "└ @ CUDA /kuacc/users/hcoban15/.julia/packages/CUDA/YeS8q/src/state.jl:251\n"
     ]
    }
   ],
   "source": [
    "using Knet: Knet, dir, accuracy, progress, sgd, load, save, gc, Param, KnetArray, Data, minibatch, nll, relu, training, dropout\n",
    "using Statistics\n",
    "using CUDA\n",
    "using Random\n",
    "using LinearAlgebra\n",
    "using Knet\n",
    "using Plots; default(fmt=:png,ls=:auto)\n",
    "using ProgressBars\n",
    "using NBInclude"
   ]
  },
  {
   "cell_type": "code",
   "execution_count": 2,
   "metadata": {},
   "outputs": [
    {
     "data": {
      "text/plain": [
       "KnetArray{Float32,N} where N"
      ]
     },
     "execution_count": 2,
     "metadata": {},
     "output_type": "execute_result"
    }
   ],
   "source": [
    "if CUDA.functional()\n",
    "    atype = KnetArray{Float32};\n",
    "else\n",
    "    atype = Array{Float32};\n",
    "end"
   ]
  },
  {
   "cell_type": "markdown",
   "metadata": {},
   "source": [
    "# Random Deals and Hand Features\n",
    "Hands are represented with 52-bit vectors and bidding history with 36-bit vectors."
   ]
  },
  {
   "cell_type": "code",
   "execution_count": 3,
   "metadata": {},
   "outputs": [
    {
     "data": {
      "text/plain": [
       "human_readable (generic function with 1 method)"
      ]
     },
     "execution_count": 3,
     "metadata": {},
     "output_type": "execute_result"
    }
   ],
   "source": [
    "@nbinclude(\"deal_features.ipynb\")"
   ]
  },
  {
   "cell_type": "markdown",
   "metadata": {},
   "source": [
    "# Deep Q-network Model"
   ]
  },
  {
   "cell_type": "code",
   "execution_count": 4,
   "metadata": {},
   "outputs": [
    {
     "data": {
      "text/plain": [
       "sgdupdate! (generic function with 1 method)"
      ]
     },
     "execution_count": 4,
     "metadata": {},
     "output_type": "execute_result"
    }
   ],
   "source": [
    "@nbinclude(\"model.ipynb\")\n"
   ]
  },
  {
   "cell_type": "code",
   "execution_count": 5,
   "metadata": {},
   "outputs": [
    {
     "data": {
      "text/plain": [
       "init (generic function with 1 method)"
      ]
     },
     "execution_count": 5,
     "metadata": {},
     "output_type": "execute_result"
    }
   ],
   "source": [
    "function init()\n",
    "    Q1=Chain(Dense(52,128),Dense(128,128),Dense(128,128),Dense(128,36,identity));\n",
    "    Q2=Chain(Dense(52+36,128),Dense(128,128),Dense(128,128),Dense(128,36,identity));\n",
    "    Q3=Chain(Dense(52+36,128),Dense(128,128),Dense(128,128),Dense(128,36,identity));\n",
    "    Q4=Chain(Dense(52+36,128),Dense(128,128),Dense(128,128),Dense(128,36,identity));\n",
    "    Q5=Chain(Dense(52+36,128),Dense(128,128),Dense(128,128),Dense(128,36,identity));\n",
    "    Q6=Chain(Dense(52+36,128),Dense(128,128),Dense(128,128),Dense(128,36,identity));\n",
    "    Q=[Q1,Q2,Q3,Q4,Q5,Q6];\n",
    "    return Q\n",
    "end"
   ]
  },
  {
   "cell_type": "code",
   "execution_count": 6,
   "metadata": {},
   "outputs": [],
   "source": [
    "#hyper parameters\n",
    "epsilon_greedy=0.05;\n",
    "turn_depth=6;\n",
    "learning_rate=0.1;\n",
    "batch_size=50;\n",
    "instance_size=1000;"
   ]
  },
  {
   "cell_type": "markdown",
   "metadata": {},
   "source": [
    "# Hand Reading From txt\n"
   ]
  },
  {
   "cell_type": "markdown",
   "metadata": {},
   "source": [
    "Generate a data instance from a PBN-formatted txt "
   ]
  },
  {
   "cell_type": "code",
   "execution_count": 7,
   "metadata": {},
   "outputs": [],
   "source": [
    "@nbinclude(\"hand_reading.ipynb\")\n",
    "\n",
    "file= open(\"test_hamza.txt\",\"r\");\n",
    "lines=readlines(file);\n",
    "deal_data=[]\n",
    "for deal in lines\n",
    "    north=PBN_to_vector(deal[18:33])\n",
    "    south=PBN_to_vector(deal[52:67])\n",
    "    costs=PBN_to_cost(deal[69:end])\n",
    "    push!(deal_data,(north,south,costs))\n",
    "\n",
    "end\n",
    "\n",
    "training_set=deal_data[1:4000];\n",
    "test_set=deal_data[4001:end];\n"
   ]
  },
  {
   "cell_type": "markdown",
   "metadata": {},
   "source": [
    "# Main Learning Algorithm"
   ]
  },
  {
   "cell_type": "code",
   "execution_count": 8,
   "metadata": {},
   "outputs": [
    {
     "data": {
      "text/plain": [
       "bid (generic function with 1 method)"
      ]
     },
     "execution_count": 8,
     "metadata": {},
     "output_type": "execute_result"
    }
   ],
   "source": [
    "@nbinclude(\"target_determine.ipynb\")\n",
    "@nbinclude(\"explore.ipynb\")\n",
    "@nbinclude(\"bid_functions.ipynb\")"
   ]
  },
  {
   "cell_type": "code",
   "execution_count": 9,
   "metadata": {},
   "outputs": [],
   "source": [
    "function train!(Q,training_set,test_set;iteration_size=1000,progress=true,epsilon_greedy=0.05, batchsize=50,learning_rate=0.1,periods=10,turn_depth=6)\n",
    "    database_target_training=[[],[],[],[],[],[]];\n",
    "    database_state_training=[[],[],[],[],[],[]];\n",
    "    data_state_and_action=[[],[],[],[],[],[]];\n",
    "    data_state_all_bid=[];\n",
    "    history_of_Q=[];\n",
    "    push!(history_of_Q,deepcopy(Q));\n",
    "    if progress\n",
    "        iterator= ProgressBar(1:iteration_size)\n",
    "    else\n",
    "        iterator= 1:iteration_size\n",
    "    end\n",
    "    for i in iterator\n",
    "        bid!(Q,training_set[rand(1:end)],database_state_training,database_target_training,data_state_all_bid,epsilon_greedy)\n",
    "        #Experience Replay\n",
    "        for t in 1:turn_depth\n",
    "            copy_database_target=copy(database_target_training[t]);\n",
    "            copy_database_state=copy(database_state_training[t]);\n",
    "            data=minibatch(hcat(copy_database_state...),hcat(copy_database_target...),batch_size,shuffle=true);\n",
    "            if summary(data)[1]=='0'#if no minibatch\n",
    "            else\n",
    "                #take a single minibatch\n",
    "                x,y=first(data);\n",
    "                sgdupdate!(Q[t],x,y,lr=learning_rate);\n",
    "            end\n",
    "        end\n",
    "        if i%periods==0\n",
    "           push!(history_of_Q,deepcopy(Q));\n",
    "        end\n",
    "    end\n",
    "   return history_of_Q,database_target_training,database_state_training,data_state_all_bid\n",
    "    end;\n",
    "\n",
    "    "
   ]
  },
  {
   "cell_type": "code",
   "execution_count": 10,
   "metadata": {},
   "outputs": [
    {
     "name": "stdout",
     "output_type": "stream",
     "text": [
      "100.0%┣██████████████████████████████████████┫ 1000/1000 [02:00<00:00, 8.3 it/s]▉            ┫ 697/1000 [01:26<00:37, 8.1 it/s]\n"
     ]
    }
   ],
   "source": [
    "Q=init();\n",
    "history_of_Q,database_target_training,database_state_training,data_state_all_bid=train!(Q,training_set,\n",
    "    test_set,iteration_size=1000,progress=true,periods=20);"
   ]
  },
  {
   "cell_type": "markdown",
   "metadata": {},
   "source": [
    "An instance of a decleration history"
   ]
  },
  {
   "cell_type": "code",
   "execution_count": 18,
   "metadata": {},
   "outputs": [
    {
     "name": "stdout",
     "output_type": "stream",
     "text": [
      "1 bid\n",
      "cost = [0.0, 0.0, 0.0, 0.0, 0.0, 0.0, 0.0, 0.0, 0.0, 0.0, 0.0, 0.0, 0.0, 0.0, 0.0, 0.0, 0.0, 0.0, 0.0, 0.0, 0.0, 0.0, 0.48, 0.44, 0.48, 0.44, 0.4, 0.48, 0.44, 0.52, 0.48, 0.44, 0.48, 0.48, 0.52, 0.48]\n",
      "Array(q_values) = Float32[1.0007671, 0.9536944, 0.9030197, 0.9622078, 0.93776685, 0.9465756, 0.96037966, 0.83385926, 0.915177, 0.86779356, 0.98223484, 0.8945593, 0.81793326, 0.9316165, 0.93145365, 0.8683901, 0.8153772, 0.81809276, 0.8538028, 0.7507381, 0.82185113, 0.7795986, 0.71243715, 0.8703846, 0.71712834, 0.8234448, 0.6018502, 0.66446555, 0.6664697, 0.5496834, 0.66759723, 0.5262051, 0.6412017, 0.506054, 0.6075272, 0.44625622]\n",
      "2 bid\n",
      "cost = [1.2, 1.2, 1.2, 1.2, 1.2, 1.2, 1.2, 1.2, 1.2, 1.2, 1.2, 1.2, 1.2, 1.2, 1.2, 1.2, 1.2, 1.2, 1.2, 1.2, 1.2, 1.2, 1.2, 1.2, 1.2, 1.2, 1.2, 1.2, 1.2, 1.2, 1.2, 1.2, 1.2, 1.2, 1.2, 0.48]\n",
      "Array(q_values) = Float32[-0.16891377, -0.065448806, -0.18156993, -0.31106943, -0.17861003, -0.014856456, -0.2591427, -0.19836694, -0.17155325, -0.3922462, -0.24553967, -0.18105404, -0.32103795, -0.28445685, -0.25257406, -0.13952732, -0.18582648, -0.20247526, -0.21825857, -0.23997138, -0.19753255, -0.33055043, -0.21632461, -0.25542283, -0.28990555, -0.33460906, -0.34523916, -0.37721467, -0.40538612, -0.1184773, -0.22377644, -0.10515006, -0.12899743, 0.16468135, 0.13197505, 0.42451856]\n",
      "3 bid\n",
      "cost = [1.2, 1.2, 1.2, 1.2, 1.2, 1.2, 1.2, 1.2, 1.2, 1.2, 1.2, 1.2, 1.2, 1.2, 1.2, 1.2, 1.2, 1.2, 1.2, 1.2, 1.2, 1.2, 1.2, 1.2, 1.2, 1.2, 1.2, 1.2, 1.2, 1.2, 1.2, 1.2, 1.2, 1.2, 1.2, 0.48]\n",
      "Array(q_values) = Float32[-0.057861034, -0.3483774, 0.016749058, -0.08606903, -0.21430925, -0.20287368, -0.21249203, -0.22529747, -0.0958097, -0.23180398, -0.121167645, -0.15173209, -0.27574983, -0.24150531, -0.26842502, -0.15871567, -0.28896177, -0.2772427, -0.6602575, -0.40911227, -0.53437954, -0.7461982, -0.48082414, -0.59783256, -0.68313044, -0.50800985, -0.58264714, -0.62021196, -0.25357866, -0.35993022, -0.38995102, -0.018619463, -0.30628935, -0.12744573, -0.053525966, 0.3697565]\n",
      "4 bid\n",
      "cost = [1.2, 1.2, 1.2, 1.2, 1.2, 1.2, 1.2, 1.2, 1.2, 1.2, 1.2, 1.2, 1.2, 1.2, 1.2, 1.2, 1.2, 1.2, 1.2, 1.2, 1.2, 1.2, 1.2, 1.2, 1.2, 1.2, 1.2, 1.2, 1.2, 1.2, 1.2, 1.2, 1.2, 1.2, 1.2, 0.48]\n",
      "Array(q_values) = Float32[-0.16633192, -0.20926788, -0.29272965, -0.2818914, -0.19230442, -0.014035305, -0.20901805, -0.3315528, -0.29279006, -0.18372577, -0.3187206, -0.20621718, -0.07629444, -0.40561754, -0.36469254, -0.1301346, -0.4039845, -0.24130714, -0.30602777, -0.12996307, -0.30078033, -0.15422568, -0.15083694, -0.3665271, -0.31584793, -0.29645935, -0.42959952, -0.32420757, -0.37074625, -0.28183544, -0.18285142, 0.14085208, -0.093253985, 0.12733723, 0.14491582, 0.4937279]\n",
      "5 bid\n",
      "cost = [1.2, 1.2, 1.2, 1.2, 1.2, 1.2, 1.2, 1.2, 1.2, 1.2, 1.2, 1.2, 1.2, 1.2, 1.2, 1.2, 1.2, 1.2, 1.2, 1.2, 1.2, 1.2, 1.2, 1.2, 1.2, 1.2, 1.2, 1.2, 1.2, 1.2, 1.2, 1.2, 1.2, 1.2, 1.2, 0.48]\n",
      "Array(q_values) = Float32[-0.108421855, -0.3476629, -0.14531559, -0.36618912, -0.2622905, -0.0876648, -0.33005652, -0.24745966, -0.050003897, -0.21120937, -0.09904177, -0.1671933, -0.20334175, -0.5130558, -0.37816396, -0.31736684, -0.34292614, -0.21271905, -0.34723064, -0.49555394, -0.3727952, -0.122306645, -0.21063675, -0.25934833, -0.4481266, -0.3078185, -0.03136371, -0.35921118, -0.10063868, -0.22820121, -0.2611344, 0.08473041, -0.22268595, 0.03471856, 0.024095867, 0.7410948]\n",
      "6 bid\n",
      "cost = [1.2, 1.2, 1.2, 1.2, 1.2, 1.2, 1.2, 1.2, 1.2, 1.2, 1.2, 1.2, 1.2, 1.2, 1.2, 1.2, 1.2, 1.2, 1.2, 1.2, 1.2, 1.2, 1.2, 1.2, 1.2, 1.2, 1.2, 1.2, 1.2, 1.2, 1.2, 1.2, 1.2, 1.2, 1.2, 0.48]\n",
      "Array(q_values) = Float32[-0.2826157, -0.14742897, -0.01614733, -0.3479768, -0.34446642, -0.36330158, -0.3242825, -0.2734105, -0.2623864, -0.2754188, -0.34640327, -0.12024692, -0.13005595, -0.36261263, -0.16997477, -0.34914017, -0.32383314, -0.24710226, -0.23875508, -0.17963962, -0.31504613, -0.16357453, -0.25135955, -0.2586836, -0.34059927, -0.24990736, -0.39249745, 0.0928261, 0.04684888, 0.17183244, -0.18589477, 0.0453564, 0.19625565, -0.21143359, 0.016170278, 0.4570058]\n",
      "Any[\"5\", \"AK6543\", \"AJ6\", \"T64\"]\n",
      "Any[\"JT7\", \"Q\", \"K87\", \"AJ9752\"]\n",
      "3H\n",
      "5C\n",
      "6C\n",
      "6H\n",
      "7N\n"
     ]
    }
   ],
   "source": [
    "n,s,bidding=bid(Q,deal_data[rand(1:end)],debug=true)\n",
    "println(human_readable(n))\n",
    "println(human_readable(s))\n",
    "for i in 1:36\n",
    "    if bidding[i]==1\n",
    "        println(bids[i])\n",
    "    end\n",
    "end"
   ]
  },
  {
   "cell_type": "markdown",
   "metadata": {},
   "source": [
    "# Calculate and Plot the Average Losses of every Epoch"
   ]
  },
  {
   "cell_type": "code",
   "execution_count": 11,
   "metadata": {},
   "outputs": [
    {
     "name": "stdout",
     "output_type": "stream",
     "text": [
      "100.0%┣██████████████████████████████████████████┫ 51/51 [00:17<00:00, 2.9 it/s]\n"
     ]
    }
   ],
   "source": [
    "test_losses=[[],[],[],[],[],[]];\n",
    "train_losses=[[],[],[],[],[],[]];\n",
    "\n",
    "for epoch in ProgressBar(history_of_Q)\n",
    "    database_state, database_target= bid_to_the_end(epoch,training_set,100)\n",
    "    database_state_test, database_target_test= bid_to_the_end(epoch,test_set,100)\n",
    "    for i in 1:6\n",
    "        data=minibatch(hcat(database_state[i]...),hcat(database_target[i]...),batch_size,shuffle=true);\n",
    "        push!(train_losses[i],epoch[i](first(data)));\n",
    "        data=minibatch(hcat(database_state_test[i]...),hcat(database_target_test[i]...),batch_size,shuffle=true);\n",
    "        push!(test_losses[i],epoch[i](first(data)));\n",
    "        \n",
    "    end\n",
    "end"
   ]
  },
  {
   "cell_type": "code",
   "execution_count": 12,
   "metadata": {},
   "outputs": [
    {
     "data": {
      "image/png": "[encoded data removed]"
     },
     "execution_count": 12,
     "metadata": {},
     "output_type": "execute_result"
    }
   ],
   "source": [
    "# Comparison to MLP shows faster convergence, better generalization\n",
    "plot(test_losses[1],label=\"Test 1\",xlabel=\"Epochs\",ylabel=\"Loss\")\n",
    "plot!(train_losses[1],label=\"Train 1\",xlabel=\"Epochs\",ylabel=\"Loss\")\n",
    "plot!(test_losses[2],label=\"Test 2\",xlabel=\"Epochs\",ylabel=\"Loss\")\n",
    "plot!(train_losses[2],label=\"Train 2\",xlabel=\"Epochs\",ylabel=\"Loss\")\n",
    "plot!(test_losses[3],label=\"Test 3\",xlabel=\"Epochs\",ylabel=\"Loss\")\n",
    "plot!(train_losses[3],label=\"Train 3\",xlabel=\"Epochs\",ylabel=\"Loss\")\n",
    "plot!(test_losses[4],label=\"Test 4\",xlabel=\"Epochs\",ylabel=\"Loss\")\n",
    "plot!(train_losses[4],label=\"Train 4\",xlabel=\"Epochs\",ylabel=\"Loss\")\n",
    "plot!(test_losses[5],label=\"Test 5\",xlabel=\"Epochs\",ylabel=\"Loss\")\n",
    "plot!(train_losses[5],label=\"Train 5\",xlabel=\"Epochs\",ylabel=\"Loss\")\n",
    "plot!(test_losses[6],label=\"Test 6\",xlabel=\"Epochs\",ylabel=\"Loss\")\n",
    "plot!(train_losses[6],label=\"Train 6\",xlabel=\"Epochs\",ylabel=\"Loss\")"
   ]
  },
  {
   "cell_type": "markdown",
   "metadata": {},
   "source": [
    "# Opening bid with a random hand"
   ]
  },
  {
   "cell_type": "code",
   "execution_count": 249,
   "metadata": {},
   "outputs": [],
   "source": [
    "example_bids=[]\n",
    "sample_size=1000\n",
    "for i in 1:sample_size\n",
    "    state= deal_data[rand(1:end)]\n",
    "    current_bid=1\n",
    "    action=explore(Q[1],atype(state[1]),current_bid,0)\n",
    "    push!(example_bids,(state[1],action,state[2],state[3]))\n",
    "end"
   ]
  },
  {
   "cell_type": "code",
   "execution_count": 260,
   "metadata": {},
   "outputs": [
    {
     "name": "stdout",
     "output_type": "stream",
     "text": [
      "Any[\"AQT2\", \"J987\", \"2\", \"KJ82\"]\n",
      "Any[\"94\", \"2\", \"JT984\", \"A6543\"]\n",
      "[0.12, 0.0, 0.16, 0.24, 0.2, 0.16, 0.0, 0.2, 0.28, 0.24, 0.2, 0.0, 0.24, 0.32, 0.28, 0.24, 0.16, 0.28, 0.36, 0.32, 0.28, 0.2, 0.32, 0.4, 0.36, 0.32, 0.24, 0.36, 0.44, 0.4, 0.36, 0.28, 0.4, 0.44, 0.44, 0.4]\n",
      "7D\n",
      "3C\n"
     ]
    }
   ],
   "source": [
    "instance=example_bids[rand(1:end)]\n",
    "println(human_readable(instance[1]))\n",
    "println(human_readable(instance[3]))\n",
    "println(instance[4][:,1])\n",
    "println(bids[instance[2]])\n",
    "println(bids[maximum(findall(x->x==0,instance[4][:,1]))])"
   ]
  },
  {
   "cell_type": "code",
   "execution_count": null,
   "metadata": {},
   "outputs": [],
   "source": [
    "\n"
   ]
  },
  {
   "cell_type": "code",
   "execution_count": null,
   "metadata": {},
   "outputs": [],
   "source": []
  }
 ],
 "metadata": {
  "@webio": {
   "lastCommId": null,
   "lastKernelId": null
  },
  "kernelspec": {
   "display_name": "Julia 1.5.3",
   "language": "julia",
   "name": "julia-1.5"
  },
  "language_info": {
   "file_extension": ".jl",
   "mimetype": "application/julia",
   "name": "julia",
   "version": "1.5.3"
  }
 },
 "nbformat": 4,
 "nbformat_minor": 4
}
