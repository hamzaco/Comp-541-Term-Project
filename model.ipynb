{
 "cells": [
  {
   "cell_type": "code",
   "execution_count": null,
   "metadata": {},
   "outputs": [],
   "source": [
    "using Knet: Knet, dir, accuracy, progress, sgd, load, save, gc, Param, KnetArray, Data, minibatch, nll, relu, training, dropout\n",
    "using Statistics\n",
    "using CUDA\n",
    "using Random\n",
    "using LinearAlgebra\n",
    "using Knet"
   ]
  },
  {
   "cell_type": "code",
   "execution_count": null,
   "metadata": {},
   "outputs": [],
   "source": [
    "struct Chain\n",
    "    layers;\n",
    "    Chain(layers...) = new(layers);\n",
    "end\n",
    "\n",
    "(c::Chain)(x) = (for l in c.layers; x = l(x); end; x);\n",
    "(c::Chain)(x,y) = loss(c(x),y);\n",
    "(c::Chain)(x::Tuple) = loss(c(x[1]),x[2]);\n",
    "(c::Chain)(d::Data) = mean(c(x,y) for (x,y) in d);\n",
    "\n",
    "struct Dense\n",
    "    w;\n",
    "    b;\n",
    "    f;\n",
    "end\n",
    "\n",
    "Dense(i::Int,o::Int,f=relu) = Dense(param(o,i),param0(o),f);\n",
    "(l::Dense)(x) = (l.w * x .+ l.b);\n",
    "\n",
    "\n"
   ]
  },
  {
   "cell_type": "code",
   "execution_count": null,
   "metadata": {},
   "outputs": [],
   "source": [
    "function loss(Q_value,cost)\n",
    "      return mean((Q_value-cost).^2)/2;\n",
    "end\n",
    "function sgdupdate!(func, x,y; lr=0.1)\n",
    "    fval = @diff func(x,y);\n",
    "    for param in params(fval)\n",
    "        ∇param = grad(fval, param);\n",
    "        param .-= lr * ∇param;\n",
    "    end\n",
    "    return value(fval);\n",
    "end\n"
   ]
  },
  {
   "cell_type": "code",
   "execution_count": null,
   "metadata": {},
   "outputs": [],
   "source": [
    "function get_saved_model(model_file)\n",
    "    Q=[]\n",
    "    push!(Q,Knet.load(model_file,\"q_network1\"));\n",
    "    push!(Q,Knet.load(model_file,\"q_network2\"));\n",
    "    push!(Q,Knet.load(model_file,\"q_network3\"));\n",
    "    push!(Q,Knet.load(model_file,\"q_network4\"));\n",
    "    push!(Q,Knet.load(model_file,\"q_network,5\"));\n",
    "    push!(Q,Knet.load(model_file,\"q_network6\"));\n",
    "    \n",
    "    return Q\n",
    "end"
   ]
  },
  {
   "cell_type": "code",
   "execution_count": null,
   "metadata": {},
   "outputs": [],
   "source": [
    "struct database\n",
    "    turn_depth;\n",
    "    data;\n",
    "end\n",
    "\n",
    "function database(t=6)\n",
    "    data=[]\n",
    "    for i in 1:t\n",
    "        push!(data,[])\n",
    "    end\n",
    "    return database(t,data)\n",
    "end\n",
    "\n",
    "function last_n_data(data, n_element=50000)\n",
    "    for i in 1:length(data)\n",
    "        if length(data[i]) > n_element\n",
    "            data[i]= data[length(data[i])-n_element:end]\n",
    "        end\n",
    "    end\n",
    "end\n",
    "\n",
    "function Base.push!(d::database,t,element)\n",
    "    push!(d.data[t],element)\n",
    "end"
   ]
  },
  {
   "cell_type": "code",
   "execution_count": null,
   "metadata": {},
   "outputs": [],
   "source": []
  }
 ],
 "metadata": {
  "kernelspec": {
   "display_name": "Julia 1.5.3",
   "language": "julia",
   "name": "julia-1.5"
  },
  "language_info": {
   "file_extension": ".jl",
   "mimetype": "application/julia",
   "name": "julia",
   "version": "1.5.3"
  }
 },
 "nbformat": 4,
 "nbformat_minor": 2
}
