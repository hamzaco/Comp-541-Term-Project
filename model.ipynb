{
 "cells": [
  {
   "cell_type": "code",
   "execution_count": 7,
   "metadata": {},
   "outputs": [
    {
     "name": "stderr",
     "output_type": "stream",
     "text": [
      "┌ Warning: Your Tesla K20m GPU does not meet the minimal required compute capability (3.5.0 < 5.0).\n",
      "│ Some functionality might not work. For a fully-supported set-up, please use an older version of CUDA.jl\n",
      "└ @ CUDA /kuacc/users/hcoban15/.julia/packages/CUDA/YeS8q/src/state.jl:251\n"
     ]
    }
   ],
   "source": [
    "using Knet: Knet, dir, accuracy, progress, sgd, load, save, gc, Param, KnetArray, Data, minibatch, nll, relu, training, dropout\n",
    "using Statistics\n",
    "using CUDA\n",
    "using Random\n",
    "using LinearAlgebra\n",
    "using Knet"
   ]
  },
  {
   "cell_type": "code",
   "execution_count": 11,
   "metadata": {},
   "outputs": [],
   "source": [
    "struct Chain\n",
    "    layers;\n",
    "    Chain(layers...) = new(layers);\n",
    "end\n",
    "\n",
    "(c::Chain)(x) = (for l in c.layers; x = l(x); end; x);\n",
    "(c::Chain)(x,y) = loss(c(x),y);\n",
    "(c::Chain)(x::Tuple) = loss(c(x[1]),x[2]);\n",
    "(c::Chain)(d::Data) = mean(c(x,y) for (x,y) in d);\n",
    "\n",
    "struct Dense\n",
    "    w;\n",
    "    b;\n",
    "    f;\n",
    "end\n",
    "\n",
    "Dense(i::Int,o::Int,f=relu) = Dense(param(o,i),param0(o),f);\n",
    "(l::Dense)(x) = (l.w * x .+ l.b);\n",
    "\n",
    "\n"
   ]
  },
  {
   "cell_type": "code",
   "execution_count": 12,
   "metadata": {},
   "outputs": [
    {
     "data": {
      "text/plain": [
       "sgdupdate! (generic function with 1 method)"
      ]
     },
     "execution_count": 12,
     "metadata": {},
     "output_type": "execute_result"
    }
   ],
   "source": [
    "function loss(Q_value,cost)\n",
    "      return mean((Q_value-cost).^2)/2;\n",
    "end\n",
    "function sgdupdate!(func, x,y; lr=0.1)\n",
    "    fval = @diff func(x,y);\n",
    "    for param in params(fval)\n",
    "        ∇param = grad(fval, param);\n",
    "        param .-= lr * ∇param;\n",
    "    end\n",
    "    return value(fval);\n",
    "end\n"
   ]
  },
  {
   "cell_type": "code",
   "execution_count": null,
   "metadata": {},
   "outputs": [],
   "source": []
  }
 ],
 "metadata": {
  "kernelspec": {
   "display_name": "Julia 1.5.3",
   "language": "julia",
   "name": "julia-1.5"
  },
  "language_info": {
   "file_extension": ".jl",
   "mimetype": "application/julia",
   "name": "julia",
   "version": "1.5.3"
  }
 },
 "nbformat": 4,
 "nbformat_minor": 2
}
