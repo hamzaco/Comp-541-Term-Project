{
 "cells": [
  {
   "cell_type": "code",
   "execution_count": 5,
   "metadata": {},
   "outputs": [
    {
     "data": {
      "text/plain": [
       "explore (generic function with 1 method)"
      ]
     },
     "execution_count": 5,
     "metadata": {},
     "output_type": "execute_result"
    }
   ],
   "source": [
    "\n",
    "function explore(Q_network,state,current_bid,epsilon)\n",
    "    q_values=Q_network(state);\n",
    "    if rand()>epsilon\n",
    "        bid=findmin(q_values[current_bid:end]);\n",
    "        #print(Array(q_values))\n",
    "        #println(bid)\n",
    "        bid=bid[2]+current_bid-1;\n",
    "\n",
    "    else\n",
    "        bid= rand(current_bid:36);\n",
    "    end \n",
    "    return bid,q_values;\n",
    "end"
   ]
  },
  {
   "cell_type": "code",
   "execution_count": null,
   "metadata": {},
   "outputs": [],
   "source": []
  }
 ],
 "metadata": {
  "kernelspec": {
   "display_name": "Julia 1.5.3",
   "language": "julia",
   "name": "julia-1.5"
  },
  "language_info": {
   "file_extension": ".jl",
   "mimetype": "application/julia",
   "name": "julia",
   "version": "1.5.3"
  }
 },
 "nbformat": 4,
 "nbformat_minor": 2
}
