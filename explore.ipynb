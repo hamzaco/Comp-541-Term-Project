{
 "cells": [
  {
   "cell_type": "code",
   "execution_count": 1,
   "metadata": {},
   "outputs": [
    {
     "data": {
      "text/plain": [
       "explore (generic function with 1 method)"
      ]
     },
     "execution_count": 1,
     "metadata": {},
     "output_type": "execute_result"
    }
   ],
   "source": [
    "\n",
    "function explore(Q_network,state,current_bid,epsilon;debugging=false)\n",
    "    q_values=Q_network(state)\n",
    "    if debugging\n",
    "        @show Array(q_values)\n",
    "    end\n",
    "    if rand()>epsilon\n",
    "        bid=findmin(q_values)\n",
    "        #print(Array(q_values))\n",
    "        #println(bid)\n",
    "        bid=bid[2]\n",
    "\n",
    "    else\n",
    "        bid= rand(current_bid:36)\n",
    "    end \n",
    "    return bid\n",
    "end"
   ]
  }
 ],
 "metadata": {
  "kernelspec": {
   "display_name": "Julia 1.5.3",
   "language": "julia",
   "name": "julia-1.5"
  },
  "language_info": {
   "file_extension": ".jl",
   "mimetype": "application/julia",
   "name": "julia",
   "version": "1.5.3"
  }
 },
 "nbformat": 4,
 "nbformat_minor": 2
}
