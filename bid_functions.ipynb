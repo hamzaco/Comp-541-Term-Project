{
 "cells": [
  {
   "cell_type": "code",
   "execution_count": 1,
   "metadata": {},
   "outputs": [
    {
     "data": {
      "text/plain": [
       "bid_to_the_end (generic function with 1 method)"
      ]
     },
     "execution_count": 1,
     "metadata": {},
     "output_type": "execute_result"
    }
   ],
   "source": [
    "function bid!(Q,deal,database_state,database_target,data_state_all_bid,epsilon_greedy)\n",
    "    bidding_hist=zeros(36,1);\n",
    "    instance=(deal[1],deal[2],bidding_hist);\n",
    "    for t in 1:turn_depth\n",
    "        if t==1\n",
    "            current_bid=1;\n",
    "            state=atype(reshape(instance[(t-1)%2+1],(52)));\n",
    "        else\n",
    "            b=findlast(x->x==1,bidding_hist);\n",
    "            current_bid=b[1];\n",
    "            state=atype(reshape(vcat(instance[(t-1)%2+1],instance[3]),(88)));  \n",
    "        end\n",
    "        #Algorithm P\n",
    "        target=determine_target(deepcopy(deal[3][:,(t-1)%2+1]),current_bid);\n",
    "        #Data for experience replay\n",
    "        push!(database_state[t],state);\n",
    "        push!(database_target[t],target);\n",
    "        #exploration\n",
    "        action=explore(Q[t],state,current_bid,epsilon_greedy);\n",
    "        # current bid is pass----- \n",
    "        if action== current_bid\n",
    "            break;\n",
    "        end\n",
    "            \n",
    "        #Update bidding history\n",
    "        bidding_hist[action]=1;\n",
    "    end   \n",
    "        push!(data_state_all_bid,(deal[1],deal[2],bidding_hist))\n",
    "\n",
    "    return \n",
    "end\n",
    "\n",
    "function bid_to_the_end(Q,deal_set,number_of_deals)\n",
    "    database_state=[[],[],[],[],[],[]];\n",
    "    database_target=[[],[],[],[],[],[]];\n",
    "    for i in 1:number_of_deals\n",
    "        bid!(Q,deal_set[rand(1:end)],database_state,database_target,[],0);\n",
    "    end \n",
    "    return database_state, database_target ,data_state_all_bid\n",
    "end"
   ]
  },
  {
   "cell_type": "code",
   "execution_count": 2,
   "metadata": {},
   "outputs": [
    {
     "data": {
      "text/plain": [
       "bid (generic function with 1 method)"
      ]
     },
     "execution_count": 2,
     "metadata": {},
     "output_type": "execute_result"
    }
   ],
   "source": [
    "function bid(Q,deal;debug=false)\n",
    "    bidding_hist=zeros(36,1);\n",
    "    instance=(deal[1],deal[2],bidding_hist);\n",
    "    for t in 1:turn_depth\n",
    "        if debug\n",
    "            println(string(t,\" bid\"))\n",
    "        end\n",
    "        if t==1\n",
    "            current_bid=1;\n",
    "            state=atype(reshape(instance[(t-1)%2+1],(52)));\n",
    "        else\n",
    "            b=findlast(x->x==1,bidding_hist);\n",
    "            current_bid=b[1];\n",
    "            state=atype(reshape(vcat(instance[(t-1)%2+1],instance[3]),(88)));  \n",
    "        end\n",
    "        #Algorithm P\n",
    "        target=determine_target(deepcopy(deal[3][:,(t-1)%2+1]),current_bid,debugging=debug);\n",
    "        #Data for experience replay\n",
    "        #exploration\n",
    "        action=explore(Q[t],state,current_bid,0,debugging=debug);\n",
    "        # current bid is pass----- \n",
    "        if action== current_bid\n",
    "            break;\n",
    "        end\n",
    "            \n",
    "        #Update bidding history\n",
    "        bidding_hist[action]=1;\n",
    "    end   \n",
    "\n",
    "    return deal[1],deal[2],bidding_hist\n",
    "end"
   ]
  },
  {
   "cell_type": "code",
   "execution_count": null,
   "metadata": {},
   "outputs": [],
   "source": []
  }
 ],
 "metadata": {
  "kernelspec": {
   "display_name": "Julia 1.5.3",
   "language": "julia",
   "name": "julia-1.5"
  },
  "language_info": {
   "file_extension": ".jl",
   "mimetype": "application/julia",
   "name": "julia",
   "version": "1.5.3"
  }
 },
 "nbformat": 4,
 "nbformat_minor": 2
}
