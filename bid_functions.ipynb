{
 "cells": [
  {
   "cell_type": "code",
   "execution_count": 3,
   "metadata": {},
   "outputs": [
    {
     "data": {
      "text/plain": [
       "human_readable (generic function with 1 method)"
      ]
     },
     "execution_count": 3,
     "metadata": {},
     "output_type": "execute_result"
    }
   ],
   "source": [
    "using NBInclude;\n",
    "using Plots; default(fmt=:png,ls=:auto);\n",
    "@nbinclude(\"deal_features.ipynb\");"
   ]
  },
  {
   "cell_type": "code",
   "execution_count": 2,
   "metadata": {},
   "outputs": [
    {
     "data": {
      "text/plain": [
       "bid_to_the_end (generic function with 1 method)"
      ]
     },
     "execution_count": 2,
     "metadata": {},
     "output_type": "execute_result"
    }
   ],
   "source": [
    "function bid!(Q,deal,database_state,database_target,epsilon_greedy;turn_depth=6)\n",
    "    bidding_hist=zeros(36,1);\n",
    "    instance=(deal[1],deal[2],bidding_hist);\n",
    "    current_bid=1;\n",
    "    bidding_hist[1]=1;\n",
    "    loss=[];\n",
    "    for t in 1:turn_depth\n",
    "        if t==1\n",
    "            state=atype(instance[(t-1)%2+1]);\n",
    "        else\n",
    "            state=atype(vcat(instance[(t-1)%2+1],bidding_hist));  \n",
    "        end\n",
    "        target=determine_target(deal[3][:,(t-1)%2+1],current_bid); #Algorithm P\n",
    "        \n",
    "        #target[1]=0.1; to avoid double pass\n",
    "        #exploration\n",
    "        action,q_values=explore(Q[t],state,current_bid,epsilon_greedy);\n",
    "        \n",
    "        \n",
    "        #Data for experience replay\n",
    "        \n",
    "        # current bid is pass----- \n",
    "        push!(loss,sum((q_values-reshape(target,(36,1))).^2))\n",
    "        if action== current_bid || t==turn_depth\n",
    "            target=deepcopy(deal[3][:,(t-1)%2+1]);\n",
    "            push!(database_state[t],state);\n",
    "            push!(database_target[t],target);  \n",
    "            return target[action],loss\n",
    "            break;\n",
    "        end\n",
    "        push!(database_state[t],state);\n",
    "        push!(database_target[t],target);  \n",
    "        #Update bidding history\n",
    "        bidding_hist[action]=1;\n",
    "        current_bid=action;\n",
    "    end   \n",
    "end\n",
    "function bid_to_the_end(Q,deal_set,number_of_deals)\n",
    "    database_state=[[],[],[],[],[],[]];\n",
    "    database_target=[[],[],[],[],[],[]];\n",
    "    for i in 1:number_of_deals\n",
    "        bid!(Q,deal_set[rand(1:end)],database_state,database_target,0);\n",
    "    end\n",
    "    return database_state, database_target;\n",
    "end"
   ]
  },
  {
   "cell_type": "code",
   "execution_count": 3,
   "metadata": {},
   "outputs": [
    {
     "data": {
      "text/plain": [
       "bid (generic function with 1 method)"
      ]
     },
     "execution_count": 3,
     "metadata": {},
     "output_type": "execute_result"
    }
   ],
   "source": [
    "function bid(Q,deal;debug=false)\n",
    "    bidding_hist=zeros(36,1);\n",
    "    instance=(deal[1],deal[2],bidding_hist);\n",
    "    q_values_data=[];\n",
    "    target_data=[];\n",
    "    current_bid=1;\n",
    "    bidding_hist[1]=1;\n",
    "    for t in 1:turn_depth\n",
    "        if debug\n",
    "            println(string(t,\" bid\"));\n",
    "        end\n",
    "        if t==1\n",
    "            state=atype(instance[(t-1)%2+1]);\n",
    "        else\n",
    "            state=atype(vcat(instance[(t-1)%2+1],bidding_hist));  \n",
    "        end\n",
    "        target=reshape(determine_target(deal[3][:,(t-1)%2+1],current_bid),(36,1)); #Algorithm P\n",
    "        #target[1]=0.1;\n",
    "        \n",
    "        #Data for experience replay\n",
    "        #exploration\n",
    "        action,q_values=explore(Q[t],state,current_bid,0);\n",
    "        # current bid is pass----- \n",
    "        if action== current_bid || t==6\n",
    "            target=deepcopy(deal[3][:,(t-1)%2+1]);\n",
    "            if debug\n",
    "                print(\"Bid\"); print(\"\\t\"); print(\"Q value\"); print(\"\\t \\t\"); print(\"Cost\");  print(\"\\t\"); println(\"Loss\")\n",
    "                for i in 1:36\n",
    "                    print(bids[i]); print(\"\\t\"); print(q_values[i]);  print(\"\\t\"); print(target[i]); print(\"\\t\"); println(q_values[i]-target[i])\n",
    "                end\n",
    "            end\n",
    "            push!(q_values_data,q_values)\n",
    "            push!(target_data,target)\n",
    "            break;\n",
    "        end\n",
    "        if debug\n",
    "            print(\"Bid\"); print(\"\\t\"); print(\"Q value\"); print(\"\\t \\t\"); print(\"Cost\");  print(\"\\t\"); println(\"Loss\")\n",
    "            for i in 1:36\n",
    "                print(bids[i]); print(\"\\t\"); print(q_values[i]);  print(\"\\t\"); print(target[i]); print(\"\\t\"); println(q_values[i]-target[i])\n",
    "            end\n",
    "            \n",
    "        end    \n",
    "        push!(q_values_data,q_values)\n",
    "        push!(target_data,target)\n",
    "        #Update bidding history\n",
    "        bidding_hist[action]=1;\n",
    "        current_bid=action;\n",
    "    end   \n",
    "\n",
    "\n",
    "    return deal[1],deal[2],bidding_hist,q_values_data,target_data\n",
    "end"
   ]
  },
  {
   "cell_type": "code",
   "execution_count": 1,
   "metadata": {},
   "outputs": [
    {
     "data": {
      "text/plain": [
       "sample_bid (generic function with 1 method)"
      ]
     },
     "execution_count": 1,
     "metadata": {},
     "output_type": "execute_result"
    }
   ],
   "source": [
    "function sample_bid(Q,deal;debug=false)\n",
    "    n,s,bidding,q_values,target=bid(Q,deal,debug=debug);\n",
    "    \n",
    "    for i in 1:length(target)\n",
    "        q_values[i]=reshape(q_values[i],(36,1));\n",
    "        target[i]=reshape(target[i],(36,1));\n",
    "        println(\"\",mean((q_values[i]-atype(target[i])).^2));\n",
    "    end\n",
    "    println(human_readable(n));\n",
    "    println(human_readable(s));\n",
    "    for i in 1:36\n",
    "        if bidding[i]==1\n",
    "            println(bids[i]);\n",
    "        end\n",
    "    end \n",
    "end"
   ]
  },
  {
   "cell_type": "code",
   "execution_count": null,
   "metadata": {},
   "outputs": [],
   "source": []
  }
 ],
 "metadata": {
  "kernelspec": {
   "display_name": "Julia 1.5.3",
   "language": "julia",
   "name": "julia-1.5"
  },
  "language_info": {
   "file_extension": ".jl",
   "mimetype": "application/julia",
   "name": "julia",
   "version": "1.5.3"
  }
 },
 "nbformat": 4,
 "nbformat_minor": 2
}
