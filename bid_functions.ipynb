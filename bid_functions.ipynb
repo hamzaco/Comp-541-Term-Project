{
 "cells": [
  {
   "cell_type": "code",
   "execution_count": 3,
   "metadata": {},
   "outputs": [
    {
     "data": {
      "text/plain": [
       "human_readable (generic function with 1 method)"
      ]
     },
     "execution_count": 3,
     "metadata": {},
     "output_type": "execute_result"
    }
   ],
   "source": [
    "using NBInclude;\n",
    "using Plots; default(fmt=:png,ls=:auto);\n",
    "@nbinclude(\"deal_features.ipynb\");"
   ]
  },
  {
   "cell_type": "code",
   "execution_count": 1,
   "metadata": {},
   "outputs": [
    {
     "data": {
      "text/plain": [
       "bid_to_the_end (generic function with 1 method)"
      ]
     },
     "execution_count": 1,
     "metadata": {},
     "output_type": "execute_result"
    }
   ],
   "source": [
    "function bid!(Q,deal,database_state,database_target,epsilon_greedy)\n",
    "    bidding_hist=zeros(36,1);\n",
    "    instance=(deal[1],deal[2],bidding_hist);\n",
    "    for t in 1:turn_depth\n",
    "        if t==1\n",
    "            current_bid=1;\n",
    "            state=atype(instance[(t-1)%2+1]);\n",
    "            target=determine_target(deepcopy(deal[3][:,(t-1)%2+1]),current_bid); #Algorithm P7\n",
    "            target[1]=0.1\n",
    "        else\n",
    "            b=findlast(x->x==1,bidding_hist);\n",
    "            current_bid=b[1];\n",
    "            state=atype(vcat(instance[(t-1)%2+1],bidding_hist));  \n",
    "            target=determine_target(deepcopy(deal[3][:,(t-1)%2+1]),current_bid); #Algorithm P\n",
    "        end\n",
    "\n",
    "\n",
    "        #exploration\n",
    "        action,_=explore(Q[t],state,current_bid,epsilon_greedy);\n",
    "        #Update bidding history\n",
    "\n",
    "        bidding_hist[action]=1;\n",
    "        #Data for experience replay\n",
    "\n",
    "        \n",
    "        \n",
    "        # current bid is pass----- \n",
    "\n",
    "        if action== current_bid\n",
    "            target=target+deepcopy(deal[3][:,(t-1)%2+1]);\n",
    "            push!(database_state[t],state);\n",
    "            push!(database_target[t],target);  \n",
    "            break;\n",
    "            \n",
    "        end\n",
    "                  \n",
    "        push!(database_state[t],state);\n",
    "        push!(database_target[t],target);  \n",
    "    end   \n",
    "\n",
    "end\n",
    "\n",
    "function bid_to_the_end(Q,deal_set,number_of_deals)\n",
    "    database_state=[[],[],[],[],[],[]];\n",
    "    database_target=[[],[],[],[],[],[]];\n",
    "    for i in 1:number_of_deals\n",
    "        bid!(Q,deal_set[rand(1:end)],database_state,database_target,0);\n",
    "    end\n",
    "    return database_state, database_target;\n",
    "end"
   ]
  },
  {
   "cell_type": "code",
   "execution_count": 1,
   "metadata": {},
   "outputs": [
    {
     "data": {
      "text/plain": [
       "bid (generic function with 1 method)"
      ]
     },
     "execution_count": 1,
     "metadata": {},
     "output_type": "execute_result"
    }
   ],
   "source": [
    "function bid(Q,deal;debug=false)\n",
    "    bidding_hist=zeros(36,1);\n",
    "    instance=(deal[1],deal[2],bidding_hist);\n",
    "    q_values_data=[];\n",
    "    target_data=[];\n",
    "    for t in 1:turn_depth\n",
    "        if debug\n",
    "            println(string(t,\" bid\"));\n",
    "        end\n",
    "        if t==1\n",
    "            current_bid=1;\n",
    "            state=atype(instance[(t-1)%2+1]);\n",
    "            target=determine_target(deepcopy(deal[3][:,(t-1)%2+1]),current_bid); #Algorithm P7\n",
    "            target[1]=0.1\n",
    "        else\n",
    "            b=findlast(x->x==1,bidding_hist);\n",
    "            current_bid=b[1];\n",
    "            state=atype(vcat(instance[(t-1)%2+1],bidding_hist));  \n",
    "            target=determine_target(deepcopy(deal[3][:,(t-1)%2+1]),current_bid); #Algorithm P\n",
    "        end\n",
    "        \n",
    "        #Data for experience replay\n",
    "        #exploration\n",
    "        action,q_values=explore(Q[t],state,current_bid,0);\n",
    "        # current bid is pass----- \n",
    "        if action== current_bid\n",
    "            target=target+deepcopy(deal[3][:,(t-1)%2+1]);\n",
    "            if debug\n",
    "                print(\"Bid\"); print(\"\\t\"); print(\"Q value\"); print(\"\\t \\t\"); print(\"Cost\");  print(\"\\t\"); println(\"Loss\")\n",
    "                for i in 1:36\n",
    "                    print(bids[i]); print(\"\\t\"); print(q_values[i]);  print(\"\\t\"); print(target[i]); print(\"\\t\"); println(q_values[i]-target[i])\n",
    "                end\n",
    "            push!(q_values_data,q_values)\n",
    "            push!(target_data,target)\n",
    "            end\n",
    "            break;\n",
    "        end\n",
    "        if debug\n",
    "            print(\"Bid\"); print(\"\\t\"); print(\"Q value\"); print(\"\\t \\t\"); print(\"Cost\");  print(\"\\t\"); println(\"Loss\")\n",
    "            for i in 1:36\n",
    "                print(bids[i]); print(\"\\t\"); print(q_values[i]);  print(\"\\t\"); print(target[i]); print(\"\\t\"); println(q_values[i]-target[i])\n",
    "            end\n",
    "            push!(q_values_data,q_values)\n",
    "            push!(target_data,target)\n",
    "        end    \n",
    "        \n",
    "        #Update bidding history\n",
    "        bidding_hist[action]=1;\n",
    "    end   \n",
    "\n",
    "    return deal[1],deal[2],bidding_hist,q_values_data,target_data\n",
    "end"
   ]
  },
  {
   "cell_type": "code",
   "execution_count": null,
   "metadata": {},
   "outputs": [],
   "source": []
  }
 ],
 "metadata": {
  "kernelspec": {
   "display_name": "Julia 1.5.3",
   "language": "julia",
   "name": "julia-1.5"
  },
  "language_info": {
   "file_extension": ".jl",
   "mimetype": "application/julia",
   "name": "julia",
   "version": "1.5.3"
  }
 },
 "nbformat": 4,
 "nbformat_minor": 2
}
