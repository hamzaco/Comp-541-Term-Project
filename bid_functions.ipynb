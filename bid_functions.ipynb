{
 "cells": [
  {
   "cell_type": "code",
   "execution_count": 8,
   "metadata": {},
   "outputs": [],
   "source": [
    "using NBInclude;\n",
    "@nbinclude(\"deal_features.ipynb\");"
   ]
  },
  {
   "cell_type": "code",
   "execution_count": 7,
   "metadata": {},
   "outputs": [
    {
     "data": {
      "text/plain": [
       "get_human_bid (generic function with 1 method)"
      ]
     },
     "execution_count": 7,
     "metadata": {},
     "output_type": "execute_result"
    }
   ],
   "source": [
    "function get_human_bid(hand)  # get the strong opening bid if the hand is eligible\n",
    "    hcp=hcp_of(hand)\n",
    "    if hcp < 12\n",
    "        return 1\n",
    "    end\n",
    "    dist=distribution_of(hand)\n",
    "    if is_balanced(hand) && hcp>=20 && hcp<=21\n",
    "        return findfirst(x->x==\"2N\",bids)\n",
    "    elseif hcp>=22\n",
    "        return findfirst(x->x==\"2C\",bids)\n",
    "    elseif dist[1] >= 5 && dist[2] <= dist[1]\n",
    "        return findfirst(x->x==\"1S\",bids)\n",
    "    elseif dist[2] >=5 \n",
    "        return findfirst(x->x==\"1H\",bids)\n",
    "    elseif is_balanced(hand) && hcp>=15 && hcp<=17\n",
    "        return findfirst(x->x==\"1N\",bids)\n",
    "    elseif dist[3] > dist[4]\n",
    "        return findfirst(x->x==\"1D\",bids)\n",
    "    elseif dist[4] > dist[3] || dist[4]==3\n",
    "        return findfirst(x->x==\"1C\",bids)\n",
    "    else\n",
    "        return findfirst(x->x==\"1D\",bids)\n",
    "    end\n",
    "end"
   ]
  },
  {
   "cell_type": "code",
   "execution_count": 2,
   "metadata": {},
   "outputs": [
    {
     "data": {
      "text/plain": [
       "bid_to_the_end (generic function with 1 method)"
      ]
     },
     "execution_count": 2,
     "metadata": {},
     "output_type": "execute_result"
    }
   ],
   "source": [
    "function bid!(Q,deal,database_state,database_target,epsilon_greedy;turn_depth=6, epsilon_human=0.0,feature=nothing)\n",
    "    bidding_hist=zeros(36,1);\n",
    "    instance=(deal[1],deal[2],bidding_hist);\n",
    "    current_bid=1;\n",
    "    loss=[];\n",
    "    for t in 1:turn_depth\n",
    "        if t==1\n",
    "            state=atype(instance[(t-1)%2+1]);\n",
    "            if rand()<epsilon_human      #get human bid with probability epsilon_human\n",
    "                action=get_human_bid(instance[(t-1)%2+1])\n",
    "                bidding_hist[action]=1;\n",
    "                current_bid=action;\n",
    "                continue;   \n",
    "            end\n",
    "        else\n",
    "            state=atype(vcat(instance[(t-1)%2+1],bidding_hist));  \n",
    "        end\n",
    "        target=determine_target(deal[3][:,(t-1)%2+1],current_bid,feature=feature,hand=instance[t%2+1]); #Algorithm P\n",
    "        \n",
    "        #target[1]=0.1; to avoid double pass\n",
    "        #exploration\n",
    "        action,q_values=explore(Q[t],state,current_bid,epsilon_greedy);\n",
    "        \n",
    "        \n",
    "        #Data for experience replay\n",
    "        \n",
    "        # current bid is pass----- \n",
    "        push!(loss,sum((q_values-reshape(target,(length(target),1))).^2))\n",
    "        if (action== current_bid && t>1)|| t==turn_depth\n",
    "            target=vcat(deepcopy(deal[3][:,(t-1)%2+1]),target[37:end]); #only change the cost part\n",
    "            push!(database_state,t,state);\n",
    "            push!(database_target,t,target);  \n",
    "            return target[action],loss\n",
    "            break;\n",
    "        end\n",
    "        push!(database_state,t,state);\n",
    "        push!(database_target,t,target);  \n",
    "        #Update bidding history\n",
    "        bidding_hist[action]=1;\n",
    "        current_bid=action;\n",
    "    end   \n",
    "end\n",
    "\n",
    "\n",
    "function bid_to_the_end(Q,deal_set,number_of_deals)\n",
    "    database_state=[[],[],[],[],[],[]];\n",
    "    database_target=[[],[],[],[],[],[]];\n",
    "    for i in 1:number_of_deals\n",
    "        bid!(Q,deal_set[rand(1:end)],database_state,database_target,0);\n",
    "    end\n",
    "    return database_state, database_target;\n",
    "end"
   ]
  },
  {
   "cell_type": "code",
   "execution_count": 3,
   "metadata": {},
   "outputs": [
    {
     "data": {
      "text/plain": [
       "bid (generic function with 1 method)"
      ]
     },
     "execution_count": 3,
     "metadata": {},
     "output_type": "execute_result"
    }
   ],
   "source": [
    "function bid(Q,deal;debug=false,turn_depth=6,epsilon_human=0,feature=nothing)\n",
    "    bidding_hist=zeros(36,1);\n",
    "    instance=(deal[1],deal[2],bidding_hist);\n",
    "    q_values_data=[];\n",
    "    target_data=[];\n",
    "    current_bid=1;\n",
    "    for t in 1:turn_depth\n",
    "        if t==1\n",
    "            state=atype(instance[(t-1)%2+1]);\n",
    "            if rand()<epsilon_human      #get human bid with probability epsilon_human\n",
    "                action=get_human_bid(instance[(t-1)%2+1])\n",
    "                bidding_hist[action]=1;\n",
    "                current_bid=action;\n",
    "                continue;   \n",
    "            end\n",
    "        else\n",
    "            state=atype(vcat(instance[(t-1)%2+1],bidding_hist));  \n",
    "        end\n",
    "        target=determine_target(deal[3][:,(t-1)%2+1],current_bid,feature=feature,hand=instance[t%2+1]); #Algorithm P\n",
    "        target=reshape(target,(length(target),1));\n",
    "        #target[1]=0.1;\n",
    "        \n",
    "        #Data for experience replay\n",
    "        #exploration\n",
    "        action,q_values=explore(Q[t],state,current_bid,0);\n",
    "        # current bid is pass----- \n",
    "        if (action== current_bid && t>1) || t==turn_depth\n",
    "            target=vcat(deepcopy(deal[3][:,(t-1)%2+1]),target[37:end]); #only change the cost part\n",
    "            push!(q_values_data,q_values)\n",
    "            push!(target_data,target)\n",
    "            break;\n",
    "        end\n",
    "        if debug\n",
    "            print_bidding(bidding_hist)\n",
    "        end    \n",
    "        push!(q_values_data,q_values)\n",
    "        push!(target_data,target)\n",
    "        #Update bidding history\n",
    "        bidding_hist[action]=1;\n",
    "        current_bid=action;\n",
    "    end   \n",
    "\n",
    "\n",
    "    return deal[1],deal[2],bidding_hist,q_values_data,target_data\n",
    "end"
   ]
  },
  {
   "cell_type": "code",
   "execution_count": 4,
   "metadata": {},
   "outputs": [],
   "source": [
    "using Printf"
   ]
  },
  {
   "cell_type": "code",
   "execution_count": 5,
   "metadata": {},
   "outputs": [
    {
     "data": {
      "text/plain": [
       "sample_bid (generic function with 1 method)"
      ]
     },
     "execution_count": 5,
     "metadata": {},
     "output_type": "execute_result"
    }
   ],
   "source": [
    "function sample_bid(Q,deal;debug=false,turn_depth=6,epsilon_human=0,feature=nothing,belief_turn=2)\n",
    "    n,s,bidding,q_values,target=bid(Q,deal,debug=debug,\n",
    "        epsilon_human=epsilon_human,turn_depth=turn_depth,feature=feature);\n",
    "    print_deal(n,s)\n",
    "    contract=print_bidding(bidding)\n",
    "    print(\"cost: \",Int(target[end][contract]*25))\n",
    "    println(\", optimal: \",bids[findlast(x->x==0,target[end][1:36])])\n",
    "    declarer= [\"North\", \"South\"]\n",
    "    \n",
    "    if feature==\"median\" || feature==\"highest\"\n",
    "        println(\"Belief on North\")\n",
    "\n",
    "        for t in 2:2:length(q_values)\n",
    "            q_values[t][37:40]=round.(q_values[t][37:40]*3,digits=3)\n",
    "            q_values[t][end]=round(q_values[t][end]*10,digits=3)\n",
    "            \n",
    "            @printf(\"%6s %2.2f %6s %2.2f %6s %2.2f %6s %2.2f %6s %2.2f \\n\",\n",
    "                \"spades:\",q_values[t][37],\"hearts: \",q_values[t][38],\n",
    "                \"diamonds: \",q_values[t][39],\"clubs: \",q_values[t][40],\n",
    "                \"HCP:\",q_values[t][41])\n",
    "        end\n",
    "        \n",
    "        println(\"Belief on South\")\n",
    "        for t in 1:2:length(q_values)\n",
    "            q_values[t][37:40]=round.(q_values[t][37:40]*3,digits=3)\n",
    "            q_values[t][end]=round(q_values[t][end]*10,digits=3)\n",
    "            \n",
    "            @printf(\"%6s %2.2f %6s %2.2f %6s %2.2f %6s %2.2f %6s %2.2f \\n\",\n",
    "                \"spades:\",q_values[t][37],\"hearts: \",q_values[t][38],\n",
    "                \"diamonds: \",q_values[t][39],\"clubs: \",q_values[t][40],\n",
    "                \"HCP:\",q_values[t][41])\n",
    "        end  \n",
    "    end\n",
    "end"
   ]
  },
  {
   "cell_type": "code",
   "execution_count": null,
   "metadata": {},
   "outputs": [],
   "source": [
    "function model_accuracy(models,test_set;progress=false,turn_depth=6,epsilon_human=0,feature=nothing)\n",
    "    accuracies=[]\n",
    "    ave_imps=[]\n",
    "    for Q in models\n",
    "        got_it=0;\n",
    "        ave_imp=0\n",
    "        if progress\n",
    "            iterator= ProgressBar(test_set)\n",
    "        else\n",
    "            iterator= test_set\n",
    "        end\n",
    "        for deal in iterator\n",
    "            _,_,bidding_hist,_,targets=bid(Q,deal,turn_depth=turn_depth,epsilon_human=epsilon_human,feature=feature)\n",
    "            true_costs=targets[end]\n",
    "            if 1 in bidding_hist\n",
    "                cost=true_costs[findlast(x->x==1,bidding_hist)]  #find the last bid and the cost of it\n",
    "            else\n",
    "                cost=true_costs[1] # the double pass\n",
    "            end\n",
    "            if cost == 0\n",
    "                got_it += 1\n",
    "            else\n",
    "                ave_imp += cost*24\n",
    "            end\n",
    "            \n",
    "        end\n",
    "        println(got_it/length(test_set))\n",
    "        println(ave_imp/length(test_set))\n",
    "        push!(accuracies,got_it/length(test_set))\n",
    "        push!(ave_imps,ave_imp/length(test_set))\n",
    "    end\n",
    "    if length(accuracies)==1\n",
    "        return accuracies[1],ave_imps[1]\n",
    "    end\n",
    "    return accuracies,ave_imps\n",
    "end"
   ]
  }
 ],
 "metadata": {
  "kernelspec": {
   "display_name": "Julia 1.5.3",
   "language": "julia",
   "name": "julia-1.5"
  },
  "language_info": {
   "file_extension": ".jl",
   "mimetype": "application/julia",
   "name": "julia",
   "version": "1.5.3"
  }
 },
 "nbformat": 4,
 "nbformat_minor": 2
}
