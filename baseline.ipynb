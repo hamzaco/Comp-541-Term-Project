{
 "cells": [
  {
   "cell_type": "code",
   "execution_count": 15,
   "metadata": {},
   "outputs": [
    {
     "data": {
      "text/plain": [
       "human_readable (generic function with 1 method)"
      ]
     },
     "execution_count": 15,
     "metadata": {},
     "output_type": "execute_result"
    }
   ],
   "source": [
    "using Random\n",
    "using LinearAlgebra\n",
    "using NBInclude\n",
    "@nbinclude(\"deal_features.ipynb\")"
   ]
  },
  {
   "cell_type": "code",
   "execution_count": 16,
   "metadata": {},
   "outputs": [
    {
     "data": {
      "text/plain": [
       "generate_random_instances (generic function with 1 method)"
      ]
     },
     "execution_count": 16,
     "metadata": {},
     "output_type": "execute_result"
    }
   ],
   "source": [
    "function generate_cost(hands_NS,random_trial=5;random_cost=false)\n",
    "    if random_cost\n",
    "        return rand(52,1)\n",
    "    end\n",
    "    costs=zeros(52,1)\n",
    "    for i in 1:random_trial\n",
    "        deal=random_deal(hands)\n",
    "        #---- generate cost vector here\n",
    "        \n",
    "        #-----\n",
    "        costs +=costs\n",
    "    end\n",
    "    return costs./random_trial\n",
    "end\n",
    "function generate_random_instances(size)\n",
    "    data=Array{Float64,3}(undef,3,52,size)\n",
    "    for i in 1:size\n",
    "        deal=random_deal()\n",
    "        data[1,:,i]=deal[:,1]\n",
    "        data[2,:,i]=deal[:,2]\n",
    "        data[3,:,i]=generate_cost(deal[:,1:2],random_cost=true)\n",
    "    end\n",
    "    return data\n",
    "end"
   ]
  },
  {
   "cell_type": "code",
   "execution_count": 17,
   "metadata": {},
   "outputs": [
    {
     "data": {
      "text/plain": [
       "0.481380115073463"
      ]
     },
     "execution_count": 17,
     "metadata": {},
     "output_type": "execute_result"
    }
   ],
   "source": [
    "instance_size=1000;\n",
    "instances = generate_random_instances(instance_size);\n",
    "turn_depth=6;\n",
    "costs=[]\n",
    "iteration_size=1000\n",
    "for i in 1:iteration_size\n",
    "    instance= instances[:,:,rand(1:instance_size)]; #choose a random deal\n",
    "    bidding_hist=zeros(36);\n",
    "    for t in 1:turn_depth\n",
    "        if t==1\n",
    "            last_bid=1\n",
    "        else\n",
    "            last_bid=maximum(findall(x-> x==1,bidding_hist)) #the nature of an action\n",
    "        end\n",
    "        current_bid=rand(last_bid:36) #randomly bid a contract\n",
    "        if last_bid == current_bid #if current bid is pass\n",
    "            break;\n",
    "        end\n",
    "        bidding_hist[current_bid]=1;\n",
    "    end\n",
    "    \n",
    "    contract=1\n",
    "    try\n",
    "        contract=findall(x-> x==1,bidding_hist)[1]\n",
    "    catch\n",
    "        contract=1\n",
    "    end\n",
    "    cost=instance[3,contract]   # cost of declaring this contract\n",
    "    push!(costs,cost)\n",
    "end\n",
    "\n",
    "mean(costs)   # overall success of the baseline"
   ]
  }
 ],
 "metadata": {
  "kernelspec": {
   "display_name": "Julia 1.5.3",
   "language": "julia",
   "name": "julia-1.5"
  },
  "language_info": {
   "file_extension": ".jl",
   "mimetype": "application/julia",
   "name": "julia",
   "version": "1.5.3"
  }
 },
 "nbformat": 4,
 "nbformat_minor": 2
}
