{
 "cells": [
  {
   "cell_type": "code",
   "execution_count": 1,
   "metadata": {},
   "outputs": [
    {
     "data": {
      "text/plain": [
       "get_score (generic function with 2 methods)"
      ]
     },
     "execution_count": 1,
     "metadata": {},
     "output_type": "execute_result"
    }
   ],
   "source": [
    "function get_score(contract,trick_made,is_vul=false) # get the raw score of any contract\n",
    "    trump=contract[2]\n",
    "    trick_bid= parse(Int32,contract[1])+6\n",
    "    level=parse(Int32,contract[1])\n",
    "    made= trick_made >= trick_bid\n",
    "    over_trick = trick_made - trick_bid\n",
    "    if made\n",
    "        if trump in ['H','S']\n",
    "            contract_points=(trick_made-6)*30\n",
    "            is_game=level >=4\n",
    "        elseif trump in ['D','C']\n",
    "            contract_points=(trick_made-6)*20\n",
    "            is_game=level >=5\n",
    "        else\n",
    "            contract_points=(40+(trick_made-6-1)*30)\n",
    "            is_game=level >=3\n",
    "        end\n",
    "        game_points=0\n",
    "        slam_bonus=0\n",
    "        part_score_bonus=0\n",
    "        if is_game\n",
    "            game_points=300+is_vul*200\n",
    "        else\n",
    "            part_score_bonus=50\n",
    "        end\n",
    "        if level==6\n",
    "            slam_bonus=500+is_vul*250\n",
    "        elseif level == 7\n",
    "            slam_bonus=1000+is_vul*500\n",
    "        end\n",
    "        score= game_points+slam_bonus+part_score_bonus+contract_points\n",
    "        return score\n",
    "    else\n",
    "        penalty=0\n",
    "        if is_vul\n",
    "            penalty=100*over_trick\n",
    "        else\n",
    "            penalty=50*over_trick\n",
    "        end\n",
    "        return penalty\n",
    "    end\n",
    "end"
   ]
  },
  {
   "cell_type": "code",
   "execution_count": 2,
   "metadata": {},
   "outputs": [
    {
     "data": {
      "text/plain": [
       "raw_score_to_imp (generic function with 1 method)"
      ]
     },
     "execution_count": 2,
     "metadata": {},
     "output_type": "execute_result"
    }
   ],
   "source": [
    "function raw_score_to_imp(cost)\n",
    "    cost=abs.(cost)\n",
    "    if cost<=20\n",
    "        return 0\n",
    "    elseif cost<=40\n",
    "        return 1\n",
    "    elseif cost<=80\n",
    "        return 2\n",
    "    elseif cost<=120\n",
    "        return 3\n",
    "    elseif cost<=160\n",
    "        return 4\n",
    "    elseif cost<=210\n",
    "        return 5\n",
    "    elseif cost<=260\n",
    "        return 6\n",
    "    elseif cost<=310\n",
    "        return 7\n",
    "    elseif cost<=360\n",
    "        return 8\n",
    "    elseif cost<=420\n",
    "        return 9\n",
    "    elseif cost<=490\n",
    "        return 10\n",
    "    elseif cost<=590\n",
    "        return 11\n",
    "    elseif cost<=740\n",
    "        return 12\n",
    "    elseif cost<=890\n",
    "        return 13\n",
    "    elseif cost<=1090\n",
    "        return 14\n",
    "    elseif cost<=1290\n",
    "        return 15\n",
    "    elseif cost<=1490\n",
    "        return 16\n",
    "    elseif cost<=1740\n",
    "        return 17\n",
    "    elseif cost<=1990\n",
    "        return 18\n",
    "    elseif cost<=2240\n",
    "        return 19\n",
    "    elseif cost<=2490\n",
    "        return 20\n",
    "    elseif cost<=2990\n",
    "        return 21\n",
    "    elseif cost<=3490\n",
    "        return 22\n",
    "    elseif cost<=3990\n",
    "        return 23\n",
    "    else\n",
    "        return 24\n",
    "    end\n",
    "end"
   ]
  },
  {
   "cell_type": "code",
   "execution_count": 3,
   "metadata": {},
   "outputs": [
    {
     "data": {
      "text/plain": [
       "PBN_to_cost (generic function with 1 method)"
      ]
     },
     "execution_count": 3,
     "metadata": {},
     "output_type": "execute_result"
    }
   ],
   "source": [
    "cards_to_indices=Dict{String,Integer}(\"2\"=>1,\"3\"=>2,\"4\"=>3,\"5\"=>4,\"6\"=>5,\"7\"=>6,\"8\"=>7,\"9\"=>8,\"T\"=>9,\"J\"=>10,\"Q\"=>11,\"K\"=>12,\"A\"=>13);\n",
    "function PBN_to_vector(hand) # PBN formatted a hand is converted to 52-size vector\n",
    "    raw_data=zeros(52);\n",
    "    suits=split(hand,'.');\n",
    "    for i in 1:4\n",
    "        for card in suits[i]\n",
    "            raw_data[(i-1)*13+cards_to_indices[string(card)]]=1;\n",
    "        end\n",
    "    end\n",
    "    return raw_data\n",
    "end\n",
    "\n",
    "suit_order=Dict{Char,Integer}('N'=> 0,'S'=> 1,'H'=> 2,'D'=> 3,'C'=> 4);\n",
    "function PBN_to_cost(analysis_list) # PBN formatted a DDS-record is converted to (36,2)-size cost vector\n",
    "    costs=zeros(36,2);\n",
    "    for dds in analysis_list\n",
    "        for i in 2:36\n",
    "            contract=bids[i];\n",
    "            trump=contract[2];\n",
    "            trick_bid= parse(Int32,contract[1])+6;\n",
    "            # if north is the declarer then east is the leader\n",
    "            trick_count_n=parse(Int32,dds[suit_order[trump]*4+2],base=16);\n",
    "            # if south is the declarer then west is the leader\n",
    "            trick_count_s=parse(Int32,dds[suit_order[trump]*4+4],base=16);\n",
    "            costs[i,1] +=get_score(contract,trick_count_n);\n",
    "            costs[i,2] +=get_score(contract,trick_count_s);\n",
    "        end\n",
    "    end\n",
    "    costs=costs/length(analysis_list)\n",
    "    costs[:,1]= raw_score_to_imp.(costs[:,1] .- maximum(costs[:,1]))./25;\n",
    "    costs[:,2]= raw_score_to_imp.(costs[:,2] .- maximum(costs[:,2]))./25;\n",
    "    \n",
    "    return costs\n",
    "end"
   ]
  },
  {
   "cell_type": "code",
   "execution_count": null,
   "metadata": {},
   "outputs": [],
   "source": []
  }
 ],
 "metadata": {
  "kernelspec": {
   "display_name": "Julia 1.5.3",
   "language": "julia",
   "name": "julia-1.5"
  },
  "language_info": {
   "file_extension": ".jl",
   "mimetype": "application/julia",
   "name": "julia",
   "version": "1.5.3"
  }
 },
 "nbformat": 4,
 "nbformat_minor": 2
}
