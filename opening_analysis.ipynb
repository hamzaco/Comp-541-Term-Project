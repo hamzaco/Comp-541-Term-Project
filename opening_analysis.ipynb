{
 "cells": [
  {
   "cell_type": "code",
   "execution_count": null,
   "metadata": {},
   "outputs": [],
   "source": [
    "using Knet: Knet, dir, accuracy, progress, sgd, load, save, gc, Param, KnetArray, Data, minibatch, nll, relu, training, dropout\n",
    "using CUDA\n",
    "using LinearAlgebra\n",
    "using NBInclude\n",
    "using CUDA"
   ]
  },
  {
   "cell_type": "code",
   "execution_count": null,
   "metadata": {},
   "outputs": [],
   "source": [
    "@nbinclude(\"deal_features.ipynb\")\n",
    "@nbinclude(\"model.ipynb\")\n",
    "@nbinclude(\"explore.ipynb\")"
   ]
  },
  {
   "cell_type": "code",
   "execution_count": null,
   "metadata": {},
   "outputs": [],
   "source": [
    "if CUDA.functional()\n",
    "    atype = KnetArray{Float32};\n",
    "else\n",
    "    atype = Array{Float32};\n",
    "end"
   ]
  },
  {
   "cell_type": "code",
   "execution_count": null,
   "metadata": {},
   "outputs": [],
   "source": [
    "function opening_analysis(model,test_set)\n",
    "    bid_dict=Dict()\n",
    "    for i in 1:length(test_set)\n",
    "        north=test_set[i][1]\n",
    "        action,_=explore(model[1],atype(north),1,0)\n",
    "        bid=bids[action]\n",
    "        try\n",
    "            push!(bid_dict[bid],north)\n",
    "        catch\n",
    "            bid_dict[bid]=[north]\n",
    "        end\n",
    "    end \n",
    "    return bid_dict\n",
    "end"
   ]
  },
  {
   "cell_type": "code",
   "execution_count": null,
   "metadata": {},
   "outputs": [],
   "source": [
    "\n",
    "deal_data=load(\"deals.jld2\",\"deal_data_all\");\n"
   ]
  },
  {
   "cell_type": "code",
   "execution_count": null,
   "metadata": {},
   "outputs": [],
   "source": [
    "model=load(\"model_highest_feature.jld2\",\"q_networks\");"
   ]
  },
  {
   "cell_type": "code",
   "execution_count": null,
   "metadata": {},
   "outputs": [],
   "source": [
    "d=opening_analysis(model,deal_data);"
   ]
  },
  {
   "cell_type": "code",
   "execution_count": null,
   "metadata": {},
   "outputs": [],
   "source": [
    "for bid in keys(d)\n",
    "    hcps=[]\n",
    "    n=length(d[bid]);\n",
    "    dists=zeros(n,4);\n",
    "    balanced_count=0\n",
    "\n",
    "    for i in 1:n\n",
    "        hand=d[bid][i]\n",
    "        push!(hcps,hcp_of(hand))\n",
    "        dists[i,:]=distribution_of(hand)\n",
    "        balanced_count = balanced_count + is_balanced(hand)\n",
    "    end\n",
    "    sort!(hcps)\n",
    "    l=length(hcps)\n",
    "    s=Int(floor(0.1*l))+1\n",
    "    e=Int(floor(0.9*l))\n",
    "    #hcps=hcps[s:e]\n",
    "    if length(hcps)==0\n",
    "        continue\n",
    "    end\n",
    "    println(bid,\": \", minimum(hcps), \" - \",maximum(hcps) ,\", \", sum(dists,dims=1)./n, \", \", balanced_count/n)\n",
    "end"
   ]
  },
  {
   "cell_type": "code",
   "execution_count": null,
   "metadata": {},
   "outputs": [],
   "source": []
  },
  {
   "cell_type": "code",
   "execution_count": null,
   "metadata": {},
   "outputs": [],
   "source": []
  }
 ],
 "metadata": {
  "kernelspec": {
   "display_name": "Julia 1.5.3",
   "language": "julia",
   "name": "julia-1.5"
  },
  "language_info": {
   "file_extension": ".jl",
   "mimetype": "application/julia",
   "name": "julia",
   "version": "1.5.3"
  }
 },
 "nbformat": 4,
 "nbformat_minor": 2
}
