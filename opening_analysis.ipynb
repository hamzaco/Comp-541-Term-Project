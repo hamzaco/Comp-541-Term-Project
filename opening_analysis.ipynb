{
 "cells": [
  {
   "cell_type": "code",
   "execution_count": 11,
   "metadata": {},
   "outputs": [],
   "source": [
    "using Knet: Knet, dir, accuracy, progress, sgd, load, save, gc, Param, KnetArray, Data, minibatch, nll, relu, training, dropout\n",
    "using CUDA\n",
    "using LinearAlgebra\n",
    "using NBInclude\n",
    "using CUDA"
   ]
  },
  {
   "cell_type": "code",
   "execution_count": 81,
   "metadata": {},
   "outputs": [
    {
     "data": {
      "text/plain": [
       "explore (generic function with 1 method)"
      ]
     },
     "execution_count": 81,
     "metadata": {},
     "output_type": "execute_result"
    }
   ],
   "source": [
    "@nbinclude(\"deal_features.ipynb\")\n",
    "@nbinclude(\"model.ipynb\")\n",
    "@nbinclude(\"explore.ipynb\")"
   ]
  },
  {
   "cell_type": "code",
   "execution_count": 12,
   "metadata": {},
   "outputs": [
    {
     "data": {
      "text/plain": [
       "KnetArray{Float32,N} where N"
      ]
     },
     "execution_count": 12,
     "metadata": {},
     "output_type": "execute_result"
    }
   ],
   "source": [
    "if CUDA.functional()\n",
    "    atype = KnetArray{Float32};\n",
    "else\n",
    "    atype = Array{Float32};\n",
    "end"
   ]
  },
  {
   "cell_type": "code",
   "execution_count": 51,
   "metadata": {},
   "outputs": [
    {
     "data": {
      "text/plain": [
       "opening_analysis (generic function with 1 method)"
      ]
     },
     "execution_count": 51,
     "metadata": {},
     "output_type": "execute_result"
    }
   ],
   "source": [
    "function opening_analysis(model,test_set)\n",
    "    bid_dict=Dict()\n",
    "    for i in 1:length(test_set)\n",
    "        north=test_set[i][1]\n",
    "        action,_=explore(model[1],atype(north),1,0)\n",
    "        bid=bids[action]\n",
    "        try\n",
    "            push!(bid_dict[bid],north)\n",
    "        catch\n",
    "            bid_dict[bid]=[north]\n",
    "        end\n",
    "    end \n",
    "    return bid_dict\n",
    "end"
   ]
  },
  {
   "cell_type": "code",
   "execution_count": 8,
   "metadata": {},
   "outputs": [],
   "source": [
    "\n",
    "deal_data=load(\"deals.jld2\",\"deal_data_all\");\n"
   ]
  },
  {
   "cell_type": "code",
   "execution_count": 94,
   "metadata": {},
   "outputs": [],
   "source": [
    "model=load(\"model_median_feature.jld2\",\"q_networks\");"
   ]
  },
  {
   "cell_type": "code",
   "execution_count": 95,
   "metadata": {},
   "outputs": [
    {
     "data": {
      "text/plain": [
       "Dict{Any,Any} with 14 entries:\n",
       "  \"2C\" => [[0.0, 0.0, 0.0, 0.0, 1.0, 1.0, 1.0, 0.0, 0.0, 1.0  …  0.0, 0.0, 0.0,…\n",
       "  \"3C\" => [[0.0, 0.0, 0.0, 0.0, 1.0, 0.0, 0.0, 0.0, 0.0, 0.0  …  0.0, 1.0, 0.0,…\n",
       "  \"2S\" => [[0.0, 0.0, 1.0, 0.0, 0.0, 1.0, 0.0, 0.0, 1.0, 1.0  …  0.0, 0.0, 0.0,…\n",
       "  \"2N\" => [[0.0, 0.0, 0.0, 0.0, 0.0, 0.0, 0.0, 0.0, 0.0, 0.0  …  0.0, 0.0, 0.0,…\n",
       "  \"3H\" => [[0.0, 0.0, 0.0, 0.0, 0.0, 0.0, 0.0, 0.0, 0.0, 0.0  …  0.0, 0.0, 0.0,…\n",
       "  \"1H\" => [[0.0, 0.0, 1.0, 0.0, 0.0, 0.0, 0.0, 0.0, 0.0, 1.0  …  0.0, 0.0, 1.0,…\n",
       "  \"1D\" => [[1.0, 0.0, 0.0, 1.0, 0.0, 0.0, 0.0, 1.0, 0.0, 1.0  …  0.0, 0.0, 0.0,…\n",
       "  \"2H\" => [[1.0, 0.0, 1.0, 0.0, 0.0, 0.0, 0.0, 0.0, 0.0, 0.0  …  0.0, 0.0, 1.0,…\n",
       "  \"1S\" => [[0.0, 0.0, 0.0, 1.0, 1.0, 1.0, 1.0, 0.0, 0.0, 1.0  …  0.0, 0.0, 0.0,…\n",
       "  \"3S\" => [[0.0, 0.0, 0.0, 0.0, 0.0, 1.0, 1.0, 0.0, 1.0, 1.0  …  0.0, 0.0, 0.0,…\n",
       "  \"1C\" => [[0.0, 0.0, 0.0, 0.0, 1.0, 1.0, 0.0, 0.0, 0.0, 0.0  …  0.0, 0.0, 0.0,…\n",
       "  \"2D\" => [[0.0, 1.0, 0.0, 0.0, 0.0, 0.0, 0.0, 1.0, 0.0, 1.0  …  0.0, 0.0, 0.0,…\n",
       "  \"PA\" => [[1.0, 0.0, 0.0, 1.0, 0.0, 0.0, 0.0, 0.0, 0.0, 1.0  …  0.0, 1.0, 0.0,…\n",
       "  \"1N\" => [[0.0, 0.0, 1.0, 1.0, 0.0, 0.0, 0.0, 0.0, 0.0, 0.0  …  0.0, 0.0, 1.0,…"
      ]
     },
     "execution_count": 95,
     "metadata": {},
     "output_type": "execute_result"
    }
   ],
   "source": [
    "d=opening_analysis(model,deal_data)"
   ]
  },
  {
   "cell_type": "code",
   "execution_count": 96,
   "metadata": {},
   "outputs": [
    {
     "name": "stdout",
     "output_type": "stream",
     "text": [
      "2C: 14.0 - 27.0, [3.4035597529967307 2.0010897203051217 2.971304031965129 4.624046494733019], 0.4743915728296404\n",
      "3C: 24.0 - 28.0, [2.2857142857142856 2.7142857142857144 4.357142857142857 3.642857142857143], 0.5714285714285714\n",
      "2S: 17.0 - 28.0, [4.989637305699482 1.567357512953368 3.7797927461139897 2.6632124352331608], 0.24870466321243523\n",
      "2N: 25.0 - 28.0, [2.25 3.0 4.125 3.625], 0.75\n",
      "3H: 26.0 - 30.0, [3.75 4.5 3.0 1.75], 0.5\n",
      "1H: 8.0 - 23.0, [3.7192039800995027 4.305737976782753 1.9507794361525705 3.024278606965174], 0.38925373134328356\n",
      "1D: 8.0 - 20.0, [4.687718947052347 2.488739865879291 3.843559203282955 1.979981983785407], 0.34390951856671004\n",
      "2H: 16.0 - 28.0, [4.192675159235669 4.101114649681529 2.070063694267516 2.636146496815287], 0.4434713375796178\n",
      "1S: 10.0 - 23.0, [4.851942406954632 2.2242597120347734 3.4213528932355337 2.502444987775061], 0.4098071176310785\n",
      "3S: 27.0 - 30.0, [5.0 3.0 2.0 3.0], 0.5\n",
      "1C: 10.0 - 20.0, [2.602931709008072 3.0194374288119645 3.8694349527063836 3.5081959094735797], 0.5394691229634032\n",
      "2D: 15.0 - 25.0, [3.929936305732484 4.050955414012739 4.248407643312102 0.7707006369426752], 0.08280254777070063\n",
      "PA: 0.0 - 16.0, [3.1954865841378903 3.233584078659006 3.2654307093920907 3.305498627811013], 0.4840529921617406\n",
      "1N: 15.0 - 27.0, [2.38501213592233 3.026395631067961 4.440837378640777 3.147754854368932], 0.5743325242718447\n"
     ]
    }
   ],
   "source": [
    "for bid in keys(d)\n",
    "    hcps=[]\n",
    "    n=length(d[bid]);\n",
    "    dists=zeros(n,4);\n",
    "    balanced_count=0\n",
    "\n",
    "    for i in 1:n\n",
    "        hand=d[bid][i]\n",
    "        push!(hcps,hcp_of(hand))\n",
    "        dists[i,:]=distribution_of(hand)\n",
    "        balanced_count = balanced_count + is_balanced(hand)\n",
    "    end\n",
    "    println(bid,\": \", minimum(hcps), \" - \",maximum(hcps) ,\", \", sum(dists,dims=1)./n, \", \", balanced_count/n)\n",
    "    \n",
    "end"
   ]
  },
  {
   "cell_type": "code",
   "execution_count": null,
   "metadata": {},
   "outputs": [],
   "source": []
  }
 ],
 "metadata": {
  "kernelspec": {
   "display_name": "Julia 1.5.3",
   "language": "julia",
   "name": "julia-1.5"
  },
  "language_info": {
   "file_extension": ".jl",
   "mimetype": "application/julia",
   "name": "julia",
   "version": "1.5.3"
  }
 },
 "nbformat": 4,
 "nbformat_minor": 2
}
