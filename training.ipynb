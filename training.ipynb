{
 "cells": [
  {
   "cell_type": "code",
   "execution_count": null,
   "metadata": {},
   "outputs": [],
   "source": [
    "using Knet: Knet, dir, accuracy, progress, sgd, load, save, gc, Param, KnetArray, Data, minibatch, nll, relu, training, dropout\n",
    "using Statistics\n",
    "using CUDA\n",
    "using Random\n",
    "using LinearAlgebra\n",
    "using Knet\n",
    "using Plots; default(fmt=:png,ls=:auto)\n",
    "using ProgressBars\n",
    "using NBInclude\n",
    "@nbinclude(\"model.ipynb\")\n",
    "@nbinclude(\"deal_features.ipynb\")"
   ]
  },
  {
   "cell_type": "code",
   "execution_count": null,
   "metadata": {},
   "outputs": [],
   "source": [
    "if CUDA.functional()\n",
    "    atype = KnetArray{Float32};\n",
    "else\n",
    "    atype = Array{Float32};\n",
    "end"
   ]
  },
  {
   "cell_type": "code",
   "execution_count": null,
   "metadata": {},
   "outputs": [],
   "source": [
    "function initialize_model(;turn_depth=6, feature=nothing)\n",
    "    Q=[]\n",
    "    d=Dict([(\"lowest\",56),(\"median\",41),(\"highest\",45),(nothing,36)])\n",
    "    output_size=d[feature]\n",
    "    Q1=Chain(Dense(52,128),Dense(128,128),Dense(128,128),Dense(128,output_size,identity));\n",
    "    push!(Q,Q1);\n",
    "    for i in 2:turn_depth\n",
    "        push!(Q,Chain(Dense(52+36,128),Dense(128,128),Dense(128,128),Dense(128,output_size,identity)));\n",
    "    end\n",
    "    return Q\n",
    "end"
   ]
  },
  {
   "cell_type": "markdown",
   "metadata": {},
   "source": [
    "# Hand Reading From txt\n"
   ]
  },
  {
   "cell_type": "markdown",
   "metadata": {},
   "source": [
    "Generate a data instance from a PBN-formatted txt "
   ]
  },
  {
   "cell_type": "code",
   "execution_count": null,
   "metadata": {},
   "outputs": [],
   "source": [
    "@nbinclude(\"hand_reading.ipynb\")\n",
    "deal_data_dpass= read_deals([\"deals_new.txt\"],hand_type=\"double pass\");\n",
    "deal_data_slam= read_deals([\"deals_new.txt\"],hand_type=\"slam\");\n",
    "deal_data_all= read_deals([\"deals_new.txt\"]);"
   ]
  },
  {
   "cell_type": "code",
   "execution_count": null,
   "metadata": {},
   "outputs": [],
   "source": [
    "println(length(deal_data_dpass))\n",
    "println(length(deal_data_slam))\n",
    "println(length(deal_data_all))\n"
   ]
  },
  {
   "cell_type": "code",
   "execution_count": null,
   "metadata": {},
   "outputs": [],
   "source": [
    "deal_data=load(\"deals.jld2\",\"deal_data_all\");\n",
    "training_size=100000\n",
    "test_size=80000;\n",
    "training_set=deal_data[1:training_size];\n",
    "test_set=deal_data[training_size+1:training_size+test_size];"
   ]
  },
  {
   "cell_type": "markdown",
   "metadata": {},
   "source": [
    "# Main Learning Algorithm"
   ]
  },
  {
   "cell_type": "code",
   "execution_count": null,
   "metadata": {},
   "outputs": [],
   "source": [
    "@nbinclude(\"target_determine.ipynb\")\n",
    "@nbinclude(\"explore.ipynb\")\n",
    "@nbinclude(\"bid_functions.ipynb\")"
   ]
  },
  {
   "cell_type": "code",
   "execution_count": null,
   "metadata": {},
   "outputs": [],
   "source": [
    "function my_train!(Q,training_set,test_set,file;epochs=10,iteration_size=10000,progress=true,epsilon_greedy=0.05, \n",
    "        batch_size=50,turn_depth=6,epsilon_human=0,feature=nothing,all=false)\n",
    "    accuracies=[]\n",
    "    ave_imp_loss=[]\n",
    "    accuracies_test=[]\n",
    "    ave_imp_loss_test=[]\n",
    "    model_history=[]\n",
    "    if progress\n",
    "        iterator= ProgressBar(1:epochs)\n",
    "    else\n",
    "        iterator= 1:epochs;\n",
    "    end\n",
    "    \n",
    "    for i in iterator\n",
    "        database_target_training=database(turn_depth)\n",
    "        database_state_training=database(turn_depth)\n",
    "        if all\n",
    "            for j in 1:length(training_set)\n",
    "                bid!(Q,training_set[j],database_state_training,database_target_training,\n",
    "                epsilon_greedy,turn_depth=turn_depth,epsilon_human=epsilon_human,feature=feature);\n",
    "            end\n",
    "        else\n",
    "            for j in 1:iteration_size\n",
    "                bid!(Q,training_set[rand(1:end)],database_state_training,database_target_training,\n",
    "                    epsilon_greedy,turn_depth=turn_depth,epsilon_human=epsilon_human,feature=feature);\n",
    "            end\n",
    "        end\n",
    "        if all\n",
    "            accuracy,ave_imp=model_accuracy([Q],training_set,turn_depth=turn_depth,\n",
    "            epsilon_human=epsilon_human,feature=feature);\n",
    "        else\n",
    "            accuracy,ave_imp=model_accuracy([Q],training_set[randperm(iteration_size)],turn_depth=turn_depth,\n",
    "            epsilon_human=epsilon_human,feature=feature);\n",
    "        end\n",
    "        push!(accuracies,accuracy);\n",
    "        push!(ave_imp_loss,ave_imp);\n",
    "        \n",
    "        accuracy,ave_imp=model_accuracy([Q],test_set,turn_depth=turn_depth,epsilon_human=epsilon_human,feature=feature);\n",
    "        push!(accuracies_test,accuracy);\n",
    "        push!(ave_imp_loss_test,ave_imp);\n",
    "        push!(model_history,Q);\n",
    "        #Experience Replay\n",
    "        for t in 2:turn_depth\n",
    "            if length(database_state_training.data[t])==0\n",
    "                continue\n",
    "            end\n",
    "            data=minibatch(hcat(database_state_training.data[t]...),hcat(database_target_training.data[t]...),batch_size,shuffle=true);\n",
    "            if summary(data)[1]=='0'#if no minibatch\n",
    "            else\n",
    "                Knet.rmsprop!(Q[t],data);\n",
    "            end\n",
    "        end\n",
    "        \n",
    "    end\n",
    "    \n",
    "    best_model_index=findmin(ave_imp_loss_test)[2];\n",
    "    best_model=model_history[best_model_index];\n",
    "    Knet.save(file,\"q_networks\",Q, \"accuracies\",(accuracies,accuracies_test),\"ave_imp_loss\",(ave_imp_loss,ave_imp_loss_test),\n",
    "     \"best_model_index\",best_model_index,\"best_model\",best_model);\n",
    "    return accuracies, ave_imp_loss, accuracies_test,ave_imp_loss_test,best_model_index,model_history\n",
    "end\n",
    "\n",
    "    "
   ]
  },
  {
   "cell_type": "code",
   "execution_count": null,
   "metadata": {
    "scrolled": true
   },
   "outputs": [],
   "source": [
    "Q=initialize_model();\n",
    "my_train!(Q,training_set,test_set,\"model_eh1_eg01.jld2\",epochs=200,progress=true,\n",
    "    epsilon_greedy=0.01,epsilon_human=1);"
   ]
  },
  {
   "cell_type": "markdown",
   "metadata": {},
   "source": [
    "# Different Epsilon Greedy models"
   ]
  },
  {
   "cell_type": "code",
   "execution_count": null,
   "metadata": {},
   "outputs": [],
   "source": [
    "Q=initialize_model();\n",
    "my_train!(Q,training_set,test_set,\"model_eh1_eg1.jld2\",epochs=200,progress=true,\n",
    "    epsilon_greedy=0.1);"
   ]
  },
  {
   "cell_type": "code",
   "execution_count": null,
   "metadata": {},
   "outputs": [],
   "source": [
    "Q=initialize_model();\n",
    "my_train!(Q,training_set,test_set,\"model_eh1_eg01.jld2\",epochs=200,progress=true,\n",
    "    epsilon_greedy=0.01);"
   ]
  },
  {
   "cell_type": "code",
   "execution_count": null,
   "metadata": {},
   "outputs": [],
   "source": [
    "Q=initialize_model();\n",
    "my_train!(Q,training_set,test_set,\"model_eh1_eg05.jld2\",epochs=200,progress=true,\n",
    "    epsilon_greedy=0.05);"
   ]
  },
  {
   "cell_type": "code",
   "execution_count": null,
   "metadata": {},
   "outputs": [],
   "source": [
    "Q=initialize_model();\n",
    "my_train!(Q,training_set,test_set,\"model_eh1_eg005.jld2\",epochs=200,progress=true,\n",
    "    epsilon_greedy=0.005);"
   ]
  },
  {
   "cell_type": "markdown",
   "metadata": {},
   "source": [
    "# Human bidding incorporated model"
   ]
  },
  {
   "cell_type": "code",
   "execution_count": null,
   "metadata": {},
   "outputs": [],
   "source": [
    "Q=initialize_model();\n",
    "my_train!(Q,training_set,test_set,\"model_eh1_eg05.jld2\",epochs=200,progress=true,\n",
    "    epsilon_greedy=0.05,epsilon_human=1);\n"
   ]
  },
  {
   "cell_type": "markdown",
   "metadata": {},
   "source": [
    "# Featured Models"
   ]
  },
  {
   "cell_type": "code",
   "execution_count": null,
   "metadata": {},
   "outputs": [],
   "source": [
    "f=\"lowest\"\n",
    "Q=initialize_model(feature=f);\n",
    "my_train!(Q,training_set,test_set,\"model_eh1_eg005.jld2\",epochs=200,progress=true,\n",
    "    epsilon_greedy=0.05,feature=f);"
   ]
  },
  {
   "cell_type": "code",
   "execution_count": null,
   "metadata": {},
   "outputs": [],
   "source": [
    "f=\"median\"\n",
    "Q=initialize_model(feature=f);\n",
    "my_train!(Q,training_set,test_set,\"model_eh1_eg005.jld2\",epochs=200,progress=true,\n",
    "    epsilon_greedy=0.05,feature=f);"
   ]
  },
  {
   "cell_type": "code",
   "execution_count": null,
   "metadata": {},
   "outputs": [],
   "source": [
    "f=\"highest\"\n",
    "Q=initialize_model(feature=f);\n",
    "my_train!(Q,training_set,test_set,\"model_eh1_eg005.jld2\",epochs=200,progress=true,\n",
    "    epsilon_greedy=0.05,feature=f);"
   ]
  },
  {
   "cell_type": "code",
   "execution_count": null,
   "metadata": {},
   "outputs": [],
   "source": []
  }
 ],
 "metadata": {
  "@webio": {
   "lastCommId": null,
   "lastKernelId": null
  },
  "kernelspec": {
   "display_name": "Julia 1.5.3",
   "language": "julia",
   "name": "julia-1.5"
  },
  "language_info": {
   "file_extension": ".jl",
   "mimetype": "application/julia",
   "name": "julia",
   "version": "1.5.3"
  }
 },
 "nbformat": 4,
 "nbformat_minor": 4
}
