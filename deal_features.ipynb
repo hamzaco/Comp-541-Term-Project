{
 "cells": [
  {
   "cell_type": "code",
   "execution_count": 2,
   "metadata": {},
   "outputs": [],
   "source": [
    "using Random\n",
    "using LinearAlgebra"
   ]
  },
  {
   "cell_type": "code",
   "execution_count": 7,
   "metadata": {},
   "outputs": [],
   "source": [
    "bids=[\"PA\",\n",
    "  \"1C\", \"1D\", \"1H\", \"1S\", \"1N\",\n",
    "  \"2C\", \"2D\", \"2H\", \"2S\", \"2N\",\n",
    "  \"3C\", \"3D\", \"3H\", \"3S\", \"3N\",\n",
    "  \"4C\", \"4D\", \"4H\", \"4S\", \"4N\",\n",
    "  \"5C\", \"5D\", \"5H\", \"5S\", \"5N\",\n",
    "  \"6C\", \"6D\", \"6H\", \"6S\", \"6N\",\n",
    "  \"7C\", \"7D\", \"7H\", \"7S\", \"7N\"];"
   ]
  },
  {
   "cell_type": "code",
   "execution_count": 2,
   "metadata": {},
   "outputs": [
    {
     "data": {
      "text/plain": [
       "human_readable (generic function with 1 method)"
      ]
     },
     "execution_count": 2,
     "metadata": {},
     "output_type": "execute_result"
    }
   ],
   "source": [
    "## entries:   (1 2 3 4 5 6 7 8 9 10 11 12 13)--> spades 14 15 16 17 18 19 20 21 22 23 24 25 26\n",
    "## correspnds (2 3 4 5 6 7 8 9 T  J  Q  K  A).. so on\n",
    "\n",
    "function random_hand(;remaining=ones(52,1)) #input: remaininn deal,  output: a random hand \n",
    "    cards_in_deal=[j for j in 1:52 if remaining[j]==1]\n",
    "    shuffle!(cards_in_deal)\n",
    "    hand= [ifelse(j in cards_in_deal[1:13],1,0) for j in 1:52];\n",
    "    return hand\n",
    "end\n",
    "\n",
    "function random_deal(hands=[])\n",
    "    remaining = ones(52,1);\n",
    "    all_hands=zeros(52,4);\n",
    "    for i in 1:length(hands)                #write given pre-dealt hands\n",
    "            remaining = remaining-hands[i];\n",
    "            all_hands[:,i]=hands[i];\n",
    "    end\n",
    "    generated_hands=4-length(hands);\n",
    "    for i in 1:generated_hands              #generate remaining hands\n",
    "        hand=random_hand(remaining=remaining);\n",
    "        remaining = remaining-hand;\n",
    "        all_hands[:,i+length(hands)]=hand;\n",
    "    end\n",
    "    \n",
    "    return all_hands #returns 52x4 matrix each column is a hand, they are in order as N,S,E,W\n",
    "end\n",
    "\n",
    "\n",
    "\n",
    "#features\n",
    "\n",
    "function hcp_of(hand;suit_seperated=false) #calculates the HCP of a hand both total or suit seperated\n",
    "    points=[1,2,3,4]\n",
    "    if suit_seperated\n",
    "        return [dot(points,hand[10:13]),dot(points,hand[23:26]),dot(points,hand[36:39]),dot(points,hand[49:52])]\n",
    "    end\n",
    "    honours=hand[10:13]+hand[23:26]+hand[36:39]+hand[49:52]\n",
    "    return dot(honours,points)\n",
    "end\n",
    "\n",
    "function distribution_of(hand) #returns the card number of each suit in the order S,H,D,C\n",
    "   return [sum(hand[1:13]),sum(hand[14:26]),sum(hand[27:39]),sum(hand[40:52])] \n",
    "end\n",
    "            \n",
    "function is_balanced(hand)\n",
    "    dist=distribution_of(hand)\n",
    "    sort!(dist,rev=true)\n",
    "    balanced_dist=[[4, 4, 3, 2], [4, 3, 3, 3], [5, 3, 3, 2]]\n",
    "    return dist in balanced_dist\n",
    "end\n",
    "#tools\n",
    "\n",
    "function human_readable(hand)\n",
    "    to_cards=[\"2\",\"3\",\"4\",\"5\",\"6\",\"7\",\"8\",\"9\",\"T\",\"J\",\"Q\",\"K\",\"A\"]\n",
    "    suits=[]\n",
    "    for i in 1:4\n",
    "        suit=hand[13*(i-1)+1:13*i]\n",
    "        cards= [to_cards[j] for j in 13:-1:1 if suit[j]==1]\n",
    "        push!(suits,join(cards))\n",
    "    end\n",
    "    return suits\n",
    "end\n"
   ]
  },
  {
   "cell_type": "code",
   "execution_count": null,
   "metadata": {},
   "outputs": [],
   "source": []
  }
 ],
 "metadata": {
  "kernelspec": {
   "display_name": "Julia 1.5.3",
   "language": "julia",
   "name": "julia-1.5"
  },
  "language_info": {
   "file_extension": ".jl",
   "mimetype": "application/julia",
   "name": "julia",
   "version": "1.5.3"
  }
 },
 "nbformat": 4,
 "nbformat_minor": 2
}
