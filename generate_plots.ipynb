{
 "cells": [
  {
   "cell_type": "code",
   "execution_count": 3,
   "metadata": {},
   "outputs": [],
   "source": [
    "using Knet: Knet, load, save; \n",
    "using Plots; default(fmt=:png,ls=:auto)\n",
    "using NBInclude"
   ]
  },
  {
   "cell_type": "markdown",
   "metadata": {},
   "source": [
    "# EPSILON GREEDY EXPERIMENTS"
   ]
  },
  {
   "cell_type": "code",
   "execution_count": 4,
   "metadata": {},
   "outputs": [
    {
     "data": {
      "text/plain": [
       "188"
      ]
     },
     "execution_count": 4,
     "metadata": {},
     "output_type": "execute_result"
    }
   ],
   "source": [
    "accuracies_01=load(\"model_eg01.jld2\",\"accuracies\")\n",
    "accuracies_1=load(\"model_eg1.jld2\",\"accuracies\")\n",
    "accuracies_05=load(\"model_eg05.jld2\",\"accuracies\")\n",
    "accuracies_005=load(\"model_eg005.jld2\",\"accuracies\")\n",
    "\n",
    "ave_imp_loss_01=load(\"model_eg01.jld2\",\"ave_imp_loss\")\n",
    "ave_imp_loss_1=load(\"model_eg1.jld2\",\"ave_imp_loss\")\n",
    "ave_imp_loss_05=load(\"model_eg05.jld2\",\"ave_imp_loss\")\n",
    "ave_imp_loss_005=load(\"model_eg005.jld2\",\"ave_imp_loss\")\n",
    "\n",
    "best_model_index_01=load(\"model_eg01.jld2\",\"best_model_index\")\n",
    "best_model_index_1=load(\"model_eg1.jld2\",\"best_model_index\")\n",
    "best_model_index_05=load(\"model_eg05.jld2\",\"best_model_index\")\n",
    "best_model_index_005=load(\"model_eg005.jld2\",\"best_model_index\")\n"
   ]
  },
  {
   "cell_type": "markdown",
   "metadata": {},
   "source": [
    "# Epsilon Greedy=0.005, 200 Epochs, 100k training, 80k test"
   ]
  },
  {
   "cell_type": "code",
   "execution_count": null,
   "metadata": {},
   "outputs": [],
   "source": [
    "plot(accuracies_005[1],xlabel=\"Epoch\",ylabel=\"Accuracy\",label=\"Training\")\n",
    "plot!(accuracies_005[2],xlabel=\"Epoch\",ylabel=\"Accuracy\",label=\"Test\")\n"
   ]
  },
  {
   "cell_type": "code",
   "execution_count": null,
   "metadata": {},
   "outputs": [],
   "source": [
    "plot(ave_imp_loss_005[1],xlabel=\"Epoch\",ylabel=\"Average IMP loss against DD\",label=\"Training\")\n",
    "plot!(ave_imp_loss_005[2],xlabel=\"Epoch\",ylabel=\"Average IMP loss against DD\",label=\"Test\")"
   ]
  },
  {
   "cell_type": "markdown",
   "metadata": {},
   "source": [
    "# Epsilon Greedy=0.01, 200 Epochs, 100k training, 80k test\n"
   ]
  },
  {
   "cell_type": "code",
   "execution_count": null,
   "metadata": {},
   "outputs": [],
   "source": [
    "plot(accuracies_01[1],xlabel=\"Epoch\",ylabel=\"Accuracy\",label=\"Training\")\n",
    "plot!(accuracies_01[2],xlabel=\"Epoch\",ylabel=\"Accuracy\",label=\"Test\")"
   ]
  },
  {
   "cell_type": "code",
   "execution_count": null,
   "metadata": {},
   "outputs": [],
   "source": [
    "plot(ave_imp_loss_01[1],xlabel=\"Epoch\",ylabel=\"Average IMP loss against DD\",label=\"Training\")\n",
    "plot!(ave_imp_loss_01[2],xlabel=\"Epoch\",ylabel=\"Average IMP loss against DD\",label=\"Test\")\n"
   ]
  },
  {
   "cell_type": "markdown",
   "metadata": {},
   "source": [
    "# Epsilon Greedy=0.05, 200 Epochs, 100k training, 80k test\n"
   ]
  },
  {
   "cell_type": "code",
   "execution_count": null,
   "metadata": {},
   "outputs": [],
   "source": [
    "plot(accuracies_05[1],xlabel=\"Epoch\",ylabel=\"Accuracy\",label=\"Training\")\n",
    "plot!(accuracies_05[2],xlabel=\"Epoch\",ylabel=\"Accuracy\",label=\"Test\")"
   ]
  },
  {
   "cell_type": "code",
   "execution_count": null,
   "metadata": {},
   "outputs": [],
   "source": [
    "plot(ave_imp_loss_01[1],xlabel=\"Epoch\",ylabel=\"Average IMP loss against DD\",label=\"Training\")\n",
    "plot!(ave_imp_loss_01[2],xlabel=\"Epoch\",ylabel=\"Average IMP loss against DD\",label=\"Test\")\n"
   ]
  },
  {
   "cell_type": "markdown",
   "metadata": {},
   "source": [
    "# Epsilon Greedy=0.1, 200 Epochs, 100k training, 80k test\n"
   ]
  },
  {
   "cell_type": "code",
   "execution_count": null,
   "metadata": {},
   "outputs": [],
   "source": [
    "plot(accuracies_1[1],xlabel=\"Epoch\",ylabel=\"Accuracy\",label=\"Training\")\n",
    "plot!(accuracies_1[2],xlabel=\"Epoch\",ylabel=\"Accuracy\",label=\"Test\")"
   ]
  },
  {
   "cell_type": "code",
   "execution_count": null,
   "metadata": {},
   "outputs": [],
   "source": [
    "plot(ave_imp_loss_1[1],xlabel=\"Epoch\",ylabel=\"Average IMP loss against DD\",label=\"Training\")\n",
    "plot!(ave_imp_loss_1[2],xlabel=\"Epoch\",ylabel=\"Average IMP loss against DD\",label=\"Test\")\n"
   ]
  },
  {
   "cell_type": "code",
   "execution_count": 5,
   "metadata": {},
   "outputs": [
    {
     "name": "stdout",
     "output_type": "stream",
     "text": [
      "Epsilon greedy=0.005: Accuracy: 0.369825, Ave IMP loss: 2.691204000000568\n",
      "Epsilon greedy=0.01: Accuracy: 0.3717625, Ave IMP loss: 2.656608000000562\n",
      "Epsilon greedy=0.05: Accuracy: 0.3697125, Ave IMP loss: 2.7236640000005425\n",
      "Epsilon greedy=0.1: Accuracy: 0.35745, Ave IMP loss: 2.741700000000598\n"
     ]
    }
   ],
   "source": [
    "println(\"Epsilon greedy=0.005: \", \"Accuracy: \", accuracies_005[2][best_model_index_005], \n",
    "    \", Ave IMP loss: \", ave_imp_loss_005[2][best_model_index_005] )\n",
    "println(\"Epsilon greedy=0.01: \", \"Accuracy: \", accuracies_01[2][best_model_index_01], \n",
    "    \", Ave IMP loss: \", ave_imp_loss_01[2][best_model_index_01] )\n",
    "println(\"Epsilon greedy=0.05: \", \"Accuracy: \", accuracies_05[2][best_model_index_05], \n",
    "    \", Ave IMP loss: \", ave_imp_loss_05[2][best_model_index_05] )\n",
    "println(\"Epsilon greedy=0.1: \", \"Accuracy: \", accuracies_1[2][best_model_index_1], \n",
    "    \", Ave IMP loss: \", ave_imp_loss_1[2][best_model_index_1] )"
   ]
  },
  {
   "cell_type": "markdown",
   "metadata": {},
   "source": [
    "# FEATURE EXPERIMENTS"
   ]
  },
  {
   "cell_type": "code",
   "execution_count": 6,
   "metadata": {},
   "outputs": [
    {
     "data": {
      "text/plain": [
       "134"
      ]
     },
     "execution_count": 6,
     "metadata": {},
     "output_type": "execute_result"
    }
   ],
   "source": [
    "accuracies_lo=load(\"model_lowest_feature.jld2\",\"accuracies\")\n",
    "accuracies_me=load(\"model_median_feature.jld2\",\"accuracies\")\n",
    "accuracies_hi=load(\"model_highest_feature.jld2\",\"accuracies\")\n",
    "\n",
    "ave_imp_loss_lo=load(\"model_lowest_feature.jld2\",\"ave_imp_loss\")\n",
    "ave_imp_loss_me=load(\"model_median_feature.jld2\",\"ave_imp_loss\")\n",
    "ave_imp_loss_hi=load(\"model_highest_feature.jld2\",\"ave_imp_loss\")\n",
    "\n",
    "best_model_index_lo=load(\"model_lowest_feature.jld2\",\"best_model_index\")\n",
    "best_model_index_me=load(\"model_median_feature.jld2\",\"best_model_index\")\n",
    "best_model_index_hi=load(\"model_highest_feature.jld2\",\"best_model_index\")\n"
   ]
  },
  {
   "cell_type": "markdown",
   "metadata": {},
   "source": [
    "# Lowest level feature, Epsilon Greedy=0.05, 200 Epochs, 100k training, 80k test\n"
   ]
  },
  {
   "cell_type": "code",
   "execution_count": null,
   "metadata": {},
   "outputs": [],
   "source": [
    "plot(accuracies_lo[1],xlabel=\"Epoch\",ylabel=\"Accuracy\",label=\"Training\")\n",
    "plot!(accuracies_lo[2],xlabel=\"Epoch\",ylabel=\"Accuracy\",label=\"Test\")"
   ]
  },
  {
   "cell_type": "code",
   "execution_count": null,
   "metadata": {},
   "outputs": [],
   "source": [
    "plot(ave_imp_loss_lo[1],xlabel=\"Epoch\",ylabel=\"Average IMP loss against DD\",label=\"Training\")\n",
    "plot!(ave_imp_loss_lo[2],xlabel=\"Epoch\",ylabel=\"Average IMP loss against DD\",label=\"Test\")"
   ]
  },
  {
   "cell_type": "markdown",
   "metadata": {},
   "source": [
    "# Median level feature, Epsilon Greedy=0.05, 200 Epochs, 100k training, 80k test\n"
   ]
  },
  {
   "cell_type": "code",
   "execution_count": null,
   "metadata": {},
   "outputs": [],
   "source": [
    "plot(accuracies_me[1],xlabel=\"Epoch\",ylabel=\"Accuracy\",label=\"Training\")\n",
    "plot!(accuracies_me[2],xlabel=\"Epoch\",ylabel=\"Accuracy\",label=\"Test\")"
   ]
  },
  {
   "cell_type": "code",
   "execution_count": null,
   "metadata": {},
   "outputs": [],
   "source": [
    "plot(ave_imp_loss_me[1],xlabel=\"Epoch\",ylabel=\"Average IMP loss against DD\",label=\"Training\")\n",
    "plot!(ave_imp_loss_me[2],xlabel=\"Epoch\",ylabel=\"Average IMP loss against DD\",label=\"Test\")"
   ]
  },
  {
   "cell_type": "markdown",
   "metadata": {},
   "source": [
    "# Highest level feature, Epsilon Greedy=0.05, 200 Epochs, 100k training, 80k test\n"
   ]
  },
  {
   "cell_type": "code",
   "execution_count": null,
   "metadata": {},
   "outputs": [],
   "source": [
    "plot(accuracies_hi[1],xlabel=\"Epoch\",ylabel=\"Accuracy\",label=\"Training\")\n",
    "plot!(accuracies_hi[2],xlabel=\"Epoch\",ylabel=\"Accuracy\",label=\"Test\")"
   ]
  },
  {
   "cell_type": "code",
   "execution_count": null,
   "metadata": {},
   "outputs": [],
   "source": [
    "plot(ave_imp_loss_me[1],xlabel=\"Epoch\",ylabel=\"Average IMP loss against DD\",label=\"Training\")\n",
    "plot!(ave_imp_loss_me[2],xlabel=\"Epoch\",ylabel=\"Average IMP loss against DD\",label=\"Test\")"
   ]
  },
  {
   "cell_type": "code",
   "execution_count": 7,
   "metadata": {},
   "outputs": [
    {
     "name": "stdout",
     "output_type": "stream",
     "text": [
      "Lowest: Accuracy: 0.361825, Ave IMP loss: 2.744076000000575\n",
      "Median: Accuracy: 0.370275, Ave IMP loss: 2.7070320000005594\n",
      "Highest: Accuracy: 0.36265, Ave IMP loss: 2.7634320000005688\n"
     ]
    }
   ],
   "source": [
    "println(\"Lowest: \", \"Accuracy: \", accuracies_lo[2][best_model_index_lo], \n",
    "    \", Ave IMP loss: \", ave_imp_loss_lo[2][best_model_index_lo] )\n",
    "println(\"Median: \", \"Accuracy: \", accuracies_me[2][best_model_index_me], \n",
    "    \", Ave IMP loss: \", ave_imp_loss_me[2][best_model_index_me] )\n",
    "println(\"Highest: \", \"Accuracy: \", accuracies_hi[2][best_model_index_hi], \n",
    "    \", Ave IMP loss: \", ave_imp_loss_hi[2][best_model_index_hi] )\n"
   ]
  },
  {
   "cell_type": "markdown",
   "metadata": {},
   "source": [
    "# Epsilon Human = 1, Epsilon Greedy=0.05, 200 Epochs, 100k training, 80k test"
   ]
  },
  {
   "cell_type": "code",
   "execution_count": 8,
   "metadata": {},
   "outputs": [
    {
     "data": {
      "text/plain": [
       "101"
      ]
     },
     "execution_count": 8,
     "metadata": {},
     "output_type": "execute_result"
    }
   ],
   "source": [
    "accuracies_e=load(\"model_ehuman1.jld2\",\"accuracies\")\n",
    "ave_imp_loss_e=load(\"model_ehuman1.jld2\",\"ave_imp_loss\")\n",
    "best_model_index_e=load(\"model_ehuman1.jld2\",\"best_model_index\")\n",
    "\n"
   ]
  },
  {
   "cell_type": "code",
   "execution_count": null,
   "metadata": {},
   "outputs": [],
   "source": [
    "plot(accuracies_e[1],xlabel=\"Epoch\",ylabel=\"Accuracy\",label=\"Training\")\n",
    "plot!(accuracies_e[2],xlabel=\"Epoch\",ylabel=\"Accuracy\",label=\"Test\")"
   ]
  },
  {
   "cell_type": "code",
   "execution_count": null,
   "metadata": {},
   "outputs": [],
   "source": [
    "plot(ave_imp_loss_e[1],xlabel=\"Epoch\",ylabel=\"Average IMP loss against DD\",label=\"Training\")\n",
    "plot!(ave_imp_loss_e[2],xlabel=\"Epoch\",ylabel=\"Average IMP loss against DD\",label=\"Test\")"
   ]
  },
  {
   "cell_type": "code",
   "execution_count": 9,
   "metadata": {},
   "outputs": [
    {
     "name": "stdout",
     "output_type": "stream",
     "text": [
      "Accuracy: 0.39335, Ave IMP loss: 2.5523040000005133\n"
     ]
    }
   ],
   "source": [
    "println(\"Accuracy: \", accuracies_e[2][best_model_index_e], \n",
    "    \", Ave IMP loss: \", ave_imp_loss_e[2][best_model_index_e] )"
   ]
  },
  {
   "cell_type": "code",
   "execution_count": null,
   "metadata": {},
   "outputs": [],
   "source": []
  },
  {
   "cell_type": "code",
   "execution_count": null,
   "metadata": {},
   "outputs": [],
   "source": []
  }
 ],
 "metadata": {
  "kernelspec": {
   "display_name": "Julia 1.5.3",
   "language": "julia",
   "name": "julia-1.5"
  },
  "language_info": {
   "file_extension": ".jl",
   "mimetype": "application/julia",
   "name": "julia",
   "version": "1.5.3"
  }
 },
 "nbformat": 4,
 "nbformat_minor": 2
}
