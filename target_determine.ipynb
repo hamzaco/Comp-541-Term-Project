{
 "cells": [
  {
   "cell_type": "code",
   "execution_count": 1,
   "metadata": {},
   "outputs": [
    {
     "data": {
      "text/plain": [
       "determine_target (generic function with 2 methods)"
      ]
     },
     "execution_count": 1,
     "metadata": {},
     "output_type": "execute_result"
    }
   ],
   "source": [
    "function determine_target(cost,current_bid;feature=nothing,hand=nothing) #with penetrative bellman equation\n",
    "    if feature==nothing\n",
    "        for i in 35:-1:current_bid\n",
    "            cost[i]=min(cost[i],cost[i+1]);\n",
    "        end\n",
    "        #cost[1:current_bid-1].=1.2  #it is shown that this is not a good idea.\n",
    "        return cost;   \n",
    "    end\n",
    "    for i in 35:-1:current_bid     #update the cost with penetrative Bellman\n",
    "        cost[i]=min(cost[i],cost[i+1]);\n",
    "    end\n",
    "    hcps=hcp_of(hand,suit_seperated=true)./10\n",
    "    dist=distribution_of(hand)./3\n",
    "    \n",
    "    if feature==\"lowest\"\n",
    "        return vcat(cost,hand[10:13],hand[23:26],hand[36:39],hand[49:52],dist) #16 dimensions for presence of honours and 4 for dist\n",
    "    elseif feature==\"median\"\n",
    "        return vcat(cost,dist,[sum(hcps)]) #4 dimensions for distribution and 1 for the total HCP\n",
    "    elseif feature==\"highest\"\n",
    "        return vcat(cost,dist,[sum(hcps)],hcps) #4 dimensions for distribution and 1 for the total HCP and 4 for suit based HCP\n",
    "    end\n",
    "end\n"
   ]
  },
  {
   "cell_type": "code",
   "execution_count": null,
   "metadata": {},
   "outputs": [],
   "source": []
  }
 ],
 "metadata": {
  "kernelspec": {
   "display_name": "Julia 1.5.3",
   "language": "julia",
   "name": "julia-1.5"
  },
  "language_info": {
   "file_extension": ".jl",
   "mimetype": "application/julia",
   "name": "julia",
   "version": "1.5.3"
  }
 },
 "nbformat": 4,
 "nbformat_minor": 2
}
