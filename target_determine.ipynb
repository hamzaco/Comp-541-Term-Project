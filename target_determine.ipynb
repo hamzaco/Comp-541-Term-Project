{
 "cells": [
  {
   "cell_type": "code",
   "execution_count": 1,
   "metadata": {},
   "outputs": [
    {
     "data": {
      "text/plain": [
       "determine_target (generic function with 2 methods)"
      ]
     },
     "execution_count": 1,
     "metadata": {},
     "output_type": "execute_result"
    }
   ],
   "source": [
    "function determine_target(cost,current_bid,method=\"penetrative\")\n",
    "    if method==\"penetrative\" \n",
    "        for i in 35:-1:1\n",
    "            cost[i]=min(cost[i],cost[i+1]);\n",
    "        end\n",
    "        return cost;\n",
    "    end\n",
    "    \n",
    "    #to do implement classic bellman equation\n",
    "    return cost;\n",
    "    \n",
    "end\n"
   ]
  },
  {
   "cell_type": "code",
   "execution_count": null,
   "metadata": {},
   "outputs": [],
   "source": []
  }
 ],
 "metadata": {
  "kernelspec": {
   "display_name": "Julia 1.5.3",
   "language": "julia",
   "name": "julia-1.5"
  },
  "language_info": {
   "file_extension": ".jl",
   "mimetype": "application/julia",
   "name": "julia",
   "version": "1.5.3"
  }
 },
 "nbformat": 4,
 "nbformat_minor": 2
}
