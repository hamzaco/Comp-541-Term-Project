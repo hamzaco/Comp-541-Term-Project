{
 "cells": [
  {
   "cell_type": "code",
   "execution_count": 1,
   "metadata": {},
   "outputs": [
    {
     "data": {
      "text/plain": [
       "determine_target (generic function with 2 methods)"
      ]
     },
     "execution_count": 1,
     "metadata": {},
     "output_type": "execute_result"
    }
   ],
   "source": [
    "function determine_target(cost,current_bid,method=\"penetrative\")\n",
    "    if method==\"penetrative\" \n",
    "        optimal_bid=findall(x -> x==0 ,cost)[end];\n",
    "        cost[1:current_bid-1].= 2;\n",
    "        if optimal_bid >= current_bid\n",
    "            cost[current_bid:optimal_bid].= 0;\n",
    "        end\n",
    "        for i in max(optimal_bid,current_bid):36\n",
    "            cost[i]=minimum(cost[i:end])\n",
    "        end\n",
    "        return cost;\n",
    "    end\n",
    "    \n",
    "    #to do implement classic bellman equation\n",
    "    return cost;\n",
    "    \n",
    "end\n"
   ]
  }
 ],
 "metadata": {
  "kernelspec": {
   "display_name": "Julia 1.5.3",
   "language": "julia",
   "name": "julia-1.5"
  },
  "language_info": {
   "file_extension": ".jl",
   "mimetype": "application/julia",
   "name": "julia",
   "version": "1.5.3"
  }
 },
 "nbformat": 4,
 "nbformat_minor": 2
}
